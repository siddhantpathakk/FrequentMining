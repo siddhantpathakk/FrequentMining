{
 "cells": [
  {
   "cell_type": "code",
   "execution_count": 71,
   "metadata": {},
   "outputs": [],
   "source": [
    "import pandas as pd\n",
    "import warnings\n",
    "warnings.filterwarnings('ignore')"
   ]
  },
  {
   "cell_type": "code",
   "execution_count": 72,
   "metadata": {},
   "outputs": [
    {
     "data": {
      "text/plain": [
       "10             [apple, carrot, durian]\n",
       "20           [banana, carrot, edamame]\n",
       "30    [apple, banana, carrot, edamame]\n",
       "40                   [banana, edamame]\n",
       "Name: 0, dtype: object"
      ]
     },
     "execution_count": 72,
     "metadata": {},
     "output_type": "execute_result"
    }
   ],
   "source": [
    "# Using the example from the lecture notes\n",
    "txn_dict = {'10': 'apple,carrot,durian', \n",
    "            '20': 'banana,carrot,edamame',\n",
    "            '30': 'apple,banana,carrot,edamame', \n",
    "            '40': 'banana,edamame'\n",
    "            }\n",
    "\n",
    "trans_df = pd.DataFrame.from_dict(txn_dict,orient='index')\n",
    "\n",
    "trans_df = trans_df[0].str.split(',')\n",
    "\n",
    "trans_df"
   ]
  },
  {
   "cell_type": "code",
   "execution_count": 77,
   "metadata": {},
   "outputs": [],
   "source": [
    "import pandas as pd\n",
    "from preprocessor import preprocess\n",
    "\n",
    "def prune(data,supp):\n",
    "    df = data[data['supp_count'] >= supp]\n",
    "    return df\n",
    "\n",
    "def count_itemset(transaction_df, itemsets):\n",
    "    count_item = {}\n",
    "    for item_set in itemsets:\n",
    "        set_A = set(item_set)\n",
    "        for row in transaction_df:\n",
    "            set_B = set(row)\n",
    "\n",
    "            if set_B.intersection(set_A) == set_A:\n",
    "                if item_set in count_item.keys():\n",
    "                    count_item[item_set] += 1\n",
    "\n",
    "                else:\n",
    "                    count_item[item_set] = 1\n",
    "\n",
    "    data = pd.DataFrame()\n",
    "    data['item_sets'] = count_item.keys()\n",
    "    data['supp_count'] = count_item.values()\n",
    "    # print(\"Candidate itemset table (Counting):\\n\", data)\n",
    "\n",
    "    return data\n",
    "\n",
    "def count_item(trans_items):\n",
    "    count_ind_item = {}\n",
    "    for row in trans_items:\n",
    "        for i in range(len(row)):\n",
    "            if row[i] in count_ind_item.keys():\n",
    "                count_ind_item[row[i]] += 1\n",
    "            else:\n",
    "                count_ind_item[row[i]] = 1\n",
    "\n",
    "    data = pd.DataFrame()\n",
    "    data['item_sets'] = count_ind_item.keys()\n",
    "    data['supp_count'] = count_ind_item.values()\n",
    "    data = data.sort_values('item_sets')\n",
    "\n",
    "    return data\n",
    "\n",
    "def join(list_of_items):\n",
    "    itemsets = []\n",
    "    i = 1\n",
    "    for entry in list_of_items:\n",
    "        proceding_items = list_of_items[i:]\n",
    "        for item in proceding_items:\n",
    "            if(type(item) is str):\n",
    "                if entry != item:\n",
    "                    tuples = (entry, item)\n",
    "                    itemsets.append(tuples)\n",
    "            else:\n",
    "                if entry[0:-1] == item[0:-1]:\n",
    "                    tuples = entry+item[1:]\n",
    "                    itemsets.append(tuples)\n",
    "        i = i+1\n",
    "    if(len(itemsets) == 0):\n",
    "        return None\n",
    "\n",
    "    return itemsets\n",
    "\n",
    "def apriori(trans_data,supp=10):\n",
    "    freq = pd.DataFrame()\n",
    "\n",
    "    df = count_item(trans_data)\n",
    "    print('count_item')\n",
    "    display(df)\n",
    "    \n",
    "    \n",
    "    while(len(df) != 0):\n",
    "\n",
    "        df = prune(df, supp)\n",
    "        print('pruned df')\n",
    "        display(df)\n",
    "        \n",
    "        if len(df) > 1 or (len(df) == 1 and int(df.supp_count >= supp)):\n",
    "            freq = df\n",
    "            print('set freq to df')\n",
    "\n",
    "        itemsets = join(df.item_sets)\n",
    "        print('itemsets', itemsets)\n",
    "        \n",
    "        if(itemsets is None):\n",
    "            print('itemsets none => ending')\n",
    "            return freq\n",
    "\n",
    "        df = count_itemset(trans_data, itemsets)\n",
    "        print('count_itemset')\n",
    "        display(df)\n",
    "        \n",
    "    return freq\n",
    "\n",
    "\n",
    "def _convert_apriori_to_set(apriori_fi_df):\n",
    "    freq_itemsets = set()\n",
    "    for _ , row in apriori_fi_df.iterrows():\n",
    "        freq_itemsets.add(frozenset(row['item_sets']))\n",
    "    return freq_itemsets\n",
    "\n",
    "\n",
    "def freq_itemset_partition_db(dataset_csv_file, num_partitions, min_supp, preprocess_dataset=True, **kwargs):\n",
    "    partition_itemsets = {}\n",
    "    \n",
    "    for trans_df in pd.read_csv(dataset_csv_file, chunksize=num_partitions, low_memory=True, engine='c', header=None, **kwargs):\n",
    "        # print('chunk trans df')\n",
    "        # display(trans_df)\n",
    "        \n",
    "        if preprocess_dataset:\n",
    "            print('preprocessing')\n",
    "            trans_df = preprocess(trans_df)\n",
    "            print('preprocessed df')\n",
    "            display(trans_df)\n",
    "        \n",
    "        trans_df = trans_df.set_index('tid')\n",
    "        trans_df = trans_df['items'].str.split(',')\n",
    "\n",
    "        print(type(trans_df))\n",
    "        # print('set index df')\n",
    "        # display(trans_df)\n",
    "        \n",
    "        \n",
    "        df = count_item(trans_df)\n",
    "        print('partition df count')\n",
    "        display(df)\n",
    "        \n",
    "        while(len(df) != 0):\n",
    "            df = prune(df, min_supp)\n",
    "            print('pruned df')\n",
    "            display(df)\n",
    "            \n",
    "            itemsets = join(df.item_sets)\n",
    "            print('itemsets', itemsets)\n",
    "            \n",
    "            if(itemsets is None):\n",
    "                print('none ending')\n",
    "                break\n",
    "            \n",
    "            df = count_itemset(trans_df, itemsets)\n",
    "            print('count itemset')\n",
    "            display(df)\n",
    "            \n",
    "            print('now adding to pi dict')\n",
    "            for i in range(len(df)):\n",
    "                if df.item_sets[i] not in partition_itemsets.keys():\n",
    "                    partition_itemsets[df.item_sets[i]] = df.supp_count[i]\n",
    "                else:\n",
    "                    partition_itemsets[df.item_sets[i]] += df.supp_count[i]\n",
    "                \n",
    "    return partition_itemsets"
   ]
  },
  {
   "cell_type": "code",
   "execution_count": 78,
   "metadata": {},
   "outputs": [
    {
     "name": "stdout",
     "output_type": "stream",
     "text": [
      "count_item\n"
     ]
    },
    {
     "data": {
      "text/html": [
       "<div>\n",
       "<style scoped>\n",
       "    .dataframe tbody tr th:only-of-type {\n",
       "        vertical-align: middle;\n",
       "    }\n",
       "\n",
       "    .dataframe tbody tr th {\n",
       "        vertical-align: top;\n",
       "    }\n",
       "\n",
       "    .dataframe thead th {\n",
       "        text-align: right;\n",
       "    }\n",
       "</style>\n",
       "<table border=\"1\" class=\"dataframe\">\n",
       "  <thead>\n",
       "    <tr style=\"text-align: right;\">\n",
       "      <th></th>\n",
       "      <th>item_sets</th>\n",
       "      <th>supp_count</th>\n",
       "    </tr>\n",
       "  </thead>\n",
       "  <tbody>\n",
       "    <tr>\n",
       "      <th>0</th>\n",
       "      <td>apple</td>\n",
       "      <td>2</td>\n",
       "    </tr>\n",
       "    <tr>\n",
       "      <th>3</th>\n",
       "      <td>banana</td>\n",
       "      <td>3</td>\n",
       "    </tr>\n",
       "    <tr>\n",
       "      <th>1</th>\n",
       "      <td>carrot</td>\n",
       "      <td>3</td>\n",
       "    </tr>\n",
       "    <tr>\n",
       "      <th>2</th>\n",
       "      <td>durian</td>\n",
       "      <td>1</td>\n",
       "    </tr>\n",
       "    <tr>\n",
       "      <th>4</th>\n",
       "      <td>edamame</td>\n",
       "      <td>3</td>\n",
       "    </tr>\n",
       "  </tbody>\n",
       "</table>\n",
       "</div>"
      ],
      "text/plain": [
       "  item_sets  supp_count\n",
       "0     apple           2\n",
       "3    banana           3\n",
       "1    carrot           3\n",
       "2    durian           1\n",
       "4   edamame           3"
      ]
     },
     "metadata": {},
     "output_type": "display_data"
    },
    {
     "name": "stdout",
     "output_type": "stream",
     "text": [
      "pruned df\n"
     ]
    },
    {
     "data": {
      "text/html": [
       "<div>\n",
       "<style scoped>\n",
       "    .dataframe tbody tr th:only-of-type {\n",
       "        vertical-align: middle;\n",
       "    }\n",
       "\n",
       "    .dataframe tbody tr th {\n",
       "        vertical-align: top;\n",
       "    }\n",
       "\n",
       "    .dataframe thead th {\n",
       "        text-align: right;\n",
       "    }\n",
       "</style>\n",
       "<table border=\"1\" class=\"dataframe\">\n",
       "  <thead>\n",
       "    <tr style=\"text-align: right;\">\n",
       "      <th></th>\n",
       "      <th>item_sets</th>\n",
       "      <th>supp_count</th>\n",
       "    </tr>\n",
       "  </thead>\n",
       "  <tbody>\n",
       "    <tr>\n",
       "      <th>3</th>\n",
       "      <td>banana</td>\n",
       "      <td>3</td>\n",
       "    </tr>\n",
       "    <tr>\n",
       "      <th>1</th>\n",
       "      <td>carrot</td>\n",
       "      <td>3</td>\n",
       "    </tr>\n",
       "    <tr>\n",
       "      <th>4</th>\n",
       "      <td>edamame</td>\n",
       "      <td>3</td>\n",
       "    </tr>\n",
       "  </tbody>\n",
       "</table>\n",
       "</div>"
      ],
      "text/plain": [
       "  item_sets  supp_count\n",
       "3    banana           3\n",
       "1    carrot           3\n",
       "4   edamame           3"
      ]
     },
     "metadata": {},
     "output_type": "display_data"
    },
    {
     "name": "stdout",
     "output_type": "stream",
     "text": [
      "set freq to df\n",
      "itemsets [('banana', 'carrot'), ('banana', 'edamame'), ('carrot', 'edamame')]\n",
      "count_itemset\n"
     ]
    },
    {
     "data": {
      "text/html": [
       "<div>\n",
       "<style scoped>\n",
       "    .dataframe tbody tr th:only-of-type {\n",
       "        vertical-align: middle;\n",
       "    }\n",
       "\n",
       "    .dataframe tbody tr th {\n",
       "        vertical-align: top;\n",
       "    }\n",
       "\n",
       "    .dataframe thead th {\n",
       "        text-align: right;\n",
       "    }\n",
       "</style>\n",
       "<table border=\"1\" class=\"dataframe\">\n",
       "  <thead>\n",
       "    <tr style=\"text-align: right;\">\n",
       "      <th></th>\n",
       "      <th>item_sets</th>\n",
       "      <th>supp_count</th>\n",
       "    </tr>\n",
       "  </thead>\n",
       "  <tbody>\n",
       "    <tr>\n",
       "      <th>0</th>\n",
       "      <td>(banana, carrot)</td>\n",
       "      <td>2</td>\n",
       "    </tr>\n",
       "    <tr>\n",
       "      <th>1</th>\n",
       "      <td>(banana, edamame)</td>\n",
       "      <td>3</td>\n",
       "    </tr>\n",
       "    <tr>\n",
       "      <th>2</th>\n",
       "      <td>(carrot, edamame)</td>\n",
       "      <td>2</td>\n",
       "    </tr>\n",
       "  </tbody>\n",
       "</table>\n",
       "</div>"
      ],
      "text/plain": [
       "           item_sets  supp_count\n",
       "0   (banana, carrot)           2\n",
       "1  (banana, edamame)           3\n",
       "2  (carrot, edamame)           2"
      ]
     },
     "metadata": {},
     "output_type": "display_data"
    },
    {
     "name": "stdout",
     "output_type": "stream",
     "text": [
      "pruned df\n"
     ]
    },
    {
     "data": {
      "text/html": [
       "<div>\n",
       "<style scoped>\n",
       "    .dataframe tbody tr th:only-of-type {\n",
       "        vertical-align: middle;\n",
       "    }\n",
       "\n",
       "    .dataframe tbody tr th {\n",
       "        vertical-align: top;\n",
       "    }\n",
       "\n",
       "    .dataframe thead th {\n",
       "        text-align: right;\n",
       "    }\n",
       "</style>\n",
       "<table border=\"1\" class=\"dataframe\">\n",
       "  <thead>\n",
       "    <tr style=\"text-align: right;\">\n",
       "      <th></th>\n",
       "      <th>item_sets</th>\n",
       "      <th>supp_count</th>\n",
       "    </tr>\n",
       "  </thead>\n",
       "  <tbody>\n",
       "    <tr>\n",
       "      <th>1</th>\n",
       "      <td>(banana, edamame)</td>\n",
       "      <td>3</td>\n",
       "    </tr>\n",
       "  </tbody>\n",
       "</table>\n",
       "</div>"
      ],
      "text/plain": [
       "           item_sets  supp_count\n",
       "1  (banana, edamame)           3"
      ]
     },
     "metadata": {},
     "output_type": "display_data"
    },
    {
     "name": "stdout",
     "output_type": "stream",
     "text": [
      "set freq to df\n",
      "itemsets None\n",
      "itemsets none => ending\n"
     ]
    },
    {
     "data": {
      "text/html": [
       "<div>\n",
       "<style scoped>\n",
       "    .dataframe tbody tr th:only-of-type {\n",
       "        vertical-align: middle;\n",
       "    }\n",
       "\n",
       "    .dataframe tbody tr th {\n",
       "        vertical-align: top;\n",
       "    }\n",
       "\n",
       "    .dataframe thead th {\n",
       "        text-align: right;\n",
       "    }\n",
       "</style>\n",
       "<table border=\"1\" class=\"dataframe\">\n",
       "  <thead>\n",
       "    <tr style=\"text-align: right;\">\n",
       "      <th></th>\n",
       "      <th>item_sets</th>\n",
       "      <th>supp_count</th>\n",
       "    </tr>\n",
       "  </thead>\n",
       "  <tbody>\n",
       "    <tr>\n",
       "      <th>1</th>\n",
       "      <td>(banana, edamame)</td>\n",
       "      <td>3</td>\n",
       "    </tr>\n",
       "  </tbody>\n",
       "</table>\n",
       "</div>"
      ],
      "text/plain": [
       "           item_sets  supp_count\n",
       "1  (banana, edamame)           3"
      ]
     },
     "execution_count": 78,
     "metadata": {},
     "output_type": "execute_result"
    }
   ],
   "source": [
    "apriori(trans_data=trans_df, supp=3)"
   ]
  },
  {
   "cell_type": "code",
   "execution_count": 79,
   "metadata": {},
   "outputs": [
    {
     "name": "stdout",
     "output_type": "stream",
     "text": [
      "<class 'pandas.core.series.Series'>\n",
      "partition df count\n"
     ]
    },
    {
     "data": {
      "text/html": [
       "<div>\n",
       "<style scoped>\n",
       "    .dataframe tbody tr th:only-of-type {\n",
       "        vertical-align: middle;\n",
       "    }\n",
       "\n",
       "    .dataframe tbody tr th {\n",
       "        vertical-align: top;\n",
       "    }\n",
       "\n",
       "    .dataframe thead th {\n",
       "        text-align: right;\n",
       "    }\n",
       "</style>\n",
       "<table border=\"1\" class=\"dataframe\">\n",
       "  <thead>\n",
       "    <tr style=\"text-align: right;\">\n",
       "      <th></th>\n",
       "      <th>item_sets</th>\n",
       "      <th>supp_count</th>\n",
       "    </tr>\n",
       "  </thead>\n",
       "  <tbody>\n",
       "    <tr>\n",
       "      <th>5</th>\n",
       "      <td>'banana'</td>\n",
       "      <td>1</td>\n",
       "    </tr>\n",
       "    <tr>\n",
       "      <th>1</th>\n",
       "      <td>'carrot'</td>\n",
       "      <td>3</td>\n",
       "    </tr>\n",
       "    <tr>\n",
       "      <th>2</th>\n",
       "      <td>'durian']</td>\n",
       "      <td>1</td>\n",
       "    </tr>\n",
       "    <tr>\n",
       "      <th>4</th>\n",
       "      <td>'edamame']</td>\n",
       "      <td>3</td>\n",
       "    </tr>\n",
       "    <tr>\n",
       "      <th>0</th>\n",
       "      <td>['apple'</td>\n",
       "      <td>2</td>\n",
       "    </tr>\n",
       "    <tr>\n",
       "      <th>3</th>\n",
       "      <td>['banana'</td>\n",
       "      <td>2</td>\n",
       "    </tr>\n",
       "  </tbody>\n",
       "</table>\n",
       "</div>"
      ],
      "text/plain": [
       "     item_sets  supp_count\n",
       "5     'banana'           1\n",
       "1     'carrot'           3\n",
       "2    'durian']           1\n",
       "4   'edamame']           3\n",
       "0     ['apple'           2\n",
       "3    ['banana'           2"
      ]
     },
     "metadata": {},
     "output_type": "display_data"
    },
    {
     "name": "stdout",
     "output_type": "stream",
     "text": [
      "pruned df\n"
     ]
    },
    {
     "data": {
      "text/html": [
       "<div>\n",
       "<style scoped>\n",
       "    .dataframe tbody tr th:only-of-type {\n",
       "        vertical-align: middle;\n",
       "    }\n",
       "\n",
       "    .dataframe tbody tr th {\n",
       "        vertical-align: top;\n",
       "    }\n",
       "\n",
       "    .dataframe thead th {\n",
       "        text-align: right;\n",
       "    }\n",
       "</style>\n",
       "<table border=\"1\" class=\"dataframe\">\n",
       "  <thead>\n",
       "    <tr style=\"text-align: right;\">\n",
       "      <th></th>\n",
       "      <th>item_sets</th>\n",
       "      <th>supp_count</th>\n",
       "    </tr>\n",
       "  </thead>\n",
       "  <tbody>\n",
       "    <tr>\n",
       "      <th>1</th>\n",
       "      <td>'carrot'</td>\n",
       "      <td>3</td>\n",
       "    </tr>\n",
       "    <tr>\n",
       "      <th>4</th>\n",
       "      <td>'edamame']</td>\n",
       "      <td>3</td>\n",
       "    </tr>\n",
       "  </tbody>\n",
       "</table>\n",
       "</div>"
      ],
      "text/plain": [
       "     item_sets  supp_count\n",
       "1     'carrot'           3\n",
       "4   'edamame']           3"
      ]
     },
     "metadata": {},
     "output_type": "display_data"
    },
    {
     "name": "stdout",
     "output_type": "stream",
     "text": [
      "itemsets [(\" 'carrot'\", \" 'edamame']\")]\n",
      "count itemset\n"
     ]
    },
    {
     "data": {
      "text/html": [
       "<div>\n",
       "<style scoped>\n",
       "    .dataframe tbody tr th:only-of-type {\n",
       "        vertical-align: middle;\n",
       "    }\n",
       "\n",
       "    .dataframe tbody tr th {\n",
       "        vertical-align: top;\n",
       "    }\n",
       "\n",
       "    .dataframe thead th {\n",
       "        text-align: right;\n",
       "    }\n",
       "</style>\n",
       "<table border=\"1\" class=\"dataframe\">\n",
       "  <thead>\n",
       "    <tr style=\"text-align: right;\">\n",
       "      <th></th>\n",
       "      <th>item_sets</th>\n",
       "      <th>supp_count</th>\n",
       "    </tr>\n",
       "  </thead>\n",
       "  <tbody>\n",
       "    <tr>\n",
       "      <th>0</th>\n",
       "      <td>( 'carrot',  'edamame'])</td>\n",
       "      <td>2</td>\n",
       "    </tr>\n",
       "  </tbody>\n",
       "</table>\n",
       "</div>"
      ],
      "text/plain": [
       "                  item_sets  supp_count\n",
       "0  ( 'carrot',  'edamame'])           2"
      ]
     },
     "metadata": {},
     "output_type": "display_data"
    },
    {
     "name": "stdout",
     "output_type": "stream",
     "text": [
      "now adding to pi dict\n",
      "pruned df\n"
     ]
    },
    {
     "data": {
      "text/html": [
       "<div>\n",
       "<style scoped>\n",
       "    .dataframe tbody tr th:only-of-type {\n",
       "        vertical-align: middle;\n",
       "    }\n",
       "\n",
       "    .dataframe tbody tr th {\n",
       "        vertical-align: top;\n",
       "    }\n",
       "\n",
       "    .dataframe thead th {\n",
       "        text-align: right;\n",
       "    }\n",
       "</style>\n",
       "<table border=\"1\" class=\"dataframe\">\n",
       "  <thead>\n",
       "    <tr style=\"text-align: right;\">\n",
       "      <th></th>\n",
       "      <th>item_sets</th>\n",
       "      <th>supp_count</th>\n",
       "    </tr>\n",
       "  </thead>\n",
       "  <tbody>\n",
       "  </tbody>\n",
       "</table>\n",
       "</div>"
      ],
      "text/plain": [
       "Empty DataFrame\n",
       "Columns: [item_sets, supp_count]\n",
       "Index: []"
      ]
     },
     "metadata": {},
     "output_type": "display_data"
    },
    {
     "name": "stdout",
     "output_type": "stream",
     "text": [
      "itemsets None\n",
      "none ending\n"
     ]
    }
   ],
   "source": [
    "p = freq_itemset_partition_db('data/dummy_data.csv', \n",
    "                            num_partitions=4, \n",
    "                            min_supp=3,\n",
    "                            preprocess_dataset=False,\n",
    "                            names=['tid', 'items'])"
   ]
  },
  {
   "cell_type": "code",
   "execution_count": 76,
   "metadata": {},
   "outputs": [
    {
     "data": {
      "text/plain": [
       "{(\" 'carrot'\", \" 'edamame']\"): 2}"
      ]
     },
     "execution_count": 76,
     "metadata": {},
     "output_type": "execute_result"
    }
   ],
   "source": []
  },
  {
   "cell_type": "code",
   "execution_count": null,
   "metadata": {},
   "outputs": [],
   "source": []
  }
 ],
 "metadata": {
  "kernelspec": {
   "display_name": "pytorch-base",
   "language": "python",
   "name": "python3"
  },
  "language_info": {
   "codemirror_mode": {
    "name": "ipython",
    "version": 3
   },
   "file_extension": ".py",
   "mimetype": "text/x-python",
   "name": "python",
   "nbconvert_exporter": "python",
   "pygments_lexer": "ipython3",
   "version": "3.12.0"
  }
 },
 "nbformat": 4,
 "nbformat_minor": 2
}
