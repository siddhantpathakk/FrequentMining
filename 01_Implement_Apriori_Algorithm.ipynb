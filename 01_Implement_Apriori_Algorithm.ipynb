{
 "cells": [
  {
   "cell_type": "code",
   "execution_count": 1,
   "metadata": {},
   "outputs": [],
   "source": [
    "import pandas as pd"
   ]
  },
  {
   "cell_type": "code",
   "execution_count": 2,
   "metadata": {},
   "outputs": [
    {
     "data": {
      "text/plain": [
       "10             [apple, carrot, durian]\n",
       "20           [banana, carrot, edamame]\n",
       "30    [apple, banana, carrot, edamame]\n",
       "40                   [banana, edamame]\n",
       "Name: 0, dtype: object"
      ]
     },
     "metadata": {},
     "output_type": "display_data"
    }
   ],
   "source": [
    "# Using the example from the lecture notes\n",
    "txn_dict = {'10': 'apple,carrot,durian', '20': 'banana,carrot,edamame',\n",
    "            '30': 'apple,banana,carrot,edamame', '40': 'banana,edamame'}\n",
    "\n",
    "\n",
    "trans_df = pd.DataFrame.from_dict(txn_dict,orient='index')\n",
    "\n",
    "trans_df = trans_df[0].str.split(',')\n",
    "\n",
    "display(trans_df)"
   ]
  },
  {
   "cell_type": "code",
   "execution_count": 3,
   "metadata": {},
   "outputs": [],
   "source": [
    "from apriori_algorithm import AprioriAlgorithm\n",
    "\n",
    "apriori = AprioriAlgorithm(minsup=2, verbose=True)"
   ]
  },
  {
   "cell_type": "code",
   "execution_count": 4,
   "metadata": {},
   "outputs": [
    {
     "name": "stdout",
     "output_type": "stream",
     "text": [
      "Dataset size: 5\n",
      "Minsup = 2 \n",
      "\n",
      "Freq itemset table (Pruned):\n",
      "   item_sets  supp_count\n",
      "0     apple           2\n",
      "3    banana           3\n",
      "1    carrot           3\n",
      "4   edamame           3\n",
      "\n",
      "Candidate itemset table (Counting):\n",
      "            item_sets  supp_count\n",
      "0    (apple, banana)           1\n",
      "1    (apple, carrot)           2\n",
      "2   (apple, edamame)           1\n",
      "3   (banana, carrot)           2\n",
      "4  (banana, edamame)           3\n",
      "5  (carrot, edamame)           2\n",
      "Minsup = 2 \n",
      "\n",
      "Freq itemset table (Pruned):\n",
      "            item_sets  supp_count\n",
      "1    (apple, carrot)           2\n",
      "3   (banana, carrot)           2\n",
      "4  (banana, edamame)           3\n",
      "5  (carrot, edamame)           2\n",
      "\n",
      "Candidate itemset table (Counting):\n",
      "                    item_sets  supp_count\n",
      "0  (banana, carrot, edamame)           2\n",
      "Minsup = 2 \n",
      "\n",
      "Freq itemset table (Pruned):\n",
      "                    item_sets  supp_count\n",
      "0  (banana, carrot, edamame)           2\n"
     ]
    },
    {
     "name": "stderr",
     "output_type": "stream",
     "text": [
      "/Users/siddhantpathak/Desktop/Projects/FrequentMining/apriori_algorithm.py:26: FutureWarning: Calling int on a single element Series is deprecated and will raise a TypeError in the future. Use int(ser.iloc[0]) instead\n",
      "  if len(df) > 1 or (len(df) == 1 and int(df.supp_count >= self.supp)):\n"
     ]
    }
   ],
   "source": [
    "freq_item_sets = apriori.run(trans_df)"
   ]
  },
  {
   "cell_type": "code",
   "execution_count": 6,
   "metadata": {},
   "outputs": [
    {
     "data": {
      "text/html": [
       "<div>\n",
       "<style scoped>\n",
       "    .dataframe tbody tr th:only-of-type {\n",
       "        vertical-align: middle;\n",
       "    }\n",
       "\n",
       "    .dataframe tbody tr th {\n",
       "        vertical-align: top;\n",
       "    }\n",
       "\n",
       "    .dataframe thead th {\n",
       "        text-align: right;\n",
       "    }\n",
       "</style>\n",
       "<table border=\"1\" class=\"dataframe\">\n",
       "  <thead>\n",
       "    <tr style=\"text-align: right;\">\n",
       "      <th></th>\n",
       "      <th>item_sets</th>\n",
       "      <th>supp_count</th>\n",
       "    </tr>\n",
       "  </thead>\n",
       "  <tbody>\n",
       "    <tr>\n",
       "      <th>0</th>\n",
       "      <td>(banana, carrot, edamame)</td>\n",
       "      <td>2</td>\n",
       "    </tr>\n",
       "  </tbody>\n",
       "</table>\n",
       "</div>"
      ],
      "text/plain": [
       "                   item_sets  supp_count\n",
       "0  (banana, carrot, edamame)           2"
      ]
     },
     "metadata": {},
     "output_type": "display_data"
    }
   ],
   "source": [
    "display(freq_item_sets)"
   ]
  }
 ],
 "metadata": {
  "kernelspec": {
   "display_name": "pytorch-base",
   "language": "python",
   "name": "python3"
  },
  "language_info": {
   "codemirror_mode": {
    "name": "ipython",
    "version": 3
   },
   "file_extension": ".py",
   "mimetype": "text/x-python",
   "name": "python",
   "nbconvert_exporter": "python",
   "pygments_lexer": "ipython3",
   "version": "3.10.4"
  }
 },
 "nbformat": 4,
 "nbformat_minor": 2
}
