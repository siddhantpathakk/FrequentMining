{
 "cells": [
  {
   "cell_type": "code",
   "execution_count": 5,
   "metadata": {},
   "outputs": [],
   "source": [
    "import pandas as pd\n",
    "import warnings\n",
    "warnings.filterwarnings('ignore')"
   ]
  },
  {
   "cell_type": "code",
   "execution_count": 6,
   "metadata": {},
   "outputs": [],
   "source": [
    "from apriori import AprioriAlgorithm"
   ]
  },
  {
   "cell_type": "code",
   "execution_count": 7,
   "metadata": {},
   "outputs": [
    {
     "data": {
      "text/plain": [
       "10             [apple, carrot, durian]\n",
       "20           [banana, carrot, edamame]\n",
       "30    [apple, banana, carrot, edamame]\n",
       "40                   [banana, edamame]\n",
       "Name: 0, dtype: object"
      ]
     },
     "metadata": {},
     "output_type": "display_data"
    }
   ],
   "source": [
    "# Using the example from the lecture notes\n",
    "txn_dict = {'10': 'apple,carrot,durian', '20': 'banana,carrot,edamame',\n",
    "            '30': 'apple,banana,carrot,edamame', '40': 'banana,edamame'}\n",
    "\n",
    "trans_df = pd.DataFrame.from_dict(txn_dict,orient='index')\n",
    "\n",
    "trans_df = trans_df[0].str.split(',')\n",
    "\n",
    "display(trans_df)"
   ]
  },
  {
   "cell_type": "code",
   "execution_count": 8,
   "metadata": {},
   "outputs": [
    {
     "name": "stdout",
     "output_type": "stream",
     "text": [
      "\t[APRIORI] Freq itemset table (Pruned):\n",
      "   item_sets  supp_count\n",
      "0     apple           2\n",
      "3    banana           3\n",
      "1    carrot           3\n",
      "4   edamame           3\n",
      "\n",
      "Candidate itemset table (Counting):\n",
      "            item_sets  supp_count\n",
      "0    (apple, banana)           1\n",
      "1    (apple, carrot)           2\n",
      "2   (apple, edamame)           1\n",
      "3   (banana, carrot)           2\n",
      "4  (banana, edamame)           3\n",
      "5  (carrot, edamame)           2\n",
      "\t[APRIORI] Freq itemset table (Pruned):\n",
      "            item_sets  supp_count\n",
      "1    (apple, carrot)           2\n",
      "3   (banana, carrot)           2\n",
      "4  (banana, edamame)           3\n",
      "5  (carrot, edamame)           2\n",
      "\n",
      "Candidate itemset table (Counting):\n",
      "                    item_sets  supp_count\n",
      "0  (banana, carrot, edamame)           2\n",
      "\t[APRIORI] Freq itemset table (Pruned):\n",
      "                    item_sets  supp_count\n",
      "0  (banana, carrot, edamame)           2\n"
     ]
    }
   ],
   "source": [
    "apriori = AprioriAlgorithm(minsup=2, verbose=True)\n",
    "\n",
    "freq_item_sets = apriori.run(trans_df)"
   ]
  },
  {
   "cell_type": "code",
   "execution_count": 9,
   "metadata": {},
   "outputs": [
    {
     "data": {
      "text/html": [
       "<div>\n",
       "<style scoped>\n",
       "    .dataframe tbody tr th:only-of-type {\n",
       "        vertical-align: middle;\n",
       "    }\n",
       "\n",
       "    .dataframe tbody tr th {\n",
       "        vertical-align: top;\n",
       "    }\n",
       "\n",
       "    .dataframe thead th {\n",
       "        text-align: right;\n",
       "    }\n",
       "</style>\n",
       "<table border=\"1\" class=\"dataframe\">\n",
       "  <thead>\n",
       "    <tr style=\"text-align: right;\">\n",
       "      <th></th>\n",
       "      <th>item_sets</th>\n",
       "      <th>supp_count</th>\n",
       "    </tr>\n",
       "  </thead>\n",
       "  <tbody>\n",
       "    <tr>\n",
       "      <th>0</th>\n",
       "      <td>(banana, carrot, edamame)</td>\n",
       "      <td>2</td>\n",
       "    </tr>\n",
       "  </tbody>\n",
       "</table>\n",
       "</div>"
      ],
      "text/plain": [
       "                   item_sets  supp_count\n",
       "0  (banana, carrot, edamame)           2"
      ]
     },
     "metadata": {},
     "output_type": "display_data"
    }
   ],
   "source": [
    "display(freq_item_sets)"
   ]
  }
 ],
 "metadata": {
  "kernelspec": {
   "display_name": "pytorch-base",
   "language": "python",
   "name": "python3"
  },
  "language_info": {
   "codemirror_mode": {
    "name": "ipython",
    "version": 3
   },
   "file_extension": ".py",
   "mimetype": "text/x-python",
   "name": "python",
   "nbconvert_exporter": "python",
   "pygments_lexer": "ipython3",
   "version": "3.12.0"
  }
 },
 "nbformat": 4,
 "nbformat_minor": 2
}
