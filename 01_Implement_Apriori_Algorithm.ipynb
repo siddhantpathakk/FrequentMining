{
 "cells": [
  {
   "cell_type": "code",
   "execution_count": 1,
   "metadata": {},
   "outputs": [],
   "source": [
    "import pandas as pd\n",
    "import warnings\n",
    "warnings.filterwarnings('ignore')"
   ]
  },
  {
   "cell_type": "code",
   "execution_count": 2,
   "metadata": {},
   "outputs": [
    {
     "data": {
      "text/plain": [
       "10             [apple, carrot, durian]\n",
       "20           [banana, carrot, edamame]\n",
       "30    [apple, banana, carrot, edamame]\n",
       "40                   [banana, edamame]\n",
       "Name: 0, dtype: object"
      ]
     },
     "execution_count": 2,
     "metadata": {},
     "output_type": "execute_result"
    }
   ],
   "source": [
    "# Using the example from the lecture notes\n",
    "txn_dict = {'10': 'apple,carrot,durian', \n",
    "            '20': 'banana,carrot,edamame',\n",
    "            '30': 'apple,banana,carrot,edamame', \n",
    "            '40': 'banana,edamame'\n",
    "            }\n",
    "\n",
    "trans_df = pd.DataFrame.from_dict(txn_dict,orient='index')\n",
    "trans_df = trans_df[0].str.split(',')\n",
    "\n",
    "trans_df"
   ]
  },
  {
   "cell_type": "code",
   "execution_count": 3,
   "metadata": {},
   "outputs": [],
   "source": [
    "from apriori import *"
   ]
  },
  {
   "cell_type": "code",
   "execution_count": 4,
   "metadata": {},
   "outputs": [],
   "source": [
    "def prune(data,supp):\n",
    "    df = data[data.supp_count >= supp]\n",
    "    return df\n",
    "\n",
    "def count_itemset(transaction_df, itemsets):\n",
    "    count_item = {}\n",
    "    for item_set in itemsets:\n",
    "        set_A = set(item_set)\n",
    "        for row in transaction_df:\n",
    "            set_B = set(row)\n",
    "\n",
    "            if set_B.intersection(set_A) == set_A:\n",
    "                if item_set in count_item.keys():\n",
    "                    count_item[item_set] += 1\n",
    "\n",
    "                else:\n",
    "                    count_item[item_set] = 1\n",
    "\n",
    "    data = pd.DataFrame()\n",
    "    data['item_sets'] = count_item.keys()\n",
    "    data['supp_count'] = count_item.values()\n",
    "    # print(\"Candidate itemset table (Counting):\\n\", data)\n",
    "\n",
    "    return data\n",
    "\n",
    "def count_item(trans_items):\n",
    "    count_ind_item = {}\n",
    "    for row in trans_items:\n",
    "        for i in range(len(row)):\n",
    "            if row[i] in count_ind_item.keys():\n",
    "                count_ind_item[row[i]] += 1\n",
    "            else:\n",
    "                count_ind_item[row[i]] = 1\n",
    "\n",
    "    data = pd.DataFrame()\n",
    "    data['item_sets'] = count_ind_item.keys()\n",
    "    data['supp_count'] = count_ind_item.values()\n",
    "    data = data.sort_values('item_sets')\n",
    "\n",
    "    return data\n",
    "\n",
    "def join(list_of_items):\n",
    "    itemsets = []\n",
    "    i = 1\n",
    "    for entry in list_of_items:\n",
    "        proceding_items = list_of_items[i:]\n",
    "        for item in proceding_items:\n",
    "            if(type(item) is str):\n",
    "                if entry != item:\n",
    "                    tuples = (entry, item)\n",
    "                    itemsets.append(tuples)\n",
    "            else:\n",
    "                if entry[0:-1] == item[0:-1]:\n",
    "                    tuples = entry+item[1:]\n",
    "                    itemsets.append(tuples)\n",
    "        i = i+1\n",
    "    if(len(itemsets) == 0):\n",
    "        return None\n",
    "\n",
    "    return itemsets\n",
    "\n",
    "def apriori(trans_data,supp=10):\n",
    "    freq = pd.DataFrame()\n",
    "\n",
    "    df = count_item(trans_data)\n",
    "\n",
    "    while(len(df) != 0):\n",
    "\n",
    "        df = prune(df, supp)\n",
    "        # print(\"Minsup =\", supp,\"\\n\")\n",
    "        # print(\"Freq itemset table (Pruned):\\n\", df)\n",
    "\n",
    "        if len(df) > 1 or (len(df) == 1 and int(df.supp_count >= supp)):\n",
    "            freq = df\n",
    "\n",
    "        itemsets = join(df.item_sets)\n",
    "\n",
    "        if(itemsets is None):\n",
    "            return freq\n",
    "\n",
    "        df = count_itemset(trans_data, itemsets)\n",
    "        \n",
    "    return freq"
   ]
  },
  {
   "cell_type": "code",
   "execution_count": 5,
   "metadata": {},
   "outputs": [
    {
     "data": {
      "text/html": [
       "<div>\n",
       "<style scoped>\n",
       "    .dataframe tbody tr th:only-of-type {\n",
       "        vertical-align: middle;\n",
       "    }\n",
       "\n",
       "    .dataframe tbody tr th {\n",
       "        vertical-align: top;\n",
       "    }\n",
       "\n",
       "    .dataframe thead th {\n",
       "        text-align: right;\n",
       "    }\n",
       "</style>\n",
       "<table border=\"1\" class=\"dataframe\">\n",
       "  <thead>\n",
       "    <tr style=\"text-align: right;\">\n",
       "      <th></th>\n",
       "      <th>item_sets</th>\n",
       "      <th>supp_count</th>\n",
       "    </tr>\n",
       "  </thead>\n",
       "  <tbody>\n",
       "    <tr>\n",
       "      <th>1</th>\n",
       "      <td>(banana, edamame)</td>\n",
       "      <td>3</td>\n",
       "    </tr>\n",
       "  </tbody>\n",
       "</table>\n",
       "</div>"
      ],
      "text/plain": [
       "           item_sets  supp_count\n",
       "1  (banana, edamame)           3"
      ]
     },
     "execution_count": 5,
     "metadata": {},
     "output_type": "execute_result"
    }
   ],
   "source": [
    "apriori(trans_data=trans_df, supp=3)"
   ]
  }
 ],
 "metadata": {
  "kernelspec": {
   "display_name": "pytorch-base",
   "language": "python",
   "name": "python3"
  },
  "language_info": {
   "codemirror_mode": {
    "name": "ipython",
    "version": 3
   },
   "file_extension": ".py",
   "mimetype": "text/x-python",
   "name": "python",
   "nbconvert_exporter": "python",
   "pygments_lexer": "ipython3",
   "version": "3.12.0"
  }
 },
 "nbformat": 4,
 "nbformat_minor": 2
}
