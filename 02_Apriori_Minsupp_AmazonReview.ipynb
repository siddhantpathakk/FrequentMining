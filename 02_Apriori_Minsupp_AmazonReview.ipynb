{
 "cells": [
  {
   "cell_type": "code",
   "execution_count": 1,
   "metadata": {},
   "outputs": [],
   "source": [
    "import warnings\n",
    "\n",
    "warnings.filterwarnings('ignore')"
   ]
  },
  {
   "cell_type": "code",
   "execution_count": 2,
   "metadata": {},
   "outputs": [],
   "source": [
    "from constants import dataset_metadata, verbose\n",
    "from task2_apriori import apriori_for_dataset"
   ]
  },
  {
   "cell_type": "code",
   "execution_count": 3,
   "metadata": {},
   "outputs": [
    {
     "data": {
      "text/plain": [
       "{'path': './data/amazon-reviews/all_csv_files.csv',\n",
       " 'size': 116527663,\n",
       " 'limit': 100000,\n",
       " 'minsup': [1500, 1000, 500, 250],\n",
       " 'threshold_rating': 4.0}"
      ]
     },
     "execution_count": 3,
     "metadata": {},
     "output_type": "execute_result"
    }
   ],
   "source": [
    "dataset_name = 'amazon-reviews'\n",
    "dataset_metadata[dataset_name]"
   ]
  },
  {
   "cell_type": "code",
   "execution_count": 4,
   "metadata": {},
   "outputs": [
    {
     "name": "stdout",
     "output_type": "stream",
     "text": [
      "\u001b[37mRunning Apriori on \u001b[32mamazon-reviews \u001b[37m: \u001b[32mminsup = 1500\n",
      "\u001b[37m################################################################################\n",
      "\u001b[37mAccessing chunk #1 with 100000 values.\n",
      "\u001b[37mNum. of transactions: 63050\n",
      "\u001b[37mNum. of freq itemsets in this chunk: \u001b[32m5\n",
      "\u001b[37mTotal num. of freq itemsets till now: 5\n",
      "\u001b[37mFinished data-stream #1 in \u001b[32m1.3 seconds.\n",
      "\u001b[37m--------------------------------------------------------------------------------\n",
      "\u001b[37mAccessing chunk #2 with 100000 values.\n",
      "\u001b[37mNum. of transactions: 76287\n",
      "\u001b[37mNum. of freq itemsets in this chunk: \u001b[32m4\n",
      "\u001b[37mTotal num. of freq itemsets till now: 9\n",
      "\u001b[37mFinished data-stream #2 in \u001b[32m1.5 seconds.\n",
      "\u001b[37m--------------------------------------------------------------------------------\n",
      "\u001b[37mAccessing chunk #3 with 100000 values.\n",
      "\u001b[37mNum. of transactions: 71687\n",
      "\u001b[37mNum. of freq itemsets in this chunk: \u001b[32m3\n",
      "\u001b[37mTotal num. of freq itemsets till now: 12\n",
      "\u001b[37mFinished data-stream #3 in \u001b[32m1.2 seconds.\n",
      "\u001b[37m--------------------------------------------------------------------------------\n",
      "\u001b[37mAccessing chunk #4 with 100000 values.\n",
      "\u001b[37mNum. of transactions: 68496\n",
      "\u001b[37mNum. of freq itemsets: 0\n",
      "\u001b[37mTotal num. of freq itemsets till now: 12\n",
      "\u001b[37mFinished data-stream #4 in \u001b[32m1.2 seconds.\n",
      "\u001b[37m--------------------------------------------------------------------------------\n",
      "\u001b[37mAccessing chunk #5 with 100000 values.\n",
      "\u001b[37mNum. of transactions: 67939\n",
      "\u001b[37mNum. of freq itemsets: 0\n",
      "\u001b[37mTotal num. of freq itemsets till now: 12\n",
      "\u001b[37mFinished data-stream #5 in \u001b[32m1.3 seconds.\n",
      "\u001b[37m--------------------------------------------------------------------------------\n",
      "\u001b[37mAccessing chunk #6 with 100000 values.\n",
      "\u001b[37mNum. of transactions: 61726\n",
      "\u001b[37mNum. of freq itemsets: 0\n",
      "\u001b[37mTotal num. of freq itemsets till now: 12\n",
      "\u001b[37mFinished data-stream #6 in \u001b[32m1.0 seconds.\n",
      "\u001b[37m--------------------------------------------------------------------------------\n",
      "\u001b[37mAccessing chunk #7 with 100000 values.\n",
      "\u001b[37mNum. of transactions: 75105\n",
      "\u001b[37mNum. of freq itemsets in this chunk: \u001b[32m11\n",
      "\u001b[37mTotal num. of freq itemsets till now: 23\n",
      "\u001b[37mFinished data-stream #7 in \u001b[32m2.6 seconds.\n",
      "\u001b[37m--------------------------------------------------------------------------------\n",
      "\u001b[37mAccessing chunk #8 with 100000 values.\n",
      "\u001b[37mNum. of transactions: 64506\n",
      "\u001b[37mNum. of freq itemsets in this chunk: \u001b[32m1\n",
      "\u001b[37mTotal num. of freq itemsets till now: 24\n",
      "\u001b[37mFinished data-stream #8 in \u001b[32m1.7 seconds.\n",
      "\u001b[37m--------------------------------------------------------------------------------\n",
      "\u001b[37mAccessing chunk #9 with 100000 values.\n",
      "\u001b[37mNum. of transactions: 71544\n",
      "\u001b[37mNum. of freq itemsets in this chunk: \u001b[32m1\n",
      "\u001b[37mTotal num. of freq itemsets till now: 25\n",
      "\u001b[37mFinished data-stream #9 in \u001b[32m2.1 seconds.\n",
      "\u001b[37m--------------------------------------------------------------------------------\n",
      "\u001b[37mAccessing chunk #10 with 100000 values.\n",
      "\u001b[37mNum. of transactions: 77104\n",
      "\u001b[37mNum. of freq itemsets in this chunk: \u001b[32m12\n",
      "\u001b[37mTotal num. of freq itemsets till now: 37\n",
      "\u001b[37mFinished data-stream #10 in \u001b[32m2.9 seconds.\n",
      "\u001b[37m--------------------------------------------------------------------------------\n",
      "\u001b[37mAccessing chunk #11 with 100000 values.\n",
      "\u001b[37mNum. of transactions: 65257\n",
      "\u001b[37mNum. of freq itemsets in this chunk: \u001b[32m3\n",
      "\u001b[37mTotal num. of freq itemsets till now: 40\n",
      "\u001b[37mFinished data-stream #11 in \u001b[32m1.2 seconds.\n",
      "\u001b[37m--------------------------------------------------------------------------------\n",
      "\u001b[37mAccessing chunk #12 with 100000 values.\n",
      "\u001b[37mNum. of transactions: 68204\n",
      "\u001b[37mNum. of freq itemsets: 0\n",
      "\u001b[37mTotal num. of freq itemsets till now: 40\n",
      "\u001b[37mFinished data-stream #12 in \u001b[32m1.1 seconds.\n",
      "\u001b[37m--------------------------------------------------------------------------------\n",
      "\u001b[37mAccessing chunk #13 with 100000 values.\n",
      "\u001b[37mNum. of transactions: 69505\n",
      "\u001b[37mNum. of freq itemsets in this chunk: \u001b[32m2\n",
      "\u001b[37mTotal num. of freq itemsets till now: 42\n",
      "\u001b[37mFinished data-stream #13 in \u001b[32m1.2 seconds.\n",
      "\u001b[37m--------------------------------------------------------------------------------\n",
      "\u001b[37mAccessing chunk #14 with 100000 values.\n",
      "\u001b[37mNum. of transactions: 70079\n",
      "\u001b[37mNum. of freq itemsets: 0\n",
      "\u001b[37mTotal num. of freq itemsets till now: 42\n",
      "\u001b[37mFinished data-stream #14 in \u001b[32m1.2 seconds.\n",
      "\u001b[37m--------------------------------------------------------------------------------\n",
      "\u001b[37mAccessing chunk #15 with 100000 values.\n",
      "\u001b[37mNum. of transactions: 68326\n",
      "\u001b[37mNum. of freq itemsets: 0\n",
      "\u001b[37mTotal num. of freq itemsets till now: 42\n",
      "\u001b[37mFinished data-stream #15 in \u001b[32m1.2 seconds.\n",
      "\u001b[37m--------------------------------------------------------------------------------\n",
      "\u001b[37mAccessing chunk #16 with 100000 values.\n",
      "\u001b[37mNum. of transactions: 64475\n",
      "\u001b[37mNum. of freq itemsets: 0\n",
      "\u001b[37mTotal num. of freq itemsets till now: 42\n",
      "\u001b[37mFinished data-stream #16 in \u001b[32m1.1 seconds.\n",
      "\u001b[37m--------------------------------------------------------------------------------\n",
      "\u001b[37mAccessing chunk #17 with 100000 values.\n",
      "\u001b[37mNum. of transactions: 62635\n",
      "\u001b[37mNum. of freq itemsets: 0\n",
      "\u001b[37mTotal num. of freq itemsets till now: 42\n",
      "\u001b[37mFinished data-stream #17 in \u001b[32m1.1 seconds.\n",
      "\u001b[37m--------------------------------------------------------------------------------\n",
      "\u001b[37mAccessing chunk #18 with 100000 values.\n",
      "\u001b[37mNum. of transactions: 62772\n",
      "\u001b[37mNum. of freq itemsets: 0\n",
      "\u001b[37mTotal num. of freq itemsets till now: 42\n",
      "\u001b[37mFinished data-stream #18 in \u001b[32m1.1 seconds.\n",
      "\u001b[37m--------------------------------------------------------------------------------\n",
      "\u001b[37mAccessing chunk #19 with 100000 values.\n",
      "\u001b[37mNum. of transactions: 66412\n",
      "\u001b[37mNum. of freq itemsets in this chunk: \u001b[32m3\n",
      "\u001b[37mTotal num. of freq itemsets till now: 45\n",
      "\u001b[37mFinished data-stream #19 in \u001b[32m1.2 seconds.\n",
      "\u001b[37m--------------------------------------------------------------------------------\n",
      "\u001b[37mAccessing chunk #20 with 100000 values.\n",
      "\u001b[37mNum. of transactions: 59574\n",
      "\u001b[37mNum. of freq itemsets in this chunk: \u001b[32m4\n",
      "\u001b[37mTotal num. of freq itemsets till now: 49\n",
      "\u001b[37mFinished data-stream #20 in \u001b[32m1.2 seconds.\n",
      "\u001b[37m--------------------------------------------------------------------------------\n",
      "\u001b[37mAccessing chunk #21 with 100000 values.\n",
      "\u001b[37mNum. of transactions: 75155\n",
      "\u001b[37mNum. of freq itemsets in this chunk: \u001b[32m2\n",
      "\u001b[37mTotal num. of freq itemsets till now: 51\n",
      "\u001b[37mFinished data-stream #21 in \u001b[32m1.3 seconds.\n",
      "\u001b[37m--------------------------------------------------------------------------------\n",
      "\u001b[37mAccessing chunk #22 with 100000 values.\n"
     ]
    }
   ],
   "source": [
    "apriori_for_dataset(dataset_name, dataset_metadata, \n",
    "                    minsup_val= dataset_metadata[dataset_name]['minsup'][0],\n",
    "                    verbose=verbose)"
   ]
  },
  {
   "cell_type": "code",
   "execution_count": null,
   "metadata": {},
   "outputs": [],
   "source": [
    "apriori_for_dataset(dataset_name, dataset_metadata, \n",
    "                    minsup_val= dataset_metadata[dataset_name]['minsup'][1],\n",
    "                    verbose=verbose)"
   ]
  },
  {
   "cell_type": "code",
   "execution_count": null,
   "metadata": {},
   "outputs": [],
   "source": [
    "apriori_for_dataset(dataset_name, dataset_metadata, \n",
    "                    minsup_val= dataset_metadata[dataset_name]['minsup'][2],\n",
    "                    verbose=verbose)"
   ]
  },
  {
   "cell_type": "code",
   "execution_count": null,
   "metadata": {},
   "outputs": [],
   "source": [
    "apriori_for_dataset(dataset_name, dataset_metadata, \n",
    "                    minsup_val= dataset_metadata[dataset_name]['minsup'][3],\n",
    "                    verbose=verbose)"
   ]
  },
  {
   "cell_type": "code",
   "execution_count": null,
   "metadata": {},
   "outputs": [],
   "source": [
    "apriori_for_dataset(dataset_name, dataset_metadata, \n",
    "                    minsup_val= dataset_metadata[dataset_name]['minsup'][4],\n",
    "                    verbose=verbose)"
   ]
  }
 ],
 "metadata": {
  "kernelspec": {
   "display_name": "fp_spark",
   "language": "python",
   "name": "python3"
  },
  "language_info": {
   "codemirror_mode": {
    "name": "ipython",
    "version": 3
   },
   "file_extension": ".py",
   "mimetype": "text/x-python",
   "name": "python",
   "nbconvert_exporter": "python",
   "pygments_lexer": "ipython3",
   "version": "3.12.0"
  }
 },
 "nbformat": 4,
 "nbformat_minor": 2
}
