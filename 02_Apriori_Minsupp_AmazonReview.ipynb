{
 "cells": [
  {
   "cell_type": "code",
   "execution_count": 1,
   "metadata": {},
   "outputs": [],
   "source": [
    "import warnings\n",
    "\n",
    "warnings.filterwarnings('ignore')"
   ]
  },
  {
   "cell_type": "code",
   "execution_count": 2,
   "metadata": {},
   "outputs": [],
   "source": [
    "from constants import dataset_metadata, verbose\n",
    "from task2_apriori import apriori_for_dataset"
   ]
  },
  {
   "cell_type": "code",
   "execution_count": 3,
   "metadata": {},
   "outputs": [
    {
     "data": {
      "text/plain": [
       "{'path': './data/amazon-reviews/all_csv_files.csv',\n",
       " 'size': 116527663,\n",
       " 'limit': 1000000,\n",
       " 'minsup': [100, 200, 500, 1000, 1500],\n",
       " 'threshold_rating': 4.0}"
      ]
     },
     "execution_count": 3,
     "metadata": {},
     "output_type": "execute_result"
    }
   ],
   "source": [
    "dataset_name = 'amazon-reviews'\n",
    "dataset_metadata[dataset_name]"
   ]
  },
  {
   "cell_type": "code",
   "execution_count": 4,
   "metadata": {},
   "outputs": [
    {
     "name": "stdout",
     "output_type": "stream",
     "text": [
      "\u001b[37mRunning Apriori on \u001b[32mamazon-reviews \u001b[37m: \u001b[32mminsup = 100\n",
      "\u001b[37m################################################################################\n",
      "\u001b[37mAccessing chunk #1 with 1000000 values.\n"
     ]
    }
   ],
   "source": [
    "apriori_for_dataset(dataset_name, dataset_metadata, \n",
    "                    minsup_val= dataset_metadata[dataset_name]['minsup'][0],\n",
    "                    verbose=verbose)"
   ]
  },
  {
   "cell_type": "code",
   "execution_count": null,
   "metadata": {},
   "outputs": [],
   "source": [
    "apriori_for_dataset(dataset_name, dataset_metadata, \n",
    "                    minsup_val= dataset_metadata[dataset_name]['minsup'][1],\n",
    "                    verbose=verbose)"
   ]
  },
  {
   "cell_type": "code",
   "execution_count": null,
   "metadata": {},
   "outputs": [],
   "source": [
    "apriori_for_dataset(dataset_name, dataset_metadata, \n",
    "                    minsup_val= dataset_metadata[dataset_name]['minsup'][2],\n",
    "                    verbose=verbose)"
   ]
  },
  {
   "cell_type": "code",
   "execution_count": null,
   "metadata": {},
   "outputs": [],
   "source": [
    "apriori_for_dataset(dataset_name, dataset_metadata, \n",
    "                    minsup_val= dataset_metadata[dataset_name]['minsup'][3],\n",
    "                    verbose=verbose)"
   ]
  },
  {
   "cell_type": "code",
   "execution_count": null,
   "metadata": {},
   "outputs": [],
   "source": [
    "apriori_for_dataset(dataset_name, dataset_metadata, \n",
    "                    minsup_val= dataset_metadata[dataset_name]['minsup'][4],\n",
    "                    verbose=verbose)"
   ]
  }
 ],
 "metadata": {
  "kernelspec": {
   "display_name": "fp_spark",
   "language": "python",
   "name": "python3"
  },
  "language_info": {
   "codemirror_mode": {
    "name": "ipython",
    "version": 3
   },
   "file_extension": ".py",
   "mimetype": "text/x-python",
   "name": "python",
   "nbconvert_exporter": "python",
   "pygments_lexer": "ipython3",
   "version": "3.12.0"
  }
 },
 "nbformat": 4,
 "nbformat_minor": 2
}
