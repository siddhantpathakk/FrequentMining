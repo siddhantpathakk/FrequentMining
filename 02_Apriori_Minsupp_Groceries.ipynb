{
 "cells": [
  {
   "cell_type": "code",
   "execution_count": 1,
   "metadata": {},
   "outputs": [],
   "source": [
    "import warnings\n",
    "warnings.filterwarnings('ignore')"
   ]
  },
  {
   "cell_type": "code",
   "execution_count": 2,
   "metadata": {},
   "outputs": [],
   "source": [
    "from constants import dataset_metadata, verbose\n",
    "from apriori import apriori_for_dataset"
   ]
  },
  {
   "cell_type": "code",
   "execution_count": 3,
   "metadata": {},
   "outputs": [],
   "source": [
    "dataset_name = 'groceries'"
   ]
  },
  {
   "cell_type": "code",
   "execution_count": 4,
   "metadata": {},
   "outputs": [
    {
     "name": "stdout",
     "output_type": "stream",
     "text": [
      "\u001b[37mApriori on groceries with minimum support threshold value(s) from [70, 150, 200]\n",
      "\n",
      "\u001b[37mmin supp: \u001b[32m70 \u001b[37m\tpass_1(1 chunks):\t \u001b[32m31 \u001b[37m(20.0sec) \u001b[37m\tpass_2(2 chunks):\t \u001b[32m72 \u001b[37m (26.9sec) \u001b[37m\tmerged:\t \u001b[32m103\u001b[36m\n",
      "\u001b[37mmin supp: \u001b[32m150 \u001b[37m\tpass_1(1 chunks):\t \u001b[32m36 \u001b[37m(5.8sec) \u001b[37m\tpass_2(2 chunks):\t \u001b[32m29 \u001b[37m (7.9sec) \u001b[37m\tmerged:\t \u001b[32m65\u001b[36m\n",
      "\u001b[37mmin supp: \u001b[32m200 \u001b[37m\tpass_1(1 chunks):\t \u001b[32m9 \u001b[37m(4.3sec) \u001b[37m\tpass_2(2 chunks):\t \u001b[32m36 \u001b[37m (5.5sec) \u001b[37m\tmerged:\t \u001b[32m45\u001b[36m\n",
      "\n",
      "CPU times: user 40.1 s, sys: 67.3 ms, total: 40.2 s\n",
      "Wall time: 40.3 s\n"
     ]
    }
   ],
   "source": [
    "%%time\n",
    "apriori_for_dataset(dataset_name, dataset_metadata)"
   ]
  },
  {
   "cell_type": "code",
   "execution_count": null,
   "metadata": {},
   "outputs": [],
   "source": []
  }
 ],
 "metadata": {
  "kernelspec": {
   "display_name": "fp_spark",
   "language": "python",
   "name": "python3"
  },
  "language_info": {
   "codemirror_mode": {
    "name": "ipython",
    "version": 3
   },
   "file_extension": ".py",
   "mimetype": "text/x-python",
   "name": "python",
   "nbconvert_exporter": "python",
   "pygments_lexer": "ipython3",
   "version": "3.12.0"
  }
 },
 "nbformat": 4,
 "nbformat_minor": 2
}
