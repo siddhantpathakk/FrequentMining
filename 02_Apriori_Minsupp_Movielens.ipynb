{
 "cells": [
  {
   "cell_type": "code",
   "execution_count": 1,
   "metadata": {},
   "outputs": [],
   "source": [
    "import warnings\n",
    "\n",
    "warnings.filterwarnings('ignore')"
   ]
  },
  {
   "cell_type": "code",
   "execution_count": 2,
   "metadata": {},
   "outputs": [],
   "source": [
    "from constants import dataset_metadata\n",
    "from apriori import "
   ]
  },
  {
   "cell_type": "code",
   "execution_count": 3,
   "metadata": {},
   "outputs": [],
   "source": [
    "dataset_name = 'movielens'"
   ]
  },
  {
   "cell_type": "code",
   "execution_count": 4,
   "metadata": {},
   "outputs": [
    {
     "data": {
      "text/plain": [
       "{'path': ['./data/movielens/ratings.csv', './data/movielens/movies.csv'],\n",
       " 'size': 100836,\n",
       " 'limit': 50000,\n",
       " 'minsup': [50, 100, 150, 200, 250],\n",
       " 'overlap_size': 62500,\n",
       " 'threshold_rating': 4.0}"
      ]
     },
     "execution_count": 4,
     "metadata": {},
     "output_type": "execute_result"
    }
   ],
   "source": [
    "dataset_metadata[dataset_name]"
   ]
  },
  {
   "cell_type": "code",
   "execution_count": 5,
   "metadata": {},
   "outputs": [
    {
     "name": "stdout",
     "output_type": "stream",
     "text": [
      "\u001b[37mApriori on \u001b[32mmovielens\n",
      "\u001b[37m################################################################################\n",
      "\u001b[37m\n",
      "Minimum support threshold = \u001b[32m50\n",
      "\u001b[37mFirst pass found 11 item-sets in 13.1 sec.\n",
      "\u001b[37mSecond pass found 9 item-sets in 47.1 sec.\n",
      "\u001b[37mMerging results from first and second pass for minsup 50\n",
      "\u001b[37mNumber of itemsets before groupby for minsup 50 = \u001b[32m9\n",
      "\u001b[37mNumber of itemsets after groupby for minsup 50 = \u001b[32m9\n",
      "\u001b[37mTime taken for minsup 50 = \u001b[32m47.2 sec.\n",
      "\u001b[37m-------------------------------------------------------------------------------- \n",
      "\n",
      "\u001b[37m\n",
      "Minimum support threshold = \u001b[32m100\n",
      "\u001b[37mFirst pass found 13 item-sets in 0.7 sec.\n",
      "\u001b[37mSecond pass found 13 item-sets in 2.1 sec.\n",
      "\u001b[37mMerging results from first and second pass for minsup 100\n",
      "\u001b[37mNumber of itemsets before groupby for minsup 100 = \u001b[32m13\n",
      "\u001b[37mNumber of itemsets after groupby for minsup 100 = \u001b[32m13\n",
      "\u001b[37mTime taken for minsup 100 = \u001b[32m2.1 sec.\n",
      "\u001b[37m-------------------------------------------------------------------------------- \n",
      "\n",
      "\u001b[37m\n",
      "Minimum support threshold = \u001b[32m150\n",
      "\u001b[37mFirst pass found 17 item-sets in 0.2 sec.\n",
      "\u001b[37mSecond pass found 5 item-sets in 0.5 sec.\n",
      "\u001b[37mMerging results from first and second pass for minsup 150\n",
      "\u001b[37mNumber of itemsets before groupby for minsup 150 = \u001b[32m5\n",
      "\u001b[37mNumber of itemsets after groupby for minsup 150 = \u001b[32m5\n",
      "\u001b[37mTime taken for minsup 150 = \u001b[32m0.5 sec.\n",
      "\u001b[37m-------------------------------------------------------------------------------- \n",
      "\n",
      "\u001b[37m\n",
      "Minimum support threshold = \u001b[32m200\n",
      "\u001b[37mFirst pass found 4 item-sets in 0.1 sec.\n",
      "\u001b[37mSecond pass found 10 item-sets in 0.3 sec.\n",
      "\u001b[37mMerging results from first and second pass for minsup 200\n",
      "\u001b[37mNumber of itemsets before groupby for minsup 200 = \u001b[32m10\n",
      "\u001b[37mNumber of itemsets after groupby for minsup 200 = \u001b[32m8\n",
      "\u001b[37mTime taken for minsup 200 = \u001b[32m0.3 sec.\n",
      "\u001b[37m-------------------------------------------------------------------------------- \n",
      "\n",
      "\u001b[37m\n",
      "Minimum support threshold = \u001b[32m250\n",
      "\u001b[37mFirst pass found 4 item-sets in 0.1 sec.\n",
      "\u001b[37mSecond pass found 3 item-sets in 0.2 sec.\n",
      "\u001b[37mMerging results from first and second pass for minsup 250\n",
      "\u001b[37mNumber of itemsets before groupby for minsup 250 = \u001b[32m3\n",
      "\u001b[37mNumber of itemsets after groupby for minsup 250 = \u001b[32m2\n",
      "\u001b[37mTime taken for minsup 250 = \u001b[32m0.2 sec.\n",
      "\u001b[37m-------------------------------------------------------------------------------- \n",
      "\n",
      "\u001b[32mCompleted movielens fp in 50.2 seconds.\n",
      "\u001b[37m################################################################################ \n",
      "\n",
      "\n"
     ]
    }
   ],
   "source": [
    "apriori_for_dataset(dataset_name, dataset_metadata)"
   ]
  },
  {
   "cell_type": "code",
   "execution_count": null,
   "metadata": {},
   "outputs": [],
   "source": []
  }
 ],
 "metadata": {
  "kernelspec": {
   "display_name": "fp_spark",
   "language": "python",
   "name": "python3"
  },
  "language_info": {
   "codemirror_mode": {
    "name": "ipython",
    "version": 3
   },
   "file_extension": ".py",
   "mimetype": "text/x-python",
   "name": "python",
   "nbconvert_exporter": "python",
   "pygments_lexer": "ipython3",
   "version": "3.12.0"
  }
 },
 "nbformat": 4,
 "nbformat_minor": 2
}
