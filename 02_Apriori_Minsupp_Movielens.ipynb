{
 "cells": [
  {
   "cell_type": "code",
   "execution_count": 1,
   "metadata": {},
   "outputs": [],
   "source": [
    "import warnings\n",
    "\n",
    "warnings.filterwarnings('ignore')"
   ]
  },
  {
   "cell_type": "code",
   "execution_count": 2,
   "metadata": {},
   "outputs": [],
   "source": [
    "from constants import dataset_metadata, verbose\n",
    "from task2_apriori import apriori_for_dataset"
   ]
  },
  {
   "cell_type": "code",
   "execution_count": 3,
   "metadata": {},
   "outputs": [],
   "source": [
    "dataset_name = 'movielens'"
   ]
  },
  {
   "cell_type": "code",
   "execution_count": 4,
   "metadata": {},
   "outputs": [
    {
     "data": {
      "text/plain": [
       "{'path': ['./data/movielens/ratings.csv', './data/movielens/movies.csv'],\n",
       " 'size': 100836,\n",
       " 'limit': 50000,\n",
       " 'minsup': [50, 100, 150, 200, 250],\n",
       " 'threshold_rating': 4.0}"
      ]
     },
     "execution_count": 4,
     "metadata": {},
     "output_type": "execute_result"
    }
   ],
   "source": [
    "dataset_metadata[dataset_name]"
   ]
  },
  {
   "cell_type": "code",
   "execution_count": 5,
   "metadata": {},
   "outputs": [
    {
     "name": "stdout",
     "output_type": "stream",
     "text": [
      "\u001b[37mRunning Apriori on \u001b[32mmovielens \u001b[37m: \u001b[32mminsup = 50\n",
      "\u001b[37m################################################################################\n",
      "\u001b[37mAccessing data-stream #1\n",
      "\u001b[37mNum. of transactions: 322\n",
      "\u001b[37mNum. of freq itemsets in this chunk: \u001b[32m10\n",
      "\u001b[37mTotal num. of freq itemsets till now: 10\n",
      "\u001b[37mFinished data-stream #1 in \u001b[32m7.4 seconds.\n",
      "\u001b[37m--------------------------------------------------------------------------------\n",
      "\u001b[37mAccessing data-stream #2\n",
      "\u001b[37mNum. of transactions: 288\n",
      "\u001b[37mNum. of freq itemsets in this chunk: \u001b[32m1\n",
      "\u001b[37mTotal num. of freq itemsets till now: 11\n",
      "\u001b[37mFinished data-stream #2 in \u001b[32m6.3 seconds.\n",
      "\u001b[37m--------------------------------------------------------------------------------\n",
      "\u001b[37mAccessing data-stream #3\n",
      "\u001b[37mNum. of transactions: 1\n",
      "\u001b[37mNum. of freq itemsets: 0\n",
      "\u001b[37mTotal num. of freq itemsets till now: 11\n",
      "\u001b[37mFinished data-stream #3 in \u001b[32m0.0 seconds.\n",
      "\u001b[37m--------------------------------------------------------------------------------\n",
      "\u001b[37mTime taken for minsup 50 = \u001b[32m0.0 seconds.\n",
      "\u001b[37m\u001b[2mItemsets saved to ./logs/movielens/itemsets_df_minsup_50.csv\n",
      "\u001b[37m--------------------------------------------------------------------------------\n",
      "\n",
      "\u001b[37mRunning Apriori on \u001b[32mmovielens \u001b[37m: \u001b[32mminsup = 100\n",
      "\u001b[37m################################################################################\n",
      "\u001b[37mAccessing data-stream #1\n",
      "\u001b[37mNum. of transactions: 322\n",
      "\u001b[37mNum. of freq itemsets in this chunk: \u001b[32m8\n",
      "\u001b[37mTotal num. of freq itemsets till now: 8\n",
      "\u001b[37mFinished data-stream #1 in \u001b[32m0.4 seconds.\n",
      "\u001b[37m--------------------------------------------------------------------------------\n",
      "\u001b[37mAccessing data-stream #2\n",
      "\u001b[37mNum. of transactions: 288\n",
      "\u001b[37mNum. of freq itemsets in this chunk: \u001b[32m5\n",
      "\u001b[37mTotal num. of freq itemsets till now: 13\n",
      "\u001b[37mFinished data-stream #2 in \u001b[32m0.3 seconds.\n",
      "\u001b[37m--------------------------------------------------------------------------------\n",
      "\u001b[37mAccessing data-stream #3\n",
      "\u001b[37mNum. of transactions: 1\n",
      "\u001b[37mNum. of freq itemsets: 0\n",
      "\u001b[37mTotal num. of freq itemsets till now: 13\n",
      "\u001b[37mFinished data-stream #3 in \u001b[32m0.0 seconds.\n",
      "\u001b[37m--------------------------------------------------------------------------------\n",
      "\u001b[37mTime taken for minsup 100 = \u001b[32m0.0 seconds.\n",
      "\u001b[37m\u001b[2mItemsets saved to ./logs/movielens/itemsets_df_minsup_100.csv\n",
      "\u001b[37m--------------------------------------------------------------------------------\n",
      "\n",
      "\u001b[37mRunning Apriori on \u001b[32mmovielens \u001b[37m: \u001b[32mminsup = 150\n",
      "\u001b[37m################################################################################\n",
      "\u001b[37mAccessing data-stream #1\n",
      "\u001b[37mNum. of transactions: 322\n",
      "\u001b[37mNum. of freq itemsets in this chunk: \u001b[32m9\n",
      "\u001b[37mTotal num. of freq itemsets till now: 9\n",
      "\u001b[37mFinished data-stream #1 in \u001b[32m0.1 seconds.\n",
      "\u001b[37m--------------------------------------------------------------------------------\n",
      "\u001b[37mAccessing data-stream #2\n",
      "\u001b[37mNum. of transactions: 288\n",
      "\u001b[37mNum. of freq itemsets in this chunk: \u001b[32m8\n",
      "\u001b[37mTotal num. of freq itemsets till now: 16\n",
      "\u001b[37mFinished data-stream #2 in \u001b[32m0.1 seconds.\n",
      "\u001b[37m--------------------------------------------------------------------------------\n",
      "\u001b[37mAccessing data-stream #3\n",
      "\u001b[37mNum. of transactions: 1\n",
      "\u001b[37mNum. of freq itemsets: 0\n",
      "\u001b[37mTotal num. of freq itemsets till now: 16\n",
      "\u001b[37mFinished data-stream #3 in \u001b[32m0.0 seconds.\n",
      "\u001b[37m--------------------------------------------------------------------------------\n",
      "\u001b[37mTime taken for minsup 150 = \u001b[32m0.0 seconds.\n",
      "\u001b[37m\u001b[2mItemsets saved to ./logs/movielens/itemsets_df_minsup_150.csv\n",
      "\u001b[37m--------------------------------------------------------------------------------\n",
      "\n",
      "\u001b[37mRunning Apriori on \u001b[32mmovielens \u001b[37m: \u001b[32mminsup = 200\n",
      "\u001b[37m################################################################################\n",
      "\u001b[37mAccessing data-stream #1\n",
      "\u001b[37mNum. of transactions: 322\n",
      "\u001b[37mNum. of freq itemsets in this chunk: \u001b[32m2\n",
      "\u001b[37mTotal num. of freq itemsets till now: 2\n",
      "\u001b[37mFinished data-stream #1 in \u001b[32m0.0 seconds.\n",
      "\u001b[37m--------------------------------------------------------------------------------\n",
      "\u001b[37mAccessing data-stream #2\n",
      "\u001b[37mNum. of transactions: 288\n",
      "\u001b[37mNum. of freq itemsets in this chunk: \u001b[32m2\n",
      "\u001b[37mTotal num. of freq itemsets till now: 4\n",
      "\u001b[37mFinished data-stream #2 in \u001b[32m0.0 seconds.\n",
      "\u001b[37m--------------------------------------------------------------------------------\n",
      "\u001b[37mAccessing data-stream #3\n",
      "\u001b[37mNum. of transactions: 1\n",
      "\u001b[37mNum. of freq itemsets: 0\n",
      "\u001b[37mTotal num. of freq itemsets till now: 4\n",
      "\u001b[37mFinished data-stream #3 in \u001b[32m0.0 seconds.\n",
      "\u001b[37m--------------------------------------------------------------------------------\n",
      "\u001b[37mTime taken for minsup 200 = \u001b[32m0.0 seconds.\n",
      "\u001b[37m\u001b[2mItemsets saved to ./logs/movielens/itemsets_df_minsup_200.csv\n",
      "\u001b[37m--------------------------------------------------------------------------------\n",
      "\n",
      "\u001b[37mRunning Apriori on \u001b[32mmovielens \u001b[37m: \u001b[32mminsup = 250\n",
      "\u001b[37m################################################################################\n",
      "\u001b[37mAccessing data-stream #1\n",
      "\u001b[37mNum. of transactions: 322\n",
      "\u001b[37mNum. of freq itemsets in this chunk: \u001b[32m2\n",
      "\u001b[37mTotal num. of freq itemsets till now: 2\n",
      "\u001b[37mFinished data-stream #1 in \u001b[32m0.0 seconds.\n",
      "\u001b[37m--------------------------------------------------------------------------------\n",
      "\u001b[37mAccessing data-stream #2\n",
      "\u001b[37mNum. of transactions: 288\n",
      "\u001b[37mNum. of freq itemsets in this chunk: \u001b[32m2\n",
      "\u001b[37mTotal num. of freq itemsets till now: 4\n",
      "\u001b[37mFinished data-stream #2 in \u001b[32m0.1 seconds.\n",
      "\u001b[37m--------------------------------------------------------------------------------\n",
      "\u001b[37mAccessing data-stream #3\n",
      "\u001b[37mNum. of transactions: 1\n",
      "\u001b[37mNum. of freq itemsets: 0\n",
      "\u001b[37mTotal num. of freq itemsets till now: 4\n",
      "\u001b[37mFinished data-stream #3 in \u001b[32m0.0 seconds.\n",
      "\u001b[37m--------------------------------------------------------------------------------\n",
      "\u001b[37mTime taken for minsup 250 = \u001b[32m0.0 seconds.\n",
      "\u001b[37m\u001b[2mItemsets saved to ./logs/movielens/itemsets_df_minsup_250.csv\n",
      "\u001b[37m--------------------------------------------------------------------------------\n",
      "\n",
      "\u001b[32mCompleted movielens fp in 15.1 seconds.\n",
      "\u001b[37m################################################################################ \n",
      "\n",
      "\n"
     ]
    }
   ],
   "source": [
    "apriori_for_dataset(dataset_name, dataset_metadata, verbose=verbose)"
   ]
  },
  {
   "cell_type": "code",
   "execution_count": null,
   "metadata": {},
   "outputs": [],
   "source": []
  }
 ],
 "metadata": {
  "kernelspec": {
   "display_name": "fp_spark",
   "language": "python",
   "name": "python3"
  },
  "language_info": {
   "codemirror_mode": {
    "name": "ipython",
    "version": 3
   },
   "file_extension": ".py",
   "mimetype": "text/x-python",
   "name": "python",
   "nbconvert_exporter": "python",
   "pygments_lexer": "ipython3",
   "version": "3.12.0"
  }
 },
 "nbformat": 4,
 "nbformat_minor": 2
}
