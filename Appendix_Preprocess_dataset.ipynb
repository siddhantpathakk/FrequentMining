{
 "cells": [
  {
   "cell_type": "markdown",
   "metadata": {},
   "source": [
    "Groceries Dataset"
   ]
  },
  {
   "cell_type": "code",
   "execution_count": 1,
   "metadata": {},
   "outputs": [
    {
     "data": {
      "text/plain": [
       "userId\n",
       "1808           tropical fruit\n",
       "2552               whole milk\n",
       "2300                pip fruit\n",
       "1187         other vegetables\n",
       "3037               whole milk\n",
       "                ...          \n",
       "4471            sliced cheese\n",
       "2022                    candy\n",
       "1097                 cake bar\n",
       "1510    fruit/vegetable juice\n",
       "1521                 cat food\n",
       "Name: item, Length: 38765, dtype: object"
      ]
     },
     "metadata": {},
     "output_type": "display_data"
    }
   ],
   "source": [
    "import pandas as pd\n",
    "df = pd.read_csv('./data/groceries/Groceries_dataset.csv', header=None, names = ['userId', 'date', 'item'])\n",
    "df = df.set_index('userId')['item']\n",
    "df.to_csv('./data/groceries/transactions.csv')\n",
    "display(df)"
   ]
  },
  {
   "cell_type": "markdown",
   "metadata": {},
   "source": [
    "Movielens Dataset"
   ]
  },
  {
   "cell_type": "code",
   "execution_count": 2,
   "metadata": {},
   "outputs": [
    {
     "data": {
      "text/plain": [
       "userId\n",
       "1           1\n",
       "1           3\n",
       "1           6\n",
       "1          47\n",
       "1          50\n",
       "        ...  \n",
       "610    166534\n",
       "610    168248\n",
       "610    168250\n",
       "610    168252\n",
       "610    170875\n",
       "Name: movieId, Length: 81763, dtype: int64"
      ]
     },
     "metadata": {},
     "output_type": "display_data"
    }
   ],
   "source": [
    "import pandas as pd\n",
    "df = pd.read_csv('./data/movielens/ratings.csv', header=None, names = ['userId', 'movieId', 'rating', 'timestamp'])\n",
    "df = df[df['rating'] >= 3.0].set_index('userId')['movieId']\n",
    "df.to_csv('./data/movielens/transactions.csv')\n",
    "display(df)"
   ]
  },
  {
   "cell_type": "markdown",
   "metadata": {},
   "source": [
    "Amazon-Reviews"
   ]
  },
  {
   "cell_type": "code",
   "execution_count": 2,
   "metadata": {},
   "outputs": [],
   "source": [
    "import pandas as pd\n",
    "\n",
    "df = pd.read_csv('./data/amazon-reviews/all_csv_files.csv',header=None, names = ['item_id', 'reviewer_id', 'rating', 'timestamp'],\n",
    "                 usecols = [0,1,2],\n",
    "                 low_memory=True, engine='c', \n",
    "                 nrows = 233055326/2, skiprows=0)\n",
    "\n",
    "df = df[df['rating'] >= 4.0].reset_index()['item_id']\n",
    "\n",
    "cur_count = 100\n",
    "item_dict = {}\n",
    "for i in df.unique():\n",
    "    item_dict[i] = cur_count\n",
    "    cur_count += 1\n",
    "    \n",
    "df = df.map(item_dict)\n",
    "\n",
    "df.to_csv('./data/amazon-reviews/transactions4.csv')\n",
    "\n",
    "display(df.head())"
   ]
  }
 ],
 "metadata": {
  "kernelspec": {
   "display_name": "dam_proj2",
   "language": "python",
   "name": "python3"
  },
  "language_info": {
   "codemirror_mode": {
    "name": "ipython",
    "version": 3
   },
   "file_extension": ".py",
   "mimetype": "text/x-python",
   "name": "python",
   "nbconvert_exporter": "python",
   "pygments_lexer": "ipython3",
   "version": "3.12.0"
  }
 },
 "nbformat": 4,
 "nbformat_minor": 2
}
