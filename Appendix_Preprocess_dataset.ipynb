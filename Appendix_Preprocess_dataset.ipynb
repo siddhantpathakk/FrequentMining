{
 "cells": [
  {
   "cell_type": "markdown",
   "metadata": {},
   "source": [
    "Groceries Dataset"
   ]
  },
  {
   "cell_type": "code",
   "execution_count": 1,
   "metadata": {},
   "outputs": [
    {
     "data": {
      "text/plain": [
       "userId\n",
       "1808           tropical fruit\n",
       "2552               whole milk\n",
       "2300                pip fruit\n",
       "1187         other vegetables\n",
       "3037               whole milk\n",
       "                ...          \n",
       "4471            sliced cheese\n",
       "2022                    candy\n",
       "1097                 cake bar\n",
       "1510    fruit/vegetable juice\n",
       "1521                 cat food\n",
       "Name: item, Length: 38765, dtype: object"
      ]
     },
     "metadata": {},
     "output_type": "display_data"
    }
   ],
   "source": [
    "import pandas as pd\n",
    "df = pd.read_csv('./data/groceries/Groceries_dataset.csv', header=None, names = ['userId', 'date', 'item'])\n",
    "df = df.set_index('userId')['item']\n",
    "df.to_csv('./data/groceries/transactions.csv')\n",
    "display(df)"
   ]
  },
  {
   "cell_type": "markdown",
   "metadata": {},
   "source": [
    "Movielens Dataset"
   ]
  },
  {
   "cell_type": "code",
   "execution_count": 2,
   "metadata": {},
   "outputs": [
    {
     "data": {
      "text/plain": [
       "userId\n",
       "1           1\n",
       "1           3\n",
       "1           6\n",
       "1          47\n",
       "1          50\n",
       "        ...  \n",
       "610    166534\n",
       "610    168248\n",
       "610    168250\n",
       "610    168252\n",
       "610    170875\n",
       "Name: movieId, Length: 81763, dtype: int64"
      ]
     },
     "metadata": {},
     "output_type": "display_data"
    }
   ],
   "source": [
    "import pandas as pd\n",
    "df = pd.read_csv('./data/movielens/ratings.csv', header=None, names = ['userId', 'movieId', 'rating', 'timestamp'])\n",
    "df = df[df['rating'] >= 3.0].set_index('userId')['movieId']\n",
    "df.to_csv('./data/movielens/transactions.csv')\n",
    "display(df)"
   ]
  },
  {
   "cell_type": "markdown",
   "metadata": {},
   "source": [
    "Amazon-Reviews"
   ]
  },
  {
   "cell_type": "code",
   "execution_count": 4,
   "metadata": {},
   "outputs": [
    {
     "data": {
      "text/plain": [
       "reviewer_id\n",
       "A1HGH7NF01K3W7    B00ZGTMHVU\n",
       "A3GDQGSD4C0HOB    B013CG1EVC\n",
       "A1C88HIIEVN0QN    B013CG1EVC\n",
       "A1G5MTDE3A5LSL    B013CG1EVC\n",
       "A3SOHSDN51M5NQ    B013CG1XS6\n",
       "Name: item_id, dtype: object"
      ]
     },
     "metadata": {},
     "output_type": "display_data"
    }
   ],
   "source": [
    "import pandas as pd\n",
    "df = pd.read_csv('./data/amazon-reviews/all_csv_files.csv',header=None, names = ['item_id', 'reviewer_id', 'rating', 'timestamp'],\n",
    "                 low_memory=True, engine='c')\n",
    "df = df[df['rating'] >= 3.0].set_index('reviewer_id')['item_id']\n",
    "df.to_csv('./data/amazon-reviews/transactions.csv')\n",
    "display(df.head())"
   ]
  }
 ],
 "metadata": {
  "kernelspec": {
   "display_name": "dam_proj2",
   "language": "python",
   "name": "python3"
  },
  "language_info": {
   "codemirror_mode": {
    "name": "ipython",
    "version": 3
   },
   "file_extension": ".py",
   "mimetype": "text/x-python",
   "name": "python",
   "nbconvert_exporter": "python",
   "pygments_lexer": "ipython3",
   "version": "3.12.0"
  }
 },
 "nbformat": 4,
 "nbformat_minor": 2
}
