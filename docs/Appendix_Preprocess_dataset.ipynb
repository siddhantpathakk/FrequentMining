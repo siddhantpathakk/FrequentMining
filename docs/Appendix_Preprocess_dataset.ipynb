{
 "cells": [
  {
   "cell_type": "markdown",
   "metadata": {},
   "source": [
    "Groceries Dataset"
   ]
  },
  {
   "cell_type": "code",
   "execution_count": 1,
   "metadata": {},
   "outputs": [
    {
     "data": {
      "text/plain": [
       "userId\n",
       "1808           tropical fruit\n",
       "2552               whole milk\n",
       "2300                pip fruit\n",
       "1187         other vegetables\n",
       "3037               whole milk\n",
       "                ...          \n",
       "4471            sliced cheese\n",
       "2022                    candy\n",
       "1097                 cake bar\n",
       "1510    fruit/vegetable juice\n",
       "1521                 cat food\n",
       "Name: item, Length: 38765, dtype: object"
      ]
     },
     "metadata": {},
     "output_type": "display_data"
    }
   ],
   "source": [
    "import pandas as pd\n",
    "df = pd.read_csv('./data/groceries/Groceries_dataset.csv', header=None, names = ['userId', 'date', 'item'])\n",
    "df = df.set_index('userId')['item']\n",
    "df.to_csv('./data/groceries/transactions.csv')\n",
    "display(df)"
   ]
  },
  {
   "cell_type": "markdown",
   "metadata": {},
   "source": [
    "Movielens Dataset"
   ]
  },
  {
   "cell_type": "code",
   "execution_count": 2,
   "metadata": {},
   "outputs": [
    {
     "data": {
      "text/plain": [
       "userId\n",
       "1           1\n",
       "1           3\n",
       "1           6\n",
       "1          47\n",
       "1          50\n",
       "        ...  \n",
       "610    166534\n",
       "610    168248\n",
       "610    168250\n",
       "610    168252\n",
       "610    170875\n",
       "Name: movieId, Length: 81763, dtype: int64"
      ]
     },
     "metadata": {},
     "output_type": "display_data"
    }
   ],
   "source": [
    "import pandas as pd\n",
    "df = pd.read_csv('./data/movielens/ratings.csv', header=None, names = ['userId', 'movieId', 'rating', 'timestamp'])\n",
    "df = df[df['rating'] >= 3.0].set_index('userId')['movieId']\n",
    "df.to_csv('./data/movielens/transactions.csv')\n",
    "display(df)"
   ]
  },
  {
   "cell_type": "markdown",
   "metadata": {},
   "source": [
    "Amazon-Reviews"
   ]
  },
  {
   "cell_type": "code",
   "execution_count": 2,
   "metadata": {},
   "outputs": [],
   "source": [
    "from pyspark import SparkContext\n",
    "import json\n",
    "import csv\n",
    "import sys\n",
    "\n",
    "business_file_path = \"./data/yelp_dataset/business.json\"\n",
    "review_file_path = \"./data/yelp_dataset/review.json\"\n",
    "output_file_path = \"./data/yelp_dataset/user_business.csv\"\n",
    "state = \"NV\"\n",
    "\n",
    "sc = SparkContext.getOrCreate()\n",
    "business_list = sc.textFile(business_file_path).map(lambda row: json.loads(row))\\\n",
    "    .map(lambda json_data: (json_data[\"business_id\"], json_data[\"state\"]))\\\n",
    "    .filter(lambda kv: kv[1] == state).map(lambda line: line[0]).collect()\n",
    "\n",
    "user_list = sc.textFile(review_file_path).map(lambda row: json.loads(row))\\\n",
    "    .map(lambda json_data: (json_data[\"user_id\"], json_data[\"business_id\"]))\\\n",
    "    .filter(lambda kv: kv[1] in business_list).collect()\n",
    "\n",
    "with open(output_file_path, mode='w', newline='') as result_file:\n",
    "    # write output to csv file\n",
    "    result_writer = csv.writer(result_file)\n",
    "    result_writer.writerow([\"user_id\", \"business_id\"])\n",
    "    result_writer.writerows(i for i in user_list)\n",
    "    result_file.close()"
   ]
  }
 ],
 "metadata": {
  "kernelspec": {
   "display_name": "dam_proj2",
   "language": "python",
   "name": "python3"
  },
  "language_info": {
   "codemirror_mode": {
    "name": "ipython",
    "version": 3
   },
   "file_extension": ".py",
   "mimetype": "text/x-python",
   "name": "python",
   "nbconvert_exporter": "python",
   "pygments_lexer": "ipython3",
   "version": "3.12.0"
  }
 },
 "nbformat": 4,
 "nbformat_minor": 2
}
