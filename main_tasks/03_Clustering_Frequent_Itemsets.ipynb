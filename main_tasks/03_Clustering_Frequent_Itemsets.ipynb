{
 "cells": [
  {
   "cell_type": "code",
   "execution_count": null,
   "metadata": {},
   "outputs": [],
   "source": [
    "import numpy as np\n",
    "from sklearn.cluster import KMeans, AgglomerativeClustering\n",
    "from sklearn.metrics import adjusted_rand_score\n",
    "from sklearn.datasets import load_wine, load_iris\n",
    "from sklearn.preprocessing import KBinsDiscretizer"
   ]
  },
  {
   "cell_type": "code",
   "execution_count": 1,
   "metadata": {},
   "outputs": [],
   "source": [
    "def apriori(data, min_support=0.5):\n",
    "    # 1. Count single items\n",
    "    single_counts = {}\n",
    "    for row in data:\n",
    "        for item in row:\n",
    "            if item in single_counts:\n",
    "                single_counts[item] += 1\n",
    "            else:\n",
    "                single_counts[item] = 1\n",
    "\n",
    "    # Filter items by support\n",
    "    items = [item for item, count in single_counts.items() if count / len(data) >= min_support]\n",
    "    itemsets = [{item} for item in items]\n",
    "\n",
    "    final_itemsets = []\n",
    "    while itemsets:\n",
    "        new_itemsets = []\n",
    "        for i in range(len(itemsets)):\n",
    "            for j in range(i+1, len(itemsets)):\n",
    "                # Form new potential itemset\n",
    "                union = itemsets[i].union(itemsets[j])\n",
    "                if len(union) == len(itemsets[i]) + 1:\n",
    "                    # Count the support of the new itemset\n",
    "                    count = sum(1 for row in data if union.issubset(row))\n",
    "                    if count / len(data) >= min_support and union not in new_itemsets:\n",
    "                        new_itemsets.append(union)\n",
    "\n",
    "        if not new_itemsets:\n",
    "            break\n",
    "\n",
    "        final_itemsets.extend(new_itemsets)\n",
    "        itemsets = new_itemsets\n",
    "\n",
    "    return final_itemsets"
   ]
  },
  {
   "cell_type": "code",
   "execution_count": null,
   "metadata": {},
   "outputs": [],
   "source": [
    "def discretize_data(data):\n",
    "    discretizer = KBinsDiscretizer(n_bins=3, encode='ordinal', strategy='uniform')\n",
    "    data_discrete = discretizer.fit_transform(data)\n",
    "    transactions = []\n",
    "    for row in data_discrete:\n",
    "        transactions.append(set(np.where(row == 1)[0]))\n",
    "    return transactions\n",
    "\n",
    "def create_features(transactions, itemsets):\n",
    "    features = []\n",
    "    for transaction in transactions:\n",
    "        row_features = [int(itemset.issubset(transaction)) for itemset in itemsets]\n",
    "        features.append(row_features)\n",
    "    return features"
   ]
  },
  {
   "cell_type": "code",
   "execution_count": null,
   "metadata": {},
   "outputs": [],
   "source": [
    "# Load datasets\n",
    "wine_data = load_wine().data\n",
    "wine_true_labels = load_wine().target\n",
    "iris_data = load_iris().data\n",
    "iris_true_labels = load_iris().target"
   ]
  },
  {
   "cell_type": "code",
   "execution_count": null,
   "metadata": {},
   "outputs": [],
   "source": [
    "# Step 1: Discretize the datasets using 2 bins\n",
    "wine_transactions = discretize_data(wine_data)\n",
    "iris_transactions = discretize_data(iris_data)"
   ]
  },
  {
   "cell_type": "code",
   "execution_count": null,
   "metadata": {},
   "outputs": [],
   "source": [
    "# Step 2: Use apriori to get frequent itemsets\n",
    "wine_itemsets = apriori(wine_transactions, min_support=0.2)\n",
    "iris_itemsets = apriori(iris_transactions, min_support=0.2)"
   ]
  },
  {
   "cell_type": "code",
   "execution_count": null,
   "metadata": {},
   "outputs": [],
   "source": [
    "# Step 3: Convert itemsets to binary features\n",
    "wine_features = create_features(wine_transactions, wine_itemsets)\n",
    "iris_features = create_features(iris_transactions, iris_itemsets)"
   ]
  },
  {
   "cell_type": "code",
   "execution_count": null,
   "metadata": {},
   "outputs": [],
   "source": [
    "# Step 4: Use sklearn for clustering\n",
    "kmeans_wine = KMeans(n_clusters=3, random_state=0).fit(wine_features)\n",
    "kmeans_iris = KMeans(n_clusters=3, random_state=0).fit(iris_features)\n",
    "wine_kmeans_ari = adjusted_rand_score(wine_true_labels, kmeans_wine.labels_)\n",
    "iris_kmeans_ari = adjusted_rand_score(iris_true_labels, kmeans_iris.labels_)\n",
    "\n",
    "agglo_wine = AgglomerativeClustering(n_clusters=3).fit(wine_features)\n",
    "agglo_iris = AgglomerativeClustering(n_clusters=3).fit(iris_features)\n",
    "wine_agglo_ari = adjusted_rand_score(wine_true_labels, agglo_wine.labels_)\n",
    "iris_agglo_ari = adjusted_rand_score(iris_true_labels, agglo_iris.labels_)"
   ]
  },
  {
   "cell_type": "code",
   "execution_count": 4,
   "metadata": {},
   "outputs": [
    {
     "name": "stdout",
     "output_type": "stream",
     "text": [
      "Wine K-Means ARI with Apriori Features: 0.25665226660424906\n",
      "Iris K-Means ARI with Apriori Features: 0.28315560728971084\n",
      "\n",
      "Wine Hierarchical ARI with Apriori Features: 0.30799712653768524\n",
      "Iris Hierarchical ARI with Apriori Features: 0.29358053234609816\n"
     ]
    }
   ],
   "source": [
    "print(f\"Wine K-Means ARI with Apriori Features:\\t{wine_kmeans_ari:0.3f}\")\n",
    "print(f\"Iris K-Means ARI with Apriori Features\\t{iris_kmeans_ari:0.3f}\")"
   ]
  },
  {
   "cell_type": "code",
   "execution_count": null,
   "metadata": {},
   "outputs": [],
   "source": [
    "print(f\"Wine Hierarchical ARI with Apriori Features:\\t{wine_agglo_ari:0.3f}\")\n",
    "print(f\"Iris Hierarchical ARI with Apriori Features:\\t{iris_agglo_ari:0.3f}\")"
   ]
  }
 ],
 "metadata": {
  "kernelspec": {
   "display_name": "Python 3",
   "language": "python",
   "name": "python3"
  },
  "language_info": {
   "codemirror_mode": {
    "name": "ipython",
    "version": 3
   },
   "file_extension": ".py",
   "mimetype": "text/x-python",
   "name": "python",
   "nbconvert_exporter": "python",
   "pygments_lexer": "ipython3",
   "version": "3.10.4"
  }
 },
 "nbformat": 4,
 "nbformat_minor": 2
}
