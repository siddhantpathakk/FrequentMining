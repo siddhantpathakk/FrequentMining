{
 "cells": [
  {
   "cell_type": "code",
   "execution_count": 35,
   "metadata": {},
   "outputs": [
    {
     "name": "stderr",
     "output_type": "stream",
     "text": [
      "23/11/22 22:24:33 WARN Utils: Your hostname, Siddhant-MacBook-Air.local resolves to a loopback address: 127.0.0.1; using 192.168.0.156 instead (on interface en0)\n",
      "23/11/22 22:24:33 WARN Utils: Set SPARK_LOCAL_IP if you need to bind to another address\n",
      "Setting default log level to \"WARN\".\n",
      "To adjust logging level use sc.setLogLevel(newLevel). For SparkR, use setLogLevel(newLevel).\n",
      "23/11/22 22:24:33 WARN NativeCodeLoader: Unable to load native-hadoop library for your platform... using builtin-java classes where applicable\n",
      "                                                                                \r"
     ]
    }
   ],
   "source": [
    "from pyspark import SparkContext\n",
    "import json\n",
    "import csv\n",
    "import sys\n",
    "\n",
    "business_file_path = \"./data/yelp_dataset/business.json\"\n",
    "review_file_path = \"./data/yelp_dataset/review.json\"\n",
    "output_file_path = \"./data/yelp_dataset/user_business.csv\"\n",
    "state = \"NV\"\n",
    "\n",
    "sc = SparkContext.getOrCreate()\n",
    "business_list = sc.textFile(business_file_path).map(lambda row: json.loads(row))\\\n",
    "    .map(lambda json_data: (json_data[\"business_id\"], json_data[\"state\"]))\\\n",
    "    .filter(lambda kv: kv[1] == state).map(lambda line: line[0]).collect()\n",
    "\n",
    "user_list = sc.textFile(review_file_path).map(lambda row: json.loads(row))\\\n",
    "    .map(lambda json_data: (json_data[\"user_id\"], json_data[\"business_id\"]))\\\n",
    "    .filter(lambda kv: kv[1] in business_list).collect()\n",
    "\n",
    "with open(output_file_path, mode='w', newline='') as result_file:\n",
    "    # write output to csv file\n",
    "    result_writer = csv.writer(result_file)\n",
    "    result_writer.writerow([\"user_id\", \"business_id\"])\n",
    "    result_writer.writerows(i for i in user_list)\n",
    "    result_file.close()"
   ]
  },
  {
   "cell_type": "code",
   "execution_count": 36,
   "metadata": {},
   "outputs": [
    {
     "data": {
      "text/html": [
       "<div>\n",
       "<style scoped>\n",
       "    .dataframe tbody tr th:only-of-type {\n",
       "        vertical-align: middle;\n",
       "    }\n",
       "\n",
       "    .dataframe tbody tr th {\n",
       "        vertical-align: top;\n",
       "    }\n",
       "\n",
       "    .dataframe thead th {\n",
       "        text-align: right;\n",
       "    }\n",
       "</style>\n",
       "<table border=\"1\" class=\"dataframe\">\n",
       "  <thead>\n",
       "    <tr style=\"text-align: right;\">\n",
       "      <th></th>\n",
       "      <th>user_id</th>\n",
       "      <th>business_id</th>\n",
       "    </tr>\n",
       "  </thead>\n",
       "  <tbody>\n",
       "    <tr>\n",
       "      <th>0</th>\n",
       "      <td>yFuE8SPF-d1GXJUWYgKtzg</td>\n",
       "      <td>X8lfGPagfLzfOsx0k08NRQ</td>\n",
       "    </tr>\n",
       "    <tr>\n",
       "      <th>1</th>\n",
       "      <td>wA7V8Ijgbv-16rmnwW-hjA</td>\n",
       "      <td>LfYUOclwLs_SPrNAdKMjsw</td>\n",
       "    </tr>\n",
       "    <tr>\n",
       "      <th>2</th>\n",
       "      <td>qEEk0PuoH1dVa619t8fgpw</td>\n",
       "      <td>PY9GRfzr4nTZeINf346QOw</td>\n",
       "    </tr>\n",
       "    <tr>\n",
       "      <th>3</th>\n",
       "      <td>EZjT2qJN0mOXypMAqZdSrQ</td>\n",
       "      <td>A2q7d-CBM2-81tVkmS4JMw</td>\n",
       "    </tr>\n",
       "    <tr>\n",
       "      <th>4</th>\n",
       "      <td>xjDZnGhK76PQkcVzO3dcWw</td>\n",
       "      <td>uaipZDBSvzDzUUlazpyGCg</td>\n",
       "    </tr>\n",
       "  </tbody>\n",
       "</table>\n",
       "</div>"
      ],
      "text/plain": [
       "                  user_id             business_id\n",
       "0  yFuE8SPF-d1GXJUWYgKtzg  X8lfGPagfLzfOsx0k08NRQ\n",
       "1  wA7V8Ijgbv-16rmnwW-hjA  LfYUOclwLs_SPrNAdKMjsw\n",
       "2  qEEk0PuoH1dVa619t8fgpw  PY9GRfzr4nTZeINf346QOw\n",
       "3  EZjT2qJN0mOXypMAqZdSrQ  A2q7d-CBM2-81tVkmS4JMw\n",
       "4  xjDZnGhK76PQkcVzO3dcWw  uaipZDBSvzDzUUlazpyGCg"
      ]
     },
     "metadata": {},
     "output_type": "display_data"
    },
    {
     "data": {
      "text/plain": [
       "(430678, 2)"
      ]
     },
     "execution_count": 36,
     "metadata": {},
     "output_type": "execute_result"
    }
   ],
   "source": [
    "import pandas as pd\n",
    "data = pd.read_csv(output_file_path)\n",
    "display(data.head())\n",
    "data.shape"
   ]
  },
  {
   "cell_type": "code",
   "execution_count": 41,
   "metadata": {},
   "outputs": [],
   "source": [
    "import pandas as pd\n",
    "df = pd.read_csv('./data/ml-20m/ratings.csv')\n",
    "# display(df.head())\n",
    "df = df[df['rating'] >= 4].set_index('userId')['movieId']\n",
    "df = df.sample(frac=1)\n",
    "df.to_csv('./data/ml-20m/transactions.csv')\n",
    "# display(df)"
   ]
  },
  {
   "cell_type": "code",
   "execution_count": 42,
   "metadata": {},
   "outputs": [
    {
     "data": {
      "text/html": [
       "<div>\n",
       "<style scoped>\n",
       "    .dataframe tbody tr th:only-of-type {\n",
       "        vertical-align: middle;\n",
       "    }\n",
       "\n",
       "    .dataframe tbody tr th {\n",
       "        vertical-align: top;\n",
       "    }\n",
       "\n",
       "    .dataframe thead th {\n",
       "        text-align: right;\n",
       "    }\n",
       "</style>\n",
       "<table border=\"1\" class=\"dataframe\">\n",
       "  <thead>\n",
       "    <tr style=\"text-align: right;\">\n",
       "      <th></th>\n",
       "      <th>userId</th>\n",
       "      <th>movieId</th>\n",
       "    </tr>\n",
       "  </thead>\n",
       "  <tbody>\n",
       "    <tr>\n",
       "      <th>0</th>\n",
       "      <td>122267</td>\n",
       "      <td>3083</td>\n",
       "    </tr>\n",
       "    <tr>\n",
       "      <th>1</th>\n",
       "      <td>12844</td>\n",
       "      <td>2023</td>\n",
       "    </tr>\n",
       "    <tr>\n",
       "      <th>2</th>\n",
       "      <td>6838</td>\n",
       "      <td>4344</td>\n",
       "    </tr>\n",
       "    <tr>\n",
       "      <th>3</th>\n",
       "      <td>103175</td>\n",
       "      <td>40815</td>\n",
       "    </tr>\n",
       "    <tr>\n",
       "      <th>4</th>\n",
       "      <td>69735</td>\n",
       "      <td>527</td>\n",
       "    </tr>\n",
       "  </tbody>\n",
       "</table>\n",
       "</div>"
      ],
      "text/plain": [
       "   userId  movieId\n",
       "0  122267     3083\n",
       "1   12844     2023\n",
       "2    6838     4344\n",
       "3  103175    40815\n",
       "4   69735      527"
      ]
     },
     "metadata": {},
     "output_type": "display_data"
    },
    {
     "data": {
      "text/plain": [
       "(9995410, 2)"
      ]
     },
     "execution_count": 42,
     "metadata": {},
     "output_type": "execute_result"
    }
   ],
   "source": [
    "data = pd.read_csv('./data/ml-20m/transactions.csv')\n",
    "display(data.head())\n",
    "data.shape"
   ]
  },
  {
   "cell_type": "code",
   "execution_count": null,
   "metadata": {},
   "outputs": [],
   "source": []
  }
 ],
 "metadata": {
  "language_info": {
   "name": "python"
  }
 },
 "nbformat": 4,
 "nbformat_minor": 2
}
