{
 "cells": [
  {
   "cell_type": "code",
   "execution_count": 1,
   "metadata": {},
   "outputs": [],
   "source": [
    "import pandas as pd\n",
    "from utils.task1_utils import *"
   ]
  },
  {
   "cell_type": "code",
   "execution_count": 2,
   "metadata": {},
   "outputs": [],
   "source": [
    "input_file_path = r'./data/dummy_data.csv'"
   ]
  },
  {
   "cell_type": "code",
   "execution_count": 3,
   "metadata": {},
   "outputs": [
    {
     "data": {
      "text/html": [
       "<div>\n",
       "<style scoped>\n",
       "    .dataframe tbody tr th:only-of-type {\n",
       "        vertical-align: middle;\n",
       "    }\n",
       "\n",
       "    .dataframe tbody tr th {\n",
       "        vertical-align: top;\n",
       "    }\n",
       "\n",
       "    .dataframe thead th {\n",
       "        text-align: right;\n",
       "    }\n",
       "</style>\n",
       "<table border=\"1\" class=\"dataframe\">\n",
       "  <thead>\n",
       "    <tr style=\"text-align: right;\">\n",
       "      <th></th>\n",
       "      <th>uid</th>\n",
       "      <th>item</th>\n",
       "    </tr>\n",
       "  </thead>\n",
       "  <tbody>\n",
       "    <tr>\n",
       "      <th>0</th>\n",
       "      <td>1</td>\n",
       "      <td>apple</td>\n",
       "    </tr>\n",
       "    <tr>\n",
       "      <th>1</th>\n",
       "      <td>1</td>\n",
       "      <td>carrot</td>\n",
       "    </tr>\n",
       "    <tr>\n",
       "      <th>2</th>\n",
       "      <td>1</td>\n",
       "      <td>durian</td>\n",
       "    </tr>\n",
       "    <tr>\n",
       "      <th>3</th>\n",
       "      <td>2</td>\n",
       "      <td>banana</td>\n",
       "    </tr>\n",
       "    <tr>\n",
       "      <th>4</th>\n",
       "      <td>2</td>\n",
       "      <td>carrot</td>\n",
       "    </tr>\n",
       "  </tbody>\n",
       "</table>\n",
       "</div>"
      ],
      "text/plain": [
       "   uid    item\n",
       "0    1   apple\n",
       "1    1  carrot\n",
       "2    1  durian\n",
       "3    2  banana\n",
       "4    2  carrot"
      ]
     },
     "execution_count": 3,
     "metadata": {},
     "output_type": "execute_result"
    }
   ],
   "source": [
    "df = pd.read_csv(input_file_path, header=None, names=['uid', 'item'])\n",
    "df.head()"
   ]
  },
  {
   "cell_type": "code",
   "execution_count": 4,
   "metadata": {},
   "outputs": [],
   "source": [
    "qualifiedUsers = df.groupby('uid')['item'].apply(set).reset_index()\n",
    "qualifiedUsers = list(qualifiedUsers['item'].to_dict().values())"
   ]
  },
  {
   "cell_type": "code",
   "execution_count": 5,
   "metadata": {},
   "outputs": [],
   "source": [
    "def apriori(chunk, minsup):\n",
    "    # chunk_list is needed here because chunk is of type TraversableOnce, which will be empty after calling list\n",
    "    # chunk = list(chunk)\n",
    "    \n",
    "    if minsup < 1:\n",
    "        minsup = 1\n",
    "\n",
    "    # contains all k-tuple itemsets as result\n",
    "    result_candidate_itemsets = list()  \n",
    "    \n",
    "    # contains the true frequent itemsets used to generate candidate for next k in apriori\n",
    "    true_frequent_k_itemset_list = list()\n",
    "    \n",
    "    # contains candidate of next k-tuple itemsets, used to decide if there are any candidate left\n",
    "    next_k_candidate_list = list()\n",
    "    k_index = 1\n",
    "\n",
    "    # generate true frequent singletons\n",
    "    # true_frequent_k_itemset_list is now the frequent singletons\n",
    "    # next_k_candidate_list is now the singleton candidates\n",
    "\n",
    "    true_frequent_k_itemset_list, next_k_candidate_list = generateFrequentSingletons(\n",
    "        chunk, minsup)\n",
    "\n",
    "    while len(next_k_candidate_list) != 0:\n",
    "        k_index += 1  # generate 2-tuple candidates, 3-tuple, 4-tuple, etc\n",
    "\n",
    "        if k_index == 2:\n",
    "\n",
    "            result_candidate_itemsets.append(\n",
    "                # append candidate k\n",
    "                [(single,) for single in true_frequent_k_itemset_list])\n",
    "            next_k_candidate_list = generateKTupleItemsets(\n",
    "                # true k-1 to candidate k\n",
    "                [(single,) for single in true_frequent_k_itemset_list], 2)\n",
    "        else:\n",
    "            true_frequent_k_itemset_list = countFrequentItemsets(\n",
    "                next_k_candidate_list, chunk, minsup)  # cand k to true k\n",
    "            result_candidate_itemsets.append(\n",
    "                true_frequent_k_itemset_list)  # append candidate k\n",
    "            next_k_candidate_list = generateKTupleItemsets(\n",
    "                true_frequent_k_itemset_list, k_index)  # true k to candidate k+1\n",
    "\n",
    "    return result_candidate_itemsets"
   ]
  },
  {
   "cell_type": "code",
   "execution_count": 7,
   "metadata": {},
   "outputs": [
    {
     "name": "stdout",
     "output_type": "stream",
     "text": [
      "CPU times: user 66 µs, sys: 2 µs, total: 68 µs\n",
      "Wall time: 71.8 µs\n"
     ]
    },
    {
     "data": {
      "text/plain": [
       "[[('carrot',), ('banana',), ('edamame',)], [('banana', 'edamame')]]"
      ]
     },
     "execution_count": 7,
     "metadata": {},
     "output_type": "execute_result"
    }
   ],
   "source": [
    "%%time\n",
    "\n",
    "fi = apriori(qualifiedUsers, minsup=3)"
   ]
  },
  {
   "cell_type": "code",
   "execution_count": 8,
   "metadata": {},
   "outputs": [
    {
     "data": {
      "text/plain": [
       "[[('carrot',), ('banana',), ('edamame',)], [('banana', 'edamame')]]"
      ]
     },
     "execution_count": 8,
     "metadata": {},
     "output_type": "execute_result"
    }
   ],
   "source": [
    "fi"
   ]
  }
 ],
 "metadata": {
  "kernelspec": {
   "display_name": "fp_spark",
   "language": "python",
   "name": "python3"
  },
  "language_info": {
   "codemirror_mode": {
    "name": "ipython",
    "version": 3
   },
   "file_extension": ".py",
   "mimetype": "text/x-python",
   "name": "python",
   "nbconvert_exporter": "python",
   "pygments_lexer": "ipython3",
   "version": "3.12.0"
  }
 },
 "nbformat": 4,
 "nbformat_minor": 2
}
