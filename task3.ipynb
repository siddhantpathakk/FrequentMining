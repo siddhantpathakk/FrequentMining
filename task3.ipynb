{
 "cells": [
  {
   "cell_type": "code",
   "execution_count": 1,
   "metadata": {},
   "outputs": [],
   "source": [
    "from sklearn.datasets import load_wine\n",
    "import pandas as pd\n",
    "\n",
    "from mlxtend.frequent_patterns import apriori"
   ]
  },
  {
   "cell_type": "code",
   "execution_count": 2,
   "metadata": {},
   "outputs": [
    {
     "data": {
      "text/html": [
       "<div>\n",
       "<style scoped>\n",
       "    .dataframe tbody tr th:only-of-type {\n",
       "        vertical-align: middle;\n",
       "    }\n",
       "\n",
       "    .dataframe tbody tr th {\n",
       "        vertical-align: top;\n",
       "    }\n",
       "\n",
       "    .dataframe thead th {\n",
       "        text-align: right;\n",
       "    }\n",
       "</style>\n",
       "<table border=\"1\" class=\"dataframe\">\n",
       "  <thead>\n",
       "    <tr style=\"text-align: right;\">\n",
       "      <th></th>\n",
       "      <th>alcohol</th>\n",
       "      <th>malic_acid</th>\n",
       "      <th>ash</th>\n",
       "      <th>alcalinity_of_ash</th>\n",
       "      <th>magnesium</th>\n",
       "      <th>total_phenols</th>\n",
       "      <th>flavanoids</th>\n",
       "      <th>nonflavanoid_phenols</th>\n",
       "      <th>proanthocyanins</th>\n",
       "      <th>color_intensity</th>\n",
       "      <th>hue</th>\n",
       "      <th>od280/od315_of_diluted_wines</th>\n",
       "      <th>proline</th>\n",
       "      <th>target</th>\n",
       "    </tr>\n",
       "  </thead>\n",
       "  <tbody>\n",
       "    <tr>\n",
       "      <th>21</th>\n",
       "      <td>12.93</td>\n",
       "      <td>3.80</td>\n",
       "      <td>2.65</td>\n",
       "      <td>18.6</td>\n",
       "      <td>102.0</td>\n",
       "      <td>2.41</td>\n",
       "      <td>2.41</td>\n",
       "      <td>0.25</td>\n",
       "      <td>1.98</td>\n",
       "      <td>4.50</td>\n",
       "      <td>1.03</td>\n",
       "      <td>3.52</td>\n",
       "      <td>770.0</td>\n",
       "      <td>0</td>\n",
       "    </tr>\n",
       "    <tr>\n",
       "      <th>87</th>\n",
       "      <td>11.65</td>\n",
       "      <td>1.67</td>\n",
       "      <td>2.62</td>\n",
       "      <td>26.0</td>\n",
       "      <td>88.0</td>\n",
       "      <td>1.92</td>\n",
       "      <td>1.61</td>\n",
       "      <td>0.40</td>\n",
       "      <td>1.34</td>\n",
       "      <td>2.60</td>\n",
       "      <td>1.36</td>\n",
       "      <td>3.21</td>\n",
       "      <td>562.0</td>\n",
       "      <td>1</td>\n",
       "    </tr>\n",
       "    <tr>\n",
       "      <th>150</th>\n",
       "      <td>13.50</td>\n",
       "      <td>3.12</td>\n",
       "      <td>2.62</td>\n",
       "      <td>24.0</td>\n",
       "      <td>123.0</td>\n",
       "      <td>1.40</td>\n",
       "      <td>1.57</td>\n",
       "      <td>0.22</td>\n",
       "      <td>1.25</td>\n",
       "      <td>8.60</td>\n",
       "      <td>0.59</td>\n",
       "      <td>1.30</td>\n",
       "      <td>500.0</td>\n",
       "      <td>2</td>\n",
       "    </tr>\n",
       "    <tr>\n",
       "      <th>140</th>\n",
       "      <td>12.93</td>\n",
       "      <td>2.81</td>\n",
       "      <td>2.70</td>\n",
       "      <td>21.0</td>\n",
       "      <td>96.0</td>\n",
       "      <td>1.54</td>\n",
       "      <td>0.50</td>\n",
       "      <td>0.53</td>\n",
       "      <td>0.75</td>\n",
       "      <td>4.60</td>\n",
       "      <td>0.77</td>\n",
       "      <td>2.31</td>\n",
       "      <td>600.0</td>\n",
       "      <td>2</td>\n",
       "    </tr>\n",
       "    <tr>\n",
       "      <th>2</th>\n",
       "      <td>13.16</td>\n",
       "      <td>2.36</td>\n",
       "      <td>2.67</td>\n",
       "      <td>18.6</td>\n",
       "      <td>101.0</td>\n",
       "      <td>2.80</td>\n",
       "      <td>3.24</td>\n",
       "      <td>0.30</td>\n",
       "      <td>2.81</td>\n",
       "      <td>5.68</td>\n",
       "      <td>1.03</td>\n",
       "      <td>3.17</td>\n",
       "      <td>1185.0</td>\n",
       "      <td>0</td>\n",
       "    </tr>\n",
       "  </tbody>\n",
       "</table>\n",
       "</div>"
      ],
      "text/plain": [
       "     alcohol  malic_acid   ash  alcalinity_of_ash  magnesium  total_phenols  \\\n",
       "21     12.93        3.80  2.65               18.6      102.0           2.41   \n",
       "87     11.65        1.67  2.62               26.0       88.0           1.92   \n",
       "150    13.50        3.12  2.62               24.0      123.0           1.40   \n",
       "140    12.93        2.81  2.70               21.0       96.0           1.54   \n",
       "2      13.16        2.36  2.67               18.6      101.0           2.80   \n",
       "\n",
       "     flavanoids  nonflavanoid_phenols  proanthocyanins  color_intensity   hue  \\\n",
       "21         2.41                  0.25             1.98             4.50  1.03   \n",
       "87         1.61                  0.40             1.34             2.60  1.36   \n",
       "150        1.57                  0.22             1.25             8.60  0.59   \n",
       "140        0.50                  0.53             0.75             4.60  0.77   \n",
       "2          3.24                  0.30             2.81             5.68  1.03   \n",
       "\n",
       "     od280/od315_of_diluted_wines  proline  target  \n",
       "21                           3.52    770.0       0  \n",
       "87                           3.21    562.0       1  \n",
       "150                          1.30    500.0       2  \n",
       "140                          2.31    600.0       2  \n",
       "2                            3.17   1185.0       0  "
      ]
     },
     "execution_count": 2,
     "metadata": {},
     "output_type": "execute_result"
    }
   ],
   "source": [
    "data = load_wine()\n",
    "df = pd.DataFrame(data.data, columns=data.feature_names)\n",
    "df['target'] = data.target\n",
    "\n",
    "df = df.sample(frac=1)\n",
    "\n",
    "df.head()"
   ]
  },
  {
   "cell_type": "code",
   "execution_count": 3,
   "metadata": {},
   "outputs": [
    {
     "data": {
      "text/html": [
       "<div>\n",
       "<style scoped>\n",
       "    .dataframe tbody tr th:only-of-type {\n",
       "        vertical-align: middle;\n",
       "    }\n",
       "\n",
       "    .dataframe tbody tr th {\n",
       "        vertical-align: top;\n",
       "    }\n",
       "\n",
       "    .dataframe thead th {\n",
       "        text-align: right;\n",
       "    }\n",
       "</style>\n",
       "<table border=\"1\" class=\"dataframe\">\n",
       "  <thead>\n",
       "    <tr style=\"text-align: right;\">\n",
       "      <th></th>\n",
       "      <th>alcohol</th>\n",
       "      <th>malic_acid</th>\n",
       "      <th>ash</th>\n",
       "      <th>alcalinity_of_ash</th>\n",
       "      <th>magnesium</th>\n",
       "      <th>total_phenols</th>\n",
       "      <th>flavanoids</th>\n",
       "      <th>nonflavanoid_phenols</th>\n",
       "      <th>proanthocyanins</th>\n",
       "      <th>color_intensity</th>\n",
       "      <th>hue</th>\n",
       "      <th>od280/od315_of_diluted_wines</th>\n",
       "      <th>proline</th>\n",
       "      <th>target</th>\n",
       "    </tr>\n",
       "  </thead>\n",
       "  <tbody>\n",
       "    <tr>\n",
       "      <th>21</th>\n",
       "      <td>False</td>\n",
       "      <td>True</td>\n",
       "      <td>True</td>\n",
       "      <td>False</td>\n",
       "      <td>True</td>\n",
       "      <td>True</td>\n",
       "      <td>True</td>\n",
       "      <td>False</td>\n",
       "      <td>True</td>\n",
       "      <td>False</td>\n",
       "      <td>True</td>\n",
       "      <td>True</td>\n",
       "      <td>True</td>\n",
       "      <td>0</td>\n",
       "    </tr>\n",
       "    <tr>\n",
       "      <th>87</th>\n",
       "      <td>False</td>\n",
       "      <td>False</td>\n",
       "      <td>True</td>\n",
       "      <td>True</td>\n",
       "      <td>False</td>\n",
       "      <td>False</td>\n",
       "      <td>False</td>\n",
       "      <td>True</td>\n",
       "      <td>False</td>\n",
       "      <td>False</td>\n",
       "      <td>True</td>\n",
       "      <td>True</td>\n",
       "      <td>False</td>\n",
       "      <td>1</td>\n",
       "    </tr>\n",
       "    <tr>\n",
       "      <th>150</th>\n",
       "      <td>True</td>\n",
       "      <td>True</td>\n",
       "      <td>True</td>\n",
       "      <td>True</td>\n",
       "      <td>True</td>\n",
       "      <td>False</td>\n",
       "      <td>False</td>\n",
       "      <td>False</td>\n",
       "      <td>False</td>\n",
       "      <td>True</td>\n",
       "      <td>False</td>\n",
       "      <td>False</td>\n",
       "      <td>False</td>\n",
       "      <td>2</td>\n",
       "    </tr>\n",
       "    <tr>\n",
       "      <th>140</th>\n",
       "      <td>False</td>\n",
       "      <td>True</td>\n",
       "      <td>True</td>\n",
       "      <td>True</td>\n",
       "      <td>False</td>\n",
       "      <td>False</td>\n",
       "      <td>False</td>\n",
       "      <td>True</td>\n",
       "      <td>False</td>\n",
       "      <td>False</td>\n",
       "      <td>False</td>\n",
       "      <td>False</td>\n",
       "      <td>False</td>\n",
       "      <td>2</td>\n",
       "    </tr>\n",
       "    <tr>\n",
       "      <th>2</th>\n",
       "      <td>True</td>\n",
       "      <td>True</td>\n",
       "      <td>True</td>\n",
       "      <td>False</td>\n",
       "      <td>True</td>\n",
       "      <td>True</td>\n",
       "      <td>True</td>\n",
       "      <td>False</td>\n",
       "      <td>True</td>\n",
       "      <td>True</td>\n",
       "      <td>True</td>\n",
       "      <td>True</td>\n",
       "      <td>True</td>\n",
       "      <td>0</td>\n",
       "    </tr>\n",
       "  </tbody>\n",
       "</table>\n",
       "</div>"
      ],
      "text/plain": [
       "     alcohol  malic_acid   ash  alcalinity_of_ash  magnesium  total_phenols  \\\n",
       "21     False        True  True              False       True           True   \n",
       "87     False       False  True               True      False          False   \n",
       "150     True        True  True               True       True          False   \n",
       "140    False        True  True               True      False          False   \n",
       "2       True        True  True              False       True           True   \n",
       "\n",
       "     flavanoids  nonflavanoid_phenols  proanthocyanins  color_intensity  \\\n",
       "21         True                 False             True            False   \n",
       "87        False                  True            False            False   \n",
       "150       False                 False            False             True   \n",
       "140       False                  True            False            False   \n",
       "2          True                 False             True             True   \n",
       "\n",
       "       hue  od280/od315_of_diluted_wines  proline  target  \n",
       "21    True                          True     True       0  \n",
       "87    True                          True    False       1  \n",
       "150  False                         False    False       2  \n",
       "140  False                         False    False       2  \n",
       "2     True                          True     True       0  "
      ]
     },
     "execution_count": 3,
     "metadata": {},
     "output_type": "execute_result"
    }
   ],
   "source": [
    "for col in data.feature_names:\n",
    "    df[col] = df[col] > df[col].median()\n",
    "\n",
    "df.head()"
   ]
  },
  {
   "cell_type": "code",
   "execution_count": 4,
   "metadata": {},
   "outputs": [],
   "source": [
    "target = df['target']\n",
    "df = df.drop('target', axis=1)"
   ]
  },
  {
   "cell_type": "code",
   "execution_count": 5,
   "metadata": {},
   "outputs": [],
   "source": [
    "frequent_itemsets = apriori(df, min_support=0.4, use_colnames=True)"
   ]
  },
  {
   "cell_type": "code",
   "execution_count": 6,
   "metadata": {},
   "outputs": [
    {
     "data": {
      "text/html": [
       "<div>\n",
       "<style scoped>\n",
       "    .dataframe tbody tr th:only-of-type {\n",
       "        vertical-align: middle;\n",
       "    }\n",
       "\n",
       "    .dataframe tbody tr th {\n",
       "        vertical-align: top;\n",
       "    }\n",
       "\n",
       "    .dataframe thead th {\n",
       "        text-align: right;\n",
       "    }\n",
       "</style>\n",
       "<table border=\"1\" class=\"dataframe\">\n",
       "  <thead>\n",
       "    <tr style=\"text-align: right;\">\n",
       "      <th></th>\n",
       "      <th>support</th>\n",
       "      <th>itemsets</th>\n",
       "    </tr>\n",
       "  </thead>\n",
       "  <tbody>\n",
       "    <tr>\n",
       "      <th>0</th>\n",
       "      <td>0.477528</td>\n",
       "      <td>(alcohol)</td>\n",
       "    </tr>\n",
       "    <tr>\n",
       "      <th>1</th>\n",
       "      <td>0.500000</td>\n",
       "      <td>(malic_acid)</td>\n",
       "    </tr>\n",
       "    <tr>\n",
       "      <th>2</th>\n",
       "      <td>0.483146</td>\n",
       "      <td>(ash)</td>\n",
       "    </tr>\n",
       "    <tr>\n",
       "      <th>3</th>\n",
       "      <td>0.466292</td>\n",
       "      <td>(alcalinity_of_ash)</td>\n",
       "    </tr>\n",
       "    <tr>\n",
       "      <th>4</th>\n",
       "      <td>0.460674</td>\n",
       "      <td>(magnesium)</td>\n",
       "    </tr>\n",
       "    <tr>\n",
       "      <th>5</th>\n",
       "      <td>0.500000</td>\n",
       "      <td>(total_phenols)</td>\n",
       "    </tr>\n",
       "    <tr>\n",
       "      <th>6</th>\n",
       "      <td>0.500000</td>\n",
       "      <td>(flavanoids)</td>\n",
       "    </tr>\n",
       "    <tr>\n",
       "      <th>7</th>\n",
       "      <td>0.466292</td>\n",
       "      <td>(nonflavanoid_phenols)</td>\n",
       "    </tr>\n",
       "    <tr>\n",
       "      <th>8</th>\n",
       "      <td>0.500000</td>\n",
       "      <td>(proanthocyanins)</td>\n",
       "    </tr>\n",
       "    <tr>\n",
       "      <th>9</th>\n",
       "      <td>0.500000</td>\n",
       "      <td>(color_intensity)</td>\n",
       "    </tr>\n",
       "    <tr>\n",
       "      <th>10</th>\n",
       "      <td>0.500000</td>\n",
       "      <td>(hue)</td>\n",
       "    </tr>\n",
       "    <tr>\n",
       "      <th>11</th>\n",
       "      <td>0.488764</td>\n",
       "      <td>(od280/od315_of_diluted_wines)</td>\n",
       "    </tr>\n",
       "    <tr>\n",
       "      <th>12</th>\n",
       "      <td>0.500000</td>\n",
       "      <td>(proline)</td>\n",
       "    </tr>\n",
       "    <tr>\n",
       "      <th>13</th>\n",
       "      <td>0.460674</td>\n",
       "      <td>(total_phenols, flavanoids)</td>\n",
       "    </tr>\n",
       "    <tr>\n",
       "      <th>14</th>\n",
       "      <td>0.410112</td>\n",
       "      <td>(flavanoids, od280/od315_of_diluted_wines)</td>\n",
       "    </tr>\n",
       "  </tbody>\n",
       "</table>\n",
       "</div>"
      ],
      "text/plain": [
       "     support                                    itemsets\n",
       "0   0.477528                                   (alcohol)\n",
       "1   0.500000                                (malic_acid)\n",
       "2   0.483146                                       (ash)\n",
       "3   0.466292                         (alcalinity_of_ash)\n",
       "4   0.460674                                 (magnesium)\n",
       "5   0.500000                             (total_phenols)\n",
       "6   0.500000                                (flavanoids)\n",
       "7   0.466292                      (nonflavanoid_phenols)\n",
       "8   0.500000                           (proanthocyanins)\n",
       "9   0.500000                           (color_intensity)\n",
       "10  0.500000                                       (hue)\n",
       "11  0.488764              (od280/od315_of_diluted_wines)\n",
       "12  0.500000                                   (proline)\n",
       "13  0.460674                 (total_phenols, flavanoids)\n",
       "14  0.410112  (flavanoids, od280/od315_of_diluted_wines)"
      ]
     },
     "execution_count": 6,
     "metadata": {},
     "output_type": "execute_result"
    }
   ],
   "source": [
    "frequent_itemsets"
   ]
  },
  {
   "cell_type": "code",
   "execution_count": 7,
   "metadata": {},
   "outputs": [
    {
     "data": {
      "text/plain": [
       "[['flavanoids', 'od280/od315_of_diluted_wines'],\n",
       " ['proline'],\n",
       " ['od280/od315_of_diluted_wines'],\n",
       " ['nonflavanoid_phenols'],\n",
       " ['malic_acid'],\n",
       " ['total_phenols', 'flavanoids'],\n",
       " ['alcohol'],\n",
       " ['total_phenols'],\n",
       " ['flavanoids'],\n",
       " ['ash'],\n",
       " ['alcalinity_of_ash'],\n",
       " ['proanthocyanins'],\n",
       " ['magnesium'],\n",
       " ['hue'],\n",
       " ['color_intensity']]"
      ]
     },
     "execution_count": 7,
     "metadata": {},
     "output_type": "execute_result"
    }
   ],
   "source": [
    "from itertools import chain, combinations\n",
    "\n",
    "# Function to get all subsets of a set\n",
    "\n",
    "\n",
    "def get_subsets(s):\n",
    "    return chain.from_iterable(combinations(s, r) for r in range(1, len(s)+1))\n",
    "\n",
    "\n",
    "# Generate the new list\n",
    "new_list = set()\n",
    "for item in frequent_itemsets['itemsets']:\n",
    "    if len(item) == 1:\n",
    "        new_list.add(item)\n",
    "    else:\n",
    "        subsets = map(frozenset, get_subsets(item))\n",
    "        new_list.update(subsets)\n",
    "\n",
    "new_list = list(new_list)\n",
    "new_list = [list(item) for item in new_list]\n",
    "new_list"
   ]
  },
  {
   "cell_type": "code",
   "execution_count": 8,
   "metadata": {},
   "outputs": [
    {
     "data": {
      "text/plain": [
       "(['proline',\n",
       "  'od280/od315_of_diluted_wines',\n",
       "  'nonflavanoid_phenols',\n",
       "  'malic_acid',\n",
       "  'alcohol',\n",
       "  'total_phenols',\n",
       "  'flavanoids',\n",
       "  'ash',\n",
       "  'alcalinity_of_ash',\n",
       "  'proanthocyanins',\n",
       "  'magnesium',\n",
       "  'hue',\n",
       "  'color_intensity'],\n",
       " [['flavanoids', 'od280/od315_of_diluted_wines'],\n",
       "  ['total_phenols', 'flavanoids']])"
      ]
     },
     "execution_count": 8,
     "metadata": {},
     "output_type": "execute_result"
    }
   ],
   "source": [
    "univar_list, multivar_list = [], []\n",
    "for item in new_list:\n",
    "    if len(item) == 1:\n",
    "        univar_list.append(item[0])\n",
    "    else:\n",
    "        multivar_list.append(item)\n",
    "\n",
    "univar_list, multivar_list"
   ]
  },
  {
   "cell_type": "code",
   "execution_count": 9,
   "metadata": {},
   "outputs": [],
   "source": [
    "df = df[univar_list]"
   ]
  },
  {
   "cell_type": "code",
   "execution_count": 10,
   "metadata": {},
   "outputs": [
    {
     "data": {
      "text/html": [
       "<div>\n",
       "<style scoped>\n",
       "    .dataframe tbody tr th:only-of-type {\n",
       "        vertical-align: middle;\n",
       "    }\n",
       "\n",
       "    .dataframe tbody tr th {\n",
       "        vertical-align: top;\n",
       "    }\n",
       "\n",
       "    .dataframe thead th {\n",
       "        text-align: right;\n",
       "    }\n",
       "</style>\n",
       "<table border=\"1\" class=\"dataframe\">\n",
       "  <thead>\n",
       "    <tr style=\"text-align: right;\">\n",
       "      <th></th>\n",
       "      <th>proline</th>\n",
       "      <th>od280/od315_of_diluted_wines</th>\n",
       "      <th>nonflavanoid_phenols</th>\n",
       "      <th>malic_acid</th>\n",
       "      <th>alcohol</th>\n",
       "      <th>total_phenols</th>\n",
       "      <th>flavanoids</th>\n",
       "      <th>ash</th>\n",
       "      <th>alcalinity_of_ash</th>\n",
       "      <th>proanthocyanins</th>\n",
       "      <th>magnesium</th>\n",
       "      <th>hue</th>\n",
       "      <th>color_intensity</th>\n",
       "      <th>['flavanoids', 'od280/od315_of_diluted_wines']</th>\n",
       "      <th>['total_phenols', 'flavanoids']</th>\n",
       "    </tr>\n",
       "  </thead>\n",
       "  <tbody>\n",
       "    <tr>\n",
       "      <th>21</th>\n",
       "      <td>True</td>\n",
       "      <td>True</td>\n",
       "      <td>False</td>\n",
       "      <td>True</td>\n",
       "      <td>False</td>\n",
       "      <td>True</td>\n",
       "      <td>True</td>\n",
       "      <td>True</td>\n",
       "      <td>False</td>\n",
       "      <td>True</td>\n",
       "      <td>True</td>\n",
       "      <td>True</td>\n",
       "      <td>False</td>\n",
       "      <td>True</td>\n",
       "      <td>True</td>\n",
       "    </tr>\n",
       "    <tr>\n",
       "      <th>87</th>\n",
       "      <td>False</td>\n",
       "      <td>True</td>\n",
       "      <td>True</td>\n",
       "      <td>False</td>\n",
       "      <td>False</td>\n",
       "      <td>False</td>\n",
       "      <td>False</td>\n",
       "      <td>True</td>\n",
       "      <td>True</td>\n",
       "      <td>False</td>\n",
       "      <td>False</td>\n",
       "      <td>True</td>\n",
       "      <td>False</td>\n",
       "      <td>False</td>\n",
       "      <td>False</td>\n",
       "    </tr>\n",
       "    <tr>\n",
       "      <th>150</th>\n",
       "      <td>False</td>\n",
       "      <td>False</td>\n",
       "      <td>False</td>\n",
       "      <td>True</td>\n",
       "      <td>True</td>\n",
       "      <td>False</td>\n",
       "      <td>False</td>\n",
       "      <td>True</td>\n",
       "      <td>True</td>\n",
       "      <td>False</td>\n",
       "      <td>True</td>\n",
       "      <td>False</td>\n",
       "      <td>True</td>\n",
       "      <td>False</td>\n",
       "      <td>False</td>\n",
       "    </tr>\n",
       "    <tr>\n",
       "      <th>140</th>\n",
       "      <td>False</td>\n",
       "      <td>False</td>\n",
       "      <td>True</td>\n",
       "      <td>True</td>\n",
       "      <td>False</td>\n",
       "      <td>False</td>\n",
       "      <td>False</td>\n",
       "      <td>True</td>\n",
       "      <td>True</td>\n",
       "      <td>False</td>\n",
       "      <td>False</td>\n",
       "      <td>False</td>\n",
       "      <td>False</td>\n",
       "      <td>False</td>\n",
       "      <td>False</td>\n",
       "    </tr>\n",
       "    <tr>\n",
       "      <th>2</th>\n",
       "      <td>True</td>\n",
       "      <td>True</td>\n",
       "      <td>False</td>\n",
       "      <td>True</td>\n",
       "      <td>True</td>\n",
       "      <td>True</td>\n",
       "      <td>True</td>\n",
       "      <td>True</td>\n",
       "      <td>False</td>\n",
       "      <td>True</td>\n",
       "      <td>True</td>\n",
       "      <td>True</td>\n",
       "      <td>True</td>\n",
       "      <td>True</td>\n",
       "      <td>True</td>\n",
       "    </tr>\n",
       "  </tbody>\n",
       "</table>\n",
       "</div>"
      ],
      "text/plain": [
       "     proline  od280/od315_of_diluted_wines  nonflavanoid_phenols  malic_acid  \\\n",
       "21      True                          True                 False        True   \n",
       "87     False                          True                  True       False   \n",
       "150    False                         False                 False        True   \n",
       "140    False                         False                  True        True   \n",
       "2       True                          True                 False        True   \n",
       "\n",
       "     alcohol  total_phenols  flavanoids   ash  alcalinity_of_ash  \\\n",
       "21     False           True        True  True              False   \n",
       "87     False          False       False  True               True   \n",
       "150     True          False       False  True               True   \n",
       "140    False          False       False  True               True   \n",
       "2       True           True        True  True              False   \n",
       "\n",
       "     proanthocyanins  magnesium    hue  color_intensity  \\\n",
       "21              True       True   True            False   \n",
       "87             False      False   True            False   \n",
       "150            False       True  False             True   \n",
       "140            False      False  False            False   \n",
       "2               True       True   True             True   \n",
       "\n",
       "     ['flavanoids', 'od280/od315_of_diluted_wines']  \\\n",
       "21                                             True   \n",
       "87                                            False   \n",
       "150                                           False   \n",
       "140                                           False   \n",
       "2                                              True   \n",
       "\n",
       "     ['total_phenols', 'flavanoids']  \n",
       "21                              True  \n",
       "87                             False  \n",
       "150                            False  \n",
       "140                            False  \n",
       "2                               True  "
      ]
     },
     "execution_count": 10,
     "metadata": {},
     "output_type": "execute_result"
    }
   ],
   "source": [
    "for item in multivar_list:\n",
    "    # set it true if all the items in the itemset are true\n",
    "    df[str(item)] = df[item].all(axis=1)\n",
    "\n",
    "df.head()"
   ]
  },
  {
   "cell_type": "code",
   "execution_count": 11,
   "metadata": {},
   "outputs": [
    {
     "name": "stdout",
     "output_type": "stream",
     "text": [
      "Init: initializing centroids\n",
      "Init: initializing clusters\n",
      "Starting iterations...\n",
      "Run 1, iteration: 1/100, moves: 85, cost: 580.0\n",
      "Run 1, iteration: 2/100, moves: 16, cost: 562.0\n",
      "Run 1, iteration: 3/100, moves: 13, cost: 552.0\n",
      "Run 1, iteration: 4/100, moves: 9, cost: 552.0\n",
      "Init: initializing centroids\n",
      "Init: initializing clusters\n",
      "Starting iterations...\n",
      "Run 2, iteration: 1/100, moves: 3, cost: 603.0\n",
      "Init: initializing centroids\n",
      "Init: initializing clusters\n",
      "Starting iterations...\n",
      "Run 3, iteration: 1/100, moves: 44, cost: 556.0\n",
      "Run 3, iteration: 2/100, moves: 13, cost: 559.0\n",
      "Init: initializing centroids\n",
      "Init: initializing clusters\n",
      "Starting iterations...\n",
      "Run 4, iteration: 1/100, moves: 14, cost: 557.0\n",
      "Run 4, iteration: 2/100, moves: 0, cost: 557.0\n",
      "Init: initializing centroids\n",
      "Init: initializing clusters\n",
      "Starting iterations...\n",
      "Run 5, iteration: 1/100, moves: 34, cost: 555.0\n",
      "Run 5, iteration: 2/100, moves: 3, cost: 555.0\n",
      "Best run was number 1\n"
     ]
    }
   ],
   "source": [
    "# importing necessary libraries \n",
    "import pandas as pd \n",
    "import numpy as np \n",
    "# !pip install kmodes \n",
    "from kmodes.kmodes import KModes \n",
    "import matplotlib.pyplot as plt \n",
    "%matplotlib inline \n",
    "\n",
    "# Building the model with 3 clusters \n",
    "kmode = KModes(n_clusters=3, init = \"random\", n_init = 5, verbose=1) \n",
    "clusters = kmode.fit_predict(df) "
   ]
  },
  {
   "cell_type": "code",
   "execution_count": 12,
   "metadata": {},
   "outputs": [
    {
     "data": {
      "image/png": "[encoded data removed]",
      "text/plain": [
       "<Figure size 640x480 with 1 Axes>"
      ]
     },
     "metadata": {},
     "output_type": "display_data"
    }
   ],
   "source": [
    "import matplotlib.pyplot as plt\n",
    "from sklearn.decomposition import PCA\n",
    "\n",
    "# Reduce dimensionality for visualization (adjust n_components as needed)\n",
    "pca = PCA(n_components=2)\n",
    "trans_data_pca = pca.fit_transform(df)\n",
    "# Plot clusters in 2D\n",
    "plt.scatter(trans_data_pca[:, 0],\n",
    "            trans_data_pca[:, 1], c=target, cmap='viridis')\n",
    "plt.title('Cluster Assignments')\n",
    "plt.show()"
   ]
  },
  {
   "cell_type": "code",
   "execution_count": 13,
   "metadata": {},
   "outputs": [
    {
     "data": {
      "text/plain": [
       "0.10674157303370786"
      ]
     },
     "execution_count": 13,
     "metadata": {},
     "output_type": "execute_result"
    }
   ],
   "source": [
    "(clusters == target.values).sum() / len(target.values)"
   ]
  },
  {
   "cell_type": "code",
   "execution_count": null,
   "metadata": {},
   "outputs": [],
   "source": [
    "df.values"
   ]
  },
  {
   "cell_type": "code",
   "execution_count": 14,
   "metadata": {},
   "outputs": [
    {
     "data": {
      "text/plain": [
       "(array([ 0, -1,  1,  1,  0,  0,  1,  0, -1,  0, -1,  0,  0,  0, -1,  1, -1,\n",
       "        -1, -1, -1,  1,  0,  1, -1, -1,  1,  1, -1,  1, -1,  1,  0, -1, -1,\n",
       "        -1,  0,  0, -1,  0, -1,  0, -1, -1,  0,  1,  1,  0, -1, -1,  0, -1,\n",
       "         0, -1,  0,  1,  1, -1, -1, -1, -1, -1,  1, -1,  0, -1,  0,  1,  0,\n",
       "        -1, -1,  0,  0,  0,  0, -1,  1, -1, -1,  0, -1, -1,  0, -1, -1, -1,\n",
       "        -1, -1, -1,  0, -1,  0,  0, -1,  0,  1,  0,  1,  0, -1,  0,  0,  1,\n",
       "         1,  1,  0, -1,  1, -1, -1,  0,  0, -1, -1,  0,  0,  0,  1, -1,  1,\n",
       "         1,  0,  1,  0, -1,  1, -1,  1,  0,  1, -1, -1, -1, -1,  0,  0,  0,\n",
       "         0,  0,  1,  0,  1, -1, -1, -1, -1, -1,  0,  0, -1,  0,  0,  0, -1,\n",
       "        -1, -1, -1,  1, -1,  1, -1,  0, -1, -1,  1, -1, -1,  0, -1, -1,  0,\n",
       "         1, -1, -1,  0, -1,  1, -1,  0]),\n",
       " array([0, 1, 2, 2, 0, 0, 2, 0, 1, 0, 1, 0, 0, 0, 1, 1, 1, 1, 1, 1, 2, 0,\n",
       "        1, 1, 1, 2, 2, 1, 2, 1, 2, 0, 1, 1, 1, 0, 0, 1, 0, 1, 0, 1, 2, 0,\n",
       "        2, 2, 1, 1, 1, 0, 1, 1, 1, 1, 2, 2, 2, 1, 1, 0, 1, 2, 0, 0, 0, 0,\n",
       "        2, 0, 1, 0, 0, 0, 0, 0, 2, 2, 1, 1, 0, 1, 1, 1, 1, 2, 1, 1, 1, 1,\n",
       "        0, 1, 0, 0, 1, 0, 2, 1, 2, 0, 1, 0, 0, 2, 2, 2, 1, 1, 2, 0, 1, 0,\n",
       "        0, 1, 1, 0, 0, 0, 2, 1, 2, 2, 0, 2, 0, 1, 2, 0, 2, 1, 2, 2, 1, 1,\n",
       "        1, 1, 0, 0, 0, 0, 2, 1, 2, 2, 1, 1, 1, 0, 0, 0, 2, 0, 0, 0, 2, 1,\n",
       "        1, 1, 2, 1, 2, 1, 0, 2, 2, 2, 1, 2, 0, 1, 2, 0, 2, 1, 2, 0, 1, 2,\n",
       "        1, 0]))"
      ]
     },
     "execution_count": 14,
     "metadata": {},
     "output_type": "execute_result"
    }
   ],
   "source": [
    "from sklearn.cluster import DBSCAN\n",
    "from sklearn.metrics.pairwise import pairwise_distances\n",
    "from sklearn.decomposition import PCA\n",
    "import matplotlib.pyplot as plt\n",
    "\n",
    "# Assuming trans_data_features is your DataFrame\n",
    "# pca = PCA(n_components=2)\n",
    "# trans_data_features_pca = pca.fit_transform(trans_data_features)\n",
    "\n",
    "distance_matrix = pairwise_distances(df.values, metric='jaccard')\n",
    "\n",
    "dbscan = DBSCAN(eps=0.2, min_samples=5, metric='precomputed')\n",
    "dbscan_labels = dbscan.fit_predict(distance_matrix)\n",
    "\n",
    "# Visualize the clusters in 2D\n",
    "# plt.scatter(trans_data_features_pca[:, 0], trans_data_features_pca[:, 1], c=dbscan_labels, cmap='viridis')\n",
    "# plt.title('DBSCAN Clustering Results')\n",
    "# plt.show()\n",
    "dbscan_labels, target.values"
   ]
  },
  {
   "cell_type": "code",
   "execution_count": 15,
   "metadata": {},
   "outputs": [
    {
     "data": {
      "text/plain": [
       "(array([0, 1, 2, 1, 0, 0, 2, 0, 0, 0, 0, 0, 0, 0, 1, 1, 1, 1, 1, 0, 2, 0,\n",
       "        1, 1, 1, 2, 1, 1, 2, 1, 2, 0, 0, 1, 0, 0, 0, 1, 0, 1, 0, 1, 2, 0,\n",
       "        2, 2, 0, 1, 0, 0, 0, 0, 1, 0, 2, 2, 1, 0, 0, 0, 1, 2, 0, 0, 0, 0,\n",
       "        2, 0, 1, 0, 0, 0, 0, 0, 1, 2, 0, 1, 0, 1, 1, 0, 0, 1, 1, 2, 1, 1,\n",
       "        0, 1, 0, 0, 1, 0, 2, 0, 2, 0, 1, 0, 0, 2, 2, 2, 0, 1, 2, 1, 0, 0,\n",
       "        0, 0, 1, 0, 0, 0, 2, 1, 2, 2, 0, 2, 0, 0, 2, 0, 2, 0, 1, 1, 1, 1,\n",
       "        1, 0, 0, 0, 0, 0, 2, 0, 2, 1, 1, 1, 0, 0, 0, 0, 1, 0, 1, 0, 1, 1,\n",
       "        1, 0, 2, 1, 2, 0, 0, 1, 2, 2, 1, 1, 0, 1, 1, 0, 2, 1, 1, 0, 1, 2,\n",
       "        1, 0]),\n",
       " array([0, 1, 2, 2, 0, 0, 2, 0, 1, 0, 1, 0, 0, 0, 1, 1, 1, 1, 1, 1, 2, 0,\n",
       "        1, 1, 1, 2, 2, 1, 2, 1, 2, 0, 1, 1, 1, 0, 0, 1, 0, 1, 0, 1, 2, 0,\n",
       "        2, 2, 1, 1, 1, 0, 1, 1, 1, 1, 2, 2, 2, 1, 1, 0, 1, 2, 0, 0, 0, 0,\n",
       "        2, 0, 1, 0, 0, 0, 0, 0, 2, 2, 1, 1, 0, 1, 1, 1, 1, 2, 1, 1, 1, 1,\n",
       "        0, 1, 0, 0, 1, 0, 2, 1, 2, 0, 1, 0, 0, 2, 2, 2, 1, 1, 2, 0, 1, 0,\n",
       "        0, 1, 1, 0, 0, 0, 2, 1, 2, 2, 0, 2, 0, 1, 2, 0, 2, 1, 2, 2, 1, 1,\n",
       "        1, 1, 0, 0, 0, 0, 2, 1, 2, 2, 1, 1, 1, 0, 0, 0, 2, 0, 0, 0, 2, 1,\n",
       "        1, 1, 2, 1, 2, 1, 0, 2, 2, 2, 1, 2, 0, 1, 2, 0, 2, 1, 2, 0, 1, 2,\n",
       "        1, 0]))"
      ]
     },
     "execution_count": 15,
     "metadata": {},
     "output_type": "execute_result"
    }
   ],
   "source": [
    "from sklearn.cluster import AgglomerativeClustering\n",
    "aggloCluster = AgglomerativeClustering(n_clusters=3)\n",
    "labels = aggloCluster.fit_predict(df.values)\n",
    "labels, target.values"
   ]
  },
  {
   "cell_type": "code",
   "execution_count": 16,
   "metadata": {},
   "outputs": [
    {
     "name": "stdout",
     "output_type": "stream",
     "text": [
      "178\n",
      "[[28, 36, 19], [20, 19, 21], [11, 16, 8]]\n"
     ]
    }
   ],
   "source": [
    "cluster = []\n",
    "print(len(labels))\n",
    "for i in labels:\n",
    "    if i == 1:\n",
    "        cluster.append(2)\n",
    "    if i == 2:\n",
    "        cluster.append(1)\n",
    "    if i == 0:\n",
    "        cluster.append(0)\n",
    "cluster_freq = [[0, 0, 0], [0, 0, 0], [0, 0, 0]]\n",
    "for i in range(len(labels)):\n",
    "    if labels[i] == 0:\n",
    "        cluster_freq[0][target[i]] += 1\n",
    "    if labels[i] == 1:\n",
    "        cluster_freq[1][target[i]] += 1\n",
    "    if labels[i] == 2:\n",
    "        cluster_freq[2][target[i]] += 1\n",
    "\n",
    "print(cluster_freq)"
   ]
  },
  {
   "cell_type": "code",
   "execution_count": 17,
   "metadata": {},
   "outputs": [
    {
     "data": {
      "text/plain": [
       "0.4044943820224719"
      ]
     },
     "execution_count": 17,
     "metadata": {},
     "output_type": "execute_result"
    }
   ],
   "source": [
    "(cluster == target.values).sum() / len(target.values)"
   ]
  },
  {
   "cell_type": "code",
   "execution_count": 18,
   "metadata": {},
   "outputs": [
    {
     "name": "stdout",
     "output_type": "stream",
     "text": [
      "V measure Score: 0.5087044822043733\n",
      "Homogeneity Score: 0.5194259055988077\n",
      "Completeness Score: 0.49841670777246766\n",
      "Adjusted Rand Score: 0.4366908656052231\n",
      "Adjusted Mutual Info Score: 0.5033628521029984\n"
     ]
    }
   ],
   "source": [
    "from sklearn.metrics.cluster import adjusted_mutual_info_score\n",
    "from sklearn.metrics.cluster import adjusted_rand_score\n",
    "from sklearn.metrics.cluster import completeness_score\n",
    "from sklearn.metrics.cluster import homogeneity_score\n",
    "from sklearn.metrics.cluster import v_measure_score\n",
    "\n",
    "print(f\"V measure Score: {v_measure_score(cluster, target.values)}\")\n",
    "print(f\"Homogeneity Score: {homogeneity_score(cluster, target.values)}\")\n",
    "print(f\"Completeness Score: {completeness_score(cluster, target.values)}\")\n",
    "print(f\"Adjusted Rand Score: {adjusted_rand_score(cluster, target.values)}\")\n",
    "print(f\"Adjusted Mutual Info Score: {\n",
    "      adjusted_mutual_info_score(cluster, target.values)}\")"
   ]
  },
  {
   "cell_type": "code",
   "execution_count": 19,
   "metadata": {},
   "outputs": [],
   "source": [
    "df = pd.read_csv(\"./data/heart/heart.csv\")\n",
    "\n",
    "target_df = df['output']\n",
    "df = df.drop('output', axis=1)\n",
    "df = df.sample(frac=1)\n",
    "for col in df.columns:\n",
    "    df[col] = df[col] > df[col].median()"
   ]
  },
  {
   "cell_type": "code",
   "execution_count": 20,
   "metadata": {},
   "outputs": [
    {
     "data": {
      "text/html": [
       "<div>\n",
       "<style scoped>\n",
       "    .dataframe tbody tr th:only-of-type {\n",
       "        vertical-align: middle;\n",
       "    }\n",
       "\n",
       "    .dataframe tbody tr th {\n",
       "        vertical-align: top;\n",
       "    }\n",
       "\n",
       "    .dataframe thead th {\n",
       "        text-align: right;\n",
       "    }\n",
       "</style>\n",
       "<table border=\"1\" class=\"dataframe\">\n",
       "  <thead>\n",
       "    <tr style=\"text-align: right;\">\n",
       "      <th></th>\n",
       "      <th>support</th>\n",
       "      <th>itemsets</th>\n",
       "    </tr>\n",
       "  </thead>\n",
       "  <tbody>\n",
       "    <tr>\n",
       "      <th>0</th>\n",
       "      <td>0.498350</td>\n",
       "      <td>(age)</td>\n",
       "    </tr>\n",
       "    <tr>\n",
       "      <th>1</th>\n",
       "      <td>0.435644</td>\n",
       "      <td>(trtbps)</td>\n",
       "    </tr>\n",
       "    <tr>\n",
       "      <th>2</th>\n",
       "      <td>0.498350</td>\n",
       "      <td>(chol)</td>\n",
       "    </tr>\n",
       "    <tr>\n",
       "      <th>3</th>\n",
       "      <td>0.491749</td>\n",
       "      <td>(thalachh)</td>\n",
       "    </tr>\n",
       "    <tr>\n",
       "      <th>4</th>\n",
       "      <td>0.462046</td>\n",
       "      <td>(oldpeak)</td>\n",
       "    </tr>\n",
       "    <tr>\n",
       "      <th>5</th>\n",
       "      <td>0.468647</td>\n",
       "      <td>(slp)</td>\n",
       "    </tr>\n",
       "    <tr>\n",
       "      <th>6</th>\n",
       "      <td>0.422442</td>\n",
       "      <td>(caa)</td>\n",
       "    </tr>\n",
       "  </tbody>\n",
       "</table>\n",
       "</div>"
      ],
      "text/plain": [
       "    support    itemsets\n",
       "0  0.498350       (age)\n",
       "1  0.435644    (trtbps)\n",
       "2  0.498350      (chol)\n",
       "3  0.491749  (thalachh)\n",
       "4  0.462046   (oldpeak)\n",
       "5  0.468647       (slp)\n",
       "6  0.422442       (caa)"
      ]
     },
     "execution_count": 20,
     "metadata": {},
     "output_type": "execute_result"
    }
   ],
   "source": [
    "frequent_itemsets = apriori(df, min_support=0.4, use_colnames=True)\n",
    "frequent_itemsets"
   ]
  },
  {
   "cell_type": "code",
   "execution_count": 21,
   "metadata": {},
   "outputs": [
    {
     "data": {
      "text/plain": [
       "[['trtbps'], ['chol'], ['thalachh'], ['slp'], ['oldpeak'], ['caa'], ['age']]"
      ]
     },
     "execution_count": 21,
     "metadata": {},
     "output_type": "execute_result"
    }
   ],
   "source": [
    "from itertools import chain, combinations\n",
    "\n",
    "# Function to get all subsets of a set\n",
    "\n",
    "\n",
    "def get_subsets(s):\n",
    "    return chain.from_iterable(combinations(s, r) for r in range(1, len(s)+1))\n",
    "\n",
    "\n",
    "# Generate the new list\n",
    "new_list = set()\n",
    "for item in frequent_itemsets['itemsets']:\n",
    "    if len(item) == 1:\n",
    "        new_list.add(item)\n",
    "    else:\n",
    "        subsets = map(frozenset, get_subsets(item))\n",
    "        new_list.update(subsets)\n",
    "\n",
    "new_list = list(new_list)\n",
    "new_list = [list(item) for item in new_list]\n",
    "new_list"
   ]
  },
  {
   "cell_type": "code",
   "execution_count": 22,
   "metadata": {},
   "outputs": [
    {
     "data": {
      "text/plain": [
       "(['trtbps', 'chol', 'thalachh', 'slp', 'oldpeak', 'caa', 'age'], [])"
      ]
     },
     "execution_count": 22,
     "metadata": {},
     "output_type": "execute_result"
    }
   ],
   "source": [
    "univar_list, multivar_list = [], []\n",
    "for item in new_list:\n",
    "    if len(item) == 1:\n",
    "        univar_list.append(item[0])\n",
    "    else:\n",
    "        multivar_list.append(item)\n",
    "\n",
    "univar_list, multivar_list"
   ]
  },
  {
   "cell_type": "code",
   "execution_count": 23,
   "metadata": {},
   "outputs": [],
   "source": [
    "df = df[univar_list]"
   ]
  },
  {
   "cell_type": "code",
   "execution_count": 24,
   "metadata": {},
   "outputs": [
    {
     "data": {
      "text/html": [
       "<div>\n",
       "<style scoped>\n",
       "    .dataframe tbody tr th:only-of-type {\n",
       "        vertical-align: middle;\n",
       "    }\n",
       "\n",
       "    .dataframe tbody tr th {\n",
       "        vertical-align: top;\n",
       "    }\n",
       "\n",
       "    .dataframe thead th {\n",
       "        text-align: right;\n",
       "    }\n",
       "</style>\n",
       "<table border=\"1\" class=\"dataframe\">\n",
       "  <thead>\n",
       "    <tr style=\"text-align: right;\">\n",
       "      <th></th>\n",
       "      <th>trtbps</th>\n",
       "      <th>chol</th>\n",
       "      <th>thalachh</th>\n",
       "      <th>slp</th>\n",
       "      <th>oldpeak</th>\n",
       "      <th>caa</th>\n",
       "      <th>age</th>\n",
       "    </tr>\n",
       "  </thead>\n",
       "  <tbody>\n",
       "    <tr>\n",
       "      <th>263</th>\n",
       "      <td>False</td>\n",
       "      <td>True</td>\n",
       "      <td>True</td>\n",
       "      <td>False</td>\n",
       "      <td>True</td>\n",
       "      <td>True</td>\n",
       "      <td>True</td>\n",
       "    </tr>\n",
       "    <tr>\n",
       "      <th>89</th>\n",
       "      <td>False</td>\n",
       "      <td>True</td>\n",
       "      <td>False</td>\n",
       "      <td>False</td>\n",
       "      <td>True</td>\n",
       "      <td>False</td>\n",
       "      <td>True</td>\n",
       "    </tr>\n",
       "    <tr>\n",
       "      <th>220</th>\n",
       "      <td>True</td>\n",
       "      <td>True</td>\n",
       "      <td>True</td>\n",
       "      <td>False</td>\n",
       "      <td>True</td>\n",
       "      <td>True</td>\n",
       "      <td>True</td>\n",
       "    </tr>\n",
       "    <tr>\n",
       "      <th>176</th>\n",
       "      <td>False</td>\n",
       "      <td>False</td>\n",
       "      <td>True</td>\n",
       "      <td>True</td>\n",
       "      <td>True</td>\n",
       "      <td>True</td>\n",
       "      <td>True</td>\n",
       "    </tr>\n",
       "    <tr>\n",
       "      <th>256</th>\n",
       "      <td>False</td>\n",
       "      <td>True</td>\n",
       "      <td>False</td>\n",
       "      <td>False</td>\n",
       "      <td>True</td>\n",
       "      <td>True</td>\n",
       "      <td>True</td>\n",
       "    </tr>\n",
       "    <tr>\n",
       "      <th>...</th>\n",
       "      <td>...</td>\n",
       "      <td>...</td>\n",
       "      <td>...</td>\n",
       "      <td>...</td>\n",
       "      <td>...</td>\n",
       "      <td>...</td>\n",
       "      <td>...</td>\n",
       "    </tr>\n",
       "    <tr>\n",
       "      <th>170</th>\n",
       "      <td>False</td>\n",
       "      <td>True</td>\n",
       "      <td>False</td>\n",
       "      <td>False</td>\n",
       "      <td>False</td>\n",
       "      <td>True</td>\n",
       "      <td>True</td>\n",
       "    </tr>\n",
       "    <tr>\n",
       "      <th>32</th>\n",
       "      <td>False</td>\n",
       "      <td>False</td>\n",
       "      <td>True</td>\n",
       "      <td>True</td>\n",
       "      <td>False</td>\n",
       "      <td>False</td>\n",
       "      <td>False</td>\n",
       "    </tr>\n",
       "    <tr>\n",
       "      <th>107</th>\n",
       "      <td>True</td>\n",
       "      <td>False</td>\n",
       "      <td>False</td>\n",
       "      <td>False</td>\n",
       "      <td>False</td>\n",
       "      <td>False</td>\n",
       "      <td>False</td>\n",
       "    </tr>\n",
       "    <tr>\n",
       "      <th>265</th>\n",
       "      <td>False</td>\n",
       "      <td>False</td>\n",
       "      <td>False</td>\n",
       "      <td>True</td>\n",
       "      <td>False</td>\n",
       "      <td>True</td>\n",
       "      <td>True</td>\n",
       "    </tr>\n",
       "    <tr>\n",
       "      <th>257</th>\n",
       "      <td>True</td>\n",
       "      <td>False</td>\n",
       "      <td>False</td>\n",
       "      <td>False</td>\n",
       "      <td>True</td>\n",
       "      <td>False</td>\n",
       "      <td>False</td>\n",
       "    </tr>\n",
       "  </tbody>\n",
       "</table>\n",
       "<p>303 rows × 7 columns</p>\n",
       "</div>"
      ],
      "text/plain": [
       "     trtbps   chol  thalachh    slp  oldpeak    caa    age\n",
       "263   False   True      True  False     True   True   True\n",
       "89    False   True     False  False     True  False   True\n",
       "220    True   True      True  False     True   True   True\n",
       "176   False  False      True   True     True   True   True\n",
       "256   False   True     False  False     True   True   True\n",
       "..      ...    ...       ...    ...      ...    ...    ...\n",
       "170   False   True     False  False    False   True   True\n",
       "32    False  False      True   True    False  False  False\n",
       "107    True  False     False  False    False  False  False\n",
       "265   False  False     False   True    False   True   True\n",
       "257    True  False     False  False     True  False  False\n",
       "\n",
       "[303 rows x 7 columns]"
      ]
     },
     "execution_count": 24,
     "metadata": {},
     "output_type": "execute_result"
    }
   ],
   "source": [
    "for item in multivar_list:\n",
    "    # set it true if all the items in the itemset are true\n",
    "    df[str(item)] = df[item].all(axis=1)\n",
    "\n",
    "df"
   ]
  },
  {
   "cell_type": "code",
   "execution_count": 25,
   "metadata": {},
   "outputs": [
    {
     "name": "stdout",
     "output_type": "stream",
     "text": [
      "Init: initializing centroids\n",
      "Init: initializing clusters\n",
      "Starting iterations...\n",
      "Run 1, iteration: 1/100, moves: 61, cost: 605.0\n",
      "Init: initializing centroids\n",
      "Init: initializing clusters\n",
      "Starting iterations...\n",
      "Run 2, iteration: 1/100, moves: 49, cost: 572.0\n",
      "Init: initializing centroids\n",
      "Init: initializing clusters\n",
      "Starting iterations...\n",
      "Run 3, iteration: 1/100, moves: 97, cost: 644.0\n",
      "Run 3, iteration: 2/100, moves: 40, cost: 605.0\n",
      "Run 3, iteration: 3/100, moves: 1, cost: 605.0\n",
      "Init: initializing centroids\n",
      "Init: initializing clusters\n",
      "Starting iterations...\n",
      "Run 4, iteration: 1/100, moves: 83, cost: 626.0\n",
      "Run 4, iteration: 2/100, moves: 18, cost: 626.0\n",
      "Init: initializing centroids\n",
      "Init: initializing clusters\n",
      "Starting iterations...\n",
      "Run 5, iteration: 1/100, moves: 40, cost: 713.0\n",
      "Best run was number 2\n"
     ]
    }
   ],
   "source": [
    "# importing necessary libraries \n",
    "import pandas as pd \n",
    "import numpy as np \n",
    "# !pip install kmodes \n",
    "from kmodes.kmodes import KModes \n",
    "import matplotlib.pyplot as plt \n",
    "%matplotlib inline \n",
    "\n",
    "# Building the model with 3 clusters \n",
    "kmode = KModes(n_clusters=2, init = \"random\", n_init = 5, verbose=1) \n",
    "clusters = kmode.fit_predict(df) \n",
    "# clusters"
   ]
  },
  {
   "cell_type": "code",
   "execution_count": 26,
   "metadata": {},
   "outputs": [
    {
     "data": {
      "text/plain": [
       "(array([0, 0, 0, 1, 0, 0, 0, 0, 1, 1, 1, 0, 0, 0, 0, 0, 1, 1, 0, 1, 0, 0,\n",
       "        1, 1, 0, 1, 0, 1, 0, 1, 0, 0, 1, 1, 0, 0, 1, 1, 0, 1, 1, 1, 1, 1,\n",
       "        0, 0, 1, 1, 0, 1, 1, 1, 0, 1, 1, 0, 1, 1, 1, 0, 0, 0, 1, 0, 0, 1,\n",
       "        0, 1, 0, 0, 0, 1, 1, 0, 1, 0, 1, 1, 0, 0, 0, 1, 1, 1, 0, 1, 1, 0,\n",
       "        1, 0, 1, 1, 1, 1, 0, 1, 1, 1, 1, 0, 1, 1, 1, 1, 1, 1, 0, 0, 1, 0,\n",
       "        1, 1, 1, 0, 1, 0, 0, 1, 1, 1, 1, 0, 0, 0, 1, 1, 0, 0, 1, 1, 0, 1,\n",
       "        0, 0, 1, 0, 0, 1, 1, 1, 1, 0, 0, 0, 0, 0, 0, 1, 0, 0, 0, 1, 1, 1,\n",
       "        0, 0, 1, 1, 1, 1, 0, 0, 0, 1, 1, 0, 1, 0, 1, 1, 1, 1, 0, 1, 0, 1,\n",
       "        1, 1, 0, 1, 1, 1, 0, 0, 1, 1, 1, 1, 0, 0, 0, 0, 1, 1, 1, 1, 0, 0,\n",
       "        1, 1, 1, 1, 0, 1, 1, 0, 1, 1, 1, 1, 1, 0, 1, 0, 1, 1, 0, 1, 0, 1,\n",
       "        0, 1, 0, 1, 1, 1, 1, 0, 1, 0, 1, 1, 0, 1, 0, 0, 1, 1, 0, 0, 0, 0,\n",
       "        0, 0, 0, 0, 0, 1, 0, 0, 1, 0, 0, 1, 0, 0, 1, 0, 1, 1, 1, 1, 1, 1,\n",
       "        1, 1, 0, 1, 0, 1, 1, 1, 0, 1, 0, 1, 0, 0, 0, 1, 0, 1, 0, 0, 1, 0,\n",
       "        1, 0, 1, 1, 0, 0, 0, 0, 1, 1, 1, 1, 0, 1, 1, 1, 0], dtype=uint16),\n",
       " array([1, 1, 1, 1, 1, 1, 1, 1, 1, 1, 1, 1, 1, 1, 1, 1, 1, 1, 1, 1, 1, 1,\n",
       "        1, 1, 1, 1, 1, 1, 1, 1, 1, 1, 1, 1, 1, 1, 1, 1, 1, 1, 1, 1, 1, 1,\n",
       "        1, 1, 1, 1, 1, 1, 1, 1, 1, 1, 1, 1, 1, 1, 1, 1, 1, 1, 1, 1, 1, 1,\n",
       "        1, 1, 1, 1, 1, 1, 1, 1, 1, 1, 1, 1, 1, 1, 1, 1, 1, 1, 1, 1, 1, 1,\n",
       "        1, 1, 1, 1, 1, 1, 1, 1, 1, 1, 1, 1, 1, 1, 1, 1, 1, 1, 1, 1, 1, 1,\n",
       "        1, 1, 1, 1, 1, 1, 1, 1, 1, 1, 1, 1, 1, 1, 1, 1, 1, 1, 1, 1, 1, 1,\n",
       "        1, 1, 1, 1, 1, 1, 1, 1, 1, 1, 1, 1, 1, 1, 1, 1, 1, 1, 1, 1, 1, 1,\n",
       "        1, 1, 1, 1, 1, 1, 1, 1, 1, 1, 1, 0, 0, 0, 0, 0, 0, 0, 0, 0, 0, 0,\n",
       "        0, 0, 0, 0, 0, 0, 0, 0, 0, 0, 0, 0, 0, 0, 0, 0, 0, 0, 0, 0, 0, 0,\n",
       "        0, 0, 0, 0, 0, 0, 0, 0, 0, 0, 0, 0, 0, 0, 0, 0, 0, 0, 0, 0, 0, 0,\n",
       "        0, 0, 0, 0, 0, 0, 0, 0, 0, 0, 0, 0, 0, 0, 0, 0, 0, 0, 0, 0, 0, 0,\n",
       "        0, 0, 0, 0, 0, 0, 0, 0, 0, 0, 0, 0, 0, 0, 0, 0, 0, 0, 0, 0, 0, 0,\n",
       "        0, 0, 0, 0, 0, 0, 0, 0, 0, 0, 0, 0, 0, 0, 0, 0, 0, 0, 0, 0, 0, 0,\n",
       "        0, 0, 0, 0, 0, 0, 0, 0, 0, 0, 0, 0, 0, 0, 0, 0, 0]))"
      ]
     },
     "execution_count": 26,
     "metadata": {},
     "output_type": "execute_result"
    }
   ],
   "source": [
    "clusters, target_df.values"
   ]
  },
  {
   "cell_type": "code",
   "execution_count": 27,
   "metadata": {},
   "outputs": [
    {
     "data": {
      "text/plain": [
       "(303, 303)"
      ]
     },
     "execution_count": 27,
     "metadata": {},
     "output_type": "execute_result"
    }
   ],
   "source": [
    "len(clusters), len(target_df.values)"
   ]
  },
  {
   "cell_type": "code",
   "execution_count": 28,
   "metadata": {},
   "outputs": [
    {
     "data": {
      "text/plain": [
       "(303, 303)"
      ]
     },
     "execution_count": 28,
     "metadata": {},
     "output_type": "execute_result"
    }
   ],
   "source": [
    "len(clusters), len(target_df.values)"
   ]
  },
  {
   "cell_type": "code",
   "execution_count": 29,
   "metadata": {},
   "outputs": [
    {
     "data": {
      "image/png": "[encoded data removed]",
      "text/plain": [
       "<Figure size 640x480 with 1 Axes>"
      ]
     },
     "metadata": {},
     "output_type": "display_data"
    }
   ],
   "source": [
    "import matplotlib.pyplot as plt\n",
    "from sklearn.decomposition import PCA\n",
    "\n",
    "# Reduce dimensionality for visualization (adjust n_components as needed)\n",
    "pca = PCA(n_components=2)\n",
    "trans_data_pca = pca.fit_transform(df)\n",
    "# Plot clusters in 2D\n",
    "plt.scatter(trans_data_pca[:, 0], trans_data_pca[:,\n",
    "            1], c=target_df, cmap='viridis')\n",
    "plt.title('Cluster Assignments')\n",
    "plt.show()"
   ]
  },
  {
   "cell_type": "code",
   "execution_count": 30,
   "metadata": {},
   "outputs": [
    {
     "data": {
      "text/plain": [
       "(array([ 0, -1,  0,  0,  0,  1,  0,  0, -1,  0,  0, -1, -1,  0,  0,  0,  2,\n",
       "         0, -1,  3,  0,  1,  4,  0, -1, -1,  5,  6, -1,  7,  0,  0,  3,  0,\n",
       "         0,  0,  0,  7,  0, -1,  0,  8,  0,  7,  0, -1, -1,  3,  0,  2,  0,\n",
       "        -1, -1,  3,  7,  0,  7,  0,  0, -1,  0, -1,  9, -1,  0,  9,  0, -1,\n",
       "         0, -1,  0, -1,  0, -1,  8,  0,  0,  9,  0,  5,  0, -1,  3, -1,  0,\n",
       "        -1, -1, -1,  0,  0,  6,  0, -1,  0,  0, -1,  0,  7,  0,  0,  0, -1,\n",
       "        -1,  0,  7,  0,  0,  0,  2, -1,  8, -1,  8, -1,  0,  0,  0,  7,  2,\n",
       "         0,  2, -1, -1,  0,  9,  7, -1,  0,  7,  0, -1,  3,  0, -1,  0,  0,\n",
       "        -1,  8,  4,  0,  4,  1,  0,  0,  0, -1,  0,  3,  0, -1,  0,  9,  7,\n",
       "        -1, -1,  0, -1,  3,  0,  7,  0,  1,  0,  0, -1,  0,  0,  1,  7,  0,\n",
       "         3,  4,  0,  0, -1,  3, -1, -1, -1,  3, -1, -1,  5,  0,  7, -1, -1,\n",
       "         0,  0,  0, -1,  0,  6,  6, -1,  7, -1,  0,  8,  3,  4, -1,  0,  9,\n",
       "        -1, -1,  0,  0,  6,  0, -1,  0, -1, -1, -1, -1,  0,  8,  0, -1,  0,\n",
       "         0, -1, -1,  3,  7,  8,  5,  0,  0, -1,  0,  0,  3,  0,  0,  0,  7,\n",
       "         0,  0,  0,  5,  0, -1,  0, -1, -1,  0,  0,  0,  0,  0,  0, -1,  0,\n",
       "         0, -1,  0,  3, -1,  0,  0,  3, -1, -1,  0,  0, -1,  0, -1,  0,  0,\n",
       "         0, -1,  0,  0,  0,  0,  5, -1,  0,  0,  0, -1,  4,  0,  0, -1, -1,\n",
       "         3, -1,  0,  0,  5, -1,  0, -1, -1, -1,  7, -1, -1, -1]),\n",
       " array([1, 1, 1, 1, 1, 1, 1, 1, 1, 1, 1, 1, 1, 1, 1, 1, 1, 1, 1, 1, 1, 1,\n",
       "        1, 1, 1, 1, 1, 1, 1, 1, 1, 1, 1, 1, 1, 1, 1, 1, 1, 1, 1, 1, 1, 1,\n",
       "        1, 1, 1, 1, 1, 1, 1, 1, 1, 1, 1, 1, 1, 1, 1, 1, 1, 1, 1, 1, 1, 1,\n",
       "        1, 1, 1, 1, 1, 1, 1, 1, 1, 1, 1, 1, 1, 1, 1, 1, 1, 1, 1, 1, 1, 1,\n",
       "        1, 1, 1, 1, 1, 1, 1, 1, 1, 1, 1, 1, 1, 1, 1, 1, 1, 1, 1, 1, 1, 1,\n",
       "        1, 1, 1, 1, 1, 1, 1, 1, 1, 1, 1, 1, 1, 1, 1, 1, 1, 1, 1, 1, 1, 1,\n",
       "        1, 1, 1, 1, 1, 1, 1, 1, 1, 1, 1, 1, 1, 1, 1, 1, 1, 1, 1, 1, 1, 1,\n",
       "        1, 1, 1, 1, 1, 1, 1, 1, 1, 1, 1, 0, 0, 0, 0, 0, 0, 0, 0, 0, 0, 0,\n",
       "        0, 0, 0, 0, 0, 0, 0, 0, 0, 0, 0, 0, 0, 0, 0, 0, 0, 0, 0, 0, 0, 0,\n",
       "        0, 0, 0, 0, 0, 0, 0, 0, 0, 0, 0, 0, 0, 0, 0, 0, 0, 0, 0, 0, 0, 0,\n",
       "        0, 0, 0, 0, 0, 0, 0, 0, 0, 0, 0, 0, 0, 0, 0, 0, 0, 0, 0, 0, 0, 0,\n",
       "        0, 0, 0, 0, 0, 0, 0, 0, 0, 0, 0, 0, 0, 0, 0, 0, 0, 0, 0, 0, 0, 0,\n",
       "        0, 0, 0, 0, 0, 0, 0, 0, 0, 0, 0, 0, 0, 0, 0, 0, 0, 0, 0, 0, 0, 0,\n",
       "        0, 0, 0, 0, 0, 0, 0, 0, 0, 0, 0, 0, 0, 0, 0, 0, 0]))"
      ]
     },
     "execution_count": 30,
     "metadata": {},
     "output_type": "execute_result"
    }
   ],
   "source": [
    "from sklearn.cluster import DBSCAN\n",
    "from sklearn.metrics.pairwise import pairwise_distances\n",
    "from sklearn.decomposition import PCA\n",
    "import matplotlib.pyplot as plt\n",
    "\n",
    "# Assuming trans_data_features is your DataFrame\n",
    "# pca = PCA(n_components=2)\n",
    "# trans_data_features_pca = pca.fit_transform(trans_data_features)\n",
    "\n",
    "distance_matrix = pairwise_distances(df.values, metric='jaccard')\n",
    "\n",
    "dbscan = DBSCAN(eps=0.2, min_samples=5, metric='precomputed')\n",
    "dbscan_labels = dbscan.fit_predict(distance_matrix)\n",
    "\n",
    "# Visualize the clusters in 2D\n",
    "# plt.scatter(trans_data_features_pca[:, 0], trans_data_features_pca[:, 1], c=dbscan_labels, cmap='viridis')\n",
    "# plt.title('DBSCAN Clustering Results')\n",
    "# plt.show()\n",
    "dbscan_labels, target_df.values"
   ]
  },
  {
   "cell_type": "code",
   "execution_count": 31,
   "metadata": {},
   "outputs": [
    {
     "data": {
      "text/plain": [
       "(array([0, 1, 1, 0, 1, 1, 1, 1, 0, 0, 0, 1, 1, 0, 1, 1, 0, 0, 0, 0, 1, 1,\n",
       "        1, 0, 0, 0, 1, 0, 1, 0, 1, 1, 0, 0, 1, 1, 0, 0, 1, 0, 0, 1, 0, 0,\n",
       "        1, 1, 0, 0, 0, 0, 0, 0, 1, 0, 0, 1, 0, 0, 0, 1, 1, 1, 1, 0, 1, 1,\n",
       "        0, 0, 1, 0, 1, 0, 0, 1, 1, 1, 0, 1, 1, 1, 0, 0, 0, 0, 1, 0, 0, 1,\n",
       "        0, 1, 0, 0, 0, 0, 1, 0, 0, 0, 0, 1, 0, 0, 0, 0, 0, 0, 1, 1, 0, 0,\n",
       "        1, 0, 1, 1, 0, 1, 0, 0, 0, 0, 0, 0, 1, 0, 1, 0, 1, 1, 0, 0, 1, 0,\n",
       "        1, 0, 0, 1, 1, 1, 1, 0, 1, 1, 1, 1, 0, 1, 1, 0, 0, 0, 1, 1, 0, 0,\n",
       "        1, 0, 0, 0, 0, 0, 1, 1, 0, 0, 0, 0, 0, 1, 0, 0, 0, 1, 1, 0, 1, 0,\n",
       "        0, 0, 0, 0, 0, 0, 1, 0, 0, 0, 0, 0, 1, 1, 1, 1, 0, 0, 0, 0, 1, 0,\n",
       "        1, 0, 1, 1, 1, 1, 0, 0, 0, 0, 0, 0, 0, 1, 0, 0, 1, 0, 1, 1, 1, 0,\n",
       "        1, 0, 0, 1, 0, 0, 1, 1, 0, 0, 0, 0, 1, 0, 0, 0, 0, 0, 1, 1, 1, 1,\n",
       "        0, 1, 0, 1, 1, 0, 1, 0, 0, 1, 0, 0, 1, 0, 0, 1, 0, 0, 0, 0, 0, 0,\n",
       "        0, 0, 1, 0, 1, 0, 0, 0, 1, 0, 1, 0, 0, 0, 1, 0, 1, 0, 1, 0, 1, 1,\n",
       "        0, 0, 0, 0, 0, 1, 1, 1, 0, 0, 1, 0, 0, 0, 0, 0, 1]),\n",
       " array([1, 1, 1, 1, 1, 1, 1, 1, 1, 1, 1, 1, 1, 1, 1, 1, 1, 1, 1, 1, 1, 1,\n",
       "        1, 1, 1, 1, 1, 1, 1, 1, 1, 1, 1, 1, 1, 1, 1, 1, 1, 1, 1, 1, 1, 1,\n",
       "        1, 1, 1, 1, 1, 1, 1, 1, 1, 1, 1, 1, 1, 1, 1, 1, 1, 1, 1, 1, 1, 1,\n",
       "        1, 1, 1, 1, 1, 1, 1, 1, 1, 1, 1, 1, 1, 1, 1, 1, 1, 1, 1, 1, 1, 1,\n",
       "        1, 1, 1, 1, 1, 1, 1, 1, 1, 1, 1, 1, 1, 1, 1, 1, 1, 1, 1, 1, 1, 1,\n",
       "        1, 1, 1, 1, 1, 1, 1, 1, 1, 1, 1, 1, 1, 1, 1, 1, 1, 1, 1, 1, 1, 1,\n",
       "        1, 1, 1, 1, 1, 1, 1, 1, 1, 1, 1, 1, 1, 1, 1, 1, 1, 1, 1, 1, 1, 1,\n",
       "        1, 1, 1, 1, 1, 1, 1, 1, 1, 1, 1, 0, 0, 0, 0, 0, 0, 0, 0, 0, 0, 0,\n",
       "        0, 0, 0, 0, 0, 0, 0, 0, 0, 0, 0, 0, 0, 0, 0, 0, 0, 0, 0, 0, 0, 0,\n",
       "        0, 0, 0, 0, 0, 0, 0, 0, 0, 0, 0, 0, 0, 0, 0, 0, 0, 0, 0, 0, 0, 0,\n",
       "        0, 0, 0, 0, 0, 0, 0, 0, 0, 0, 0, 0, 0, 0, 0, 0, 0, 0, 0, 0, 0, 0,\n",
       "        0, 0, 0, 0, 0, 0, 0, 0, 0, 0, 0, 0, 0, 0, 0, 0, 0, 0, 0, 0, 0, 0,\n",
       "        0, 0, 0, 0, 0, 0, 0, 0, 0, 0, 0, 0, 0, 0, 0, 0, 0, 0, 0, 0, 0, 0,\n",
       "        0, 0, 0, 0, 0, 0, 0, 0, 0, 0, 0, 0, 0, 0, 0, 0, 0]))"
      ]
     },
     "execution_count": 31,
     "metadata": {},
     "output_type": "execute_result"
    }
   ],
   "source": [
    "from sklearn.cluster import AgglomerativeClustering\n",
    "aggloCluster = AgglomerativeClustering(n_clusters=2)\n",
    "labels = aggloCluster.fit_predict(df.values)\n",
    "labels, target_df.values"
   ]
  },
  {
   "cell_type": "code",
   "execution_count": 33,
   "metadata": {},
   "outputs": [],
   "source": [
    "# cluster = []\n",
    "# print(len(labels))\n",
    "# for i in labels:\n",
    "#     if i == 1:\n",
    "#         cluster.append(2)\n",
    "#     if i == 2:\n",
    "#         cluster.append(1)\n",
    "#     if i == 0:\n",
    "#         cluster.append(0)\n",
    "# cluster_freq = [[0, 0, 0], [0, 0, 0], [0, 0, 0]]\n",
    "# for i in range(len(labels)):\n",
    "#     if labels[i] == 0:\n",
    "#         cluster_freq[0][target[i]] += 1\n",
    "#     if labels[i] == 1:\n",
    "#         cluster_freq[1][target[i]] += 1\n",
    "#     if labels[i] == 2:\n",
    "#         cluster_freq[2][target[i]] += 1\n",
    "\n",
    "# print(cluster_freq)"
   ]
  },
  {
   "cell_type": "code",
   "execution_count": 34,
   "metadata": {},
   "outputs": [
    {
     "data": {
      "text/plain": [
       "0.4943820224719101"
      ]
     },
     "execution_count": 34,
     "metadata": {},
     "output_type": "execute_result"
    }
   ],
   "source": [
    "(cluster == target_df.values).sum() / len(target.values)"
   ]
  },
  {
   "cell_type": "code",
   "execution_count": 35,
   "metadata": {},
   "outputs": [
    {
     "name": "stdout",
     "output_type": "stream",
     "text": [
      "V measure Score: 0.003518274919111828\n",
      "Homogeneity Score: 0.003561233573857552\n",
      "Completeness Score: 0.0034763403196331434\n",
      "Adjusted Rand Score: -0.0010264747840568408\n",
      "Adjusted Mutual Info Score: 0.0010847184140646616\n"
     ]
    }
   ],
   "source": [
    "from sklearn.metrics.cluster import adjusted_mutual_info_score\n",
    "from sklearn.metrics.cluster import adjusted_rand_score\n",
    "from sklearn.metrics.cluster import completeness_score\n",
    "from sklearn.metrics.cluster import homogeneity_score\n",
    "from sklearn.metrics.cluster import v_measure_score\n",
    "\n",
    "print(f\"V measure Score: {v_measure_score(cluster, target_df.values)}\")\n",
    "print(f\"Homogeneity Score: {homogeneity_score(cluster, target_df.values)}\")\n",
    "print(f\"Completeness Score: {completeness_score(cluster, target_df.values)}\")\n",
    "print(f\"Adjusted Rand Score: {adjusted_rand_score(cluster, target_df.values)}\")\n",
    "print(f\"Adjusted Mutual Info Score: {\n",
    "      adjusted_mutual_info_score(cluster, target_df.values)}\")"
   ]
  },
  {
   "cell_type": "code",
   "execution_count": null,
   "metadata": {},
   "outputs": [],
   "source": []
  }
 ],
 "metadata": {
  "kernelspec": {
   "display_name": "fp_spark",
   "language": "python",
   "name": "python3"
  },
  "language_info": {
   "codemirror_mode": {
    "name": "ipython",
    "version": 3
   },
   "file_extension": ".py",
   "mimetype": "text/x-python",
   "name": "python",
   "nbconvert_exporter": "python",
   "pygments_lexer": "ipython3",
   "version": "3.12.0"
  }
 },
 "nbformat": 4,
 "nbformat_minor": 2
}
