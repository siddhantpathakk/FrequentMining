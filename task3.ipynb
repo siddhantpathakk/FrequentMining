{
 "cells": [
  {
   "cell_type": "code",
   "execution_count": 111,
   "metadata": {},
   "outputs": [],
   "source": [
    "# %pip install mlxtend kmodes"
   ]
  },
  {
   "cell_type": "code",
   "execution_count": 112,
   "metadata": {},
   "outputs": [],
   "source": [
    "from sklearn.datasets import load_wine\n",
    "import pandas as pd\n",
    "\n",
    "from mlxtend.frequent_patterns import apriori"
   ]
  },
  {
   "cell_type": "code",
   "execution_count": null,
   "metadata": {},
   "outputs": [],
   "source": []
  },
  {
   "cell_type": "code",
   "execution_count": 113,
   "metadata": {},
   "outputs": [
    {
     "data": {
      "text/html": [
       "<div>\n",
       "<style scoped>\n",
       "    .dataframe tbody tr th:only-of-type {\n",
       "        vertical-align: middle;\n",
       "    }\n",
       "\n",
       "    .dataframe tbody tr th {\n",
       "        vertical-align: top;\n",
       "    }\n",
       "\n",
       "    .dataframe thead th {\n",
       "        text-align: right;\n",
       "    }\n",
       "</style>\n",
       "<table border=\"1\" class=\"dataframe\">\n",
       "  <thead>\n",
       "    <tr style=\"text-align: right;\">\n",
       "      <th></th>\n",
       "      <th>alcohol</th>\n",
       "      <th>malic_acid</th>\n",
       "      <th>ash</th>\n",
       "      <th>alcalinity_of_ash</th>\n",
       "      <th>magnesium</th>\n",
       "      <th>total_phenols</th>\n",
       "      <th>flavanoids</th>\n",
       "      <th>nonflavanoid_phenols</th>\n",
       "      <th>proanthocyanins</th>\n",
       "      <th>color_intensity</th>\n",
       "      <th>hue</th>\n",
       "      <th>od280/od315_of_diluted_wines</th>\n",
       "      <th>proline</th>\n",
       "      <th>target</th>\n",
       "    </tr>\n",
       "  </thead>\n",
       "  <tbody>\n",
       "    <tr>\n",
       "      <th>142</th>\n",
       "      <td>13.52</td>\n",
       "      <td>3.17</td>\n",
       "      <td>2.72</td>\n",
       "      <td>23.5</td>\n",
       "      <td>97.0</td>\n",
       "      <td>1.55</td>\n",
       "      <td>0.52</td>\n",
       "      <td>0.50</td>\n",
       "      <td>0.55</td>\n",
       "      <td>4.35</td>\n",
       "      <td>0.89</td>\n",
       "      <td>2.06</td>\n",
       "      <td>520.0</td>\n",
       "      <td>2</td>\n",
       "    </tr>\n",
       "    <tr>\n",
       "      <th>53</th>\n",
       "      <td>13.77</td>\n",
       "      <td>1.90</td>\n",
       "      <td>2.68</td>\n",
       "      <td>17.1</td>\n",
       "      <td>115.0</td>\n",
       "      <td>3.00</td>\n",
       "      <td>2.79</td>\n",
       "      <td>0.39</td>\n",
       "      <td>1.68</td>\n",
       "      <td>6.30</td>\n",
       "      <td>1.13</td>\n",
       "      <td>2.93</td>\n",
       "      <td>1375.0</td>\n",
       "      <td>0</td>\n",
       "    </tr>\n",
       "    <tr>\n",
       "      <th>144</th>\n",
       "      <td>12.25</td>\n",
       "      <td>3.88</td>\n",
       "      <td>2.20</td>\n",
       "      <td>18.5</td>\n",
       "      <td>112.0</td>\n",
       "      <td>1.38</td>\n",
       "      <td>0.78</td>\n",
       "      <td>0.29</td>\n",
       "      <td>1.14</td>\n",
       "      <td>8.21</td>\n",
       "      <td>0.65</td>\n",
       "      <td>2.00</td>\n",
       "      <td>855.0</td>\n",
       "      <td>2</td>\n",
       "    </tr>\n",
       "    <tr>\n",
       "      <th>86</th>\n",
       "      <td>12.16</td>\n",
       "      <td>1.61</td>\n",
       "      <td>2.31</td>\n",
       "      <td>22.8</td>\n",
       "      <td>90.0</td>\n",
       "      <td>1.78</td>\n",
       "      <td>1.69</td>\n",
       "      <td>0.43</td>\n",
       "      <td>1.56</td>\n",
       "      <td>2.45</td>\n",
       "      <td>1.33</td>\n",
       "      <td>2.26</td>\n",
       "      <td>495.0</td>\n",
       "      <td>1</td>\n",
       "    </tr>\n",
       "    <tr>\n",
       "      <th>64</th>\n",
       "      <td>12.17</td>\n",
       "      <td>1.45</td>\n",
       "      <td>2.53</td>\n",
       "      <td>19.0</td>\n",
       "      <td>104.0</td>\n",
       "      <td>1.89</td>\n",
       "      <td>1.75</td>\n",
       "      <td>0.45</td>\n",
       "      <td>1.03</td>\n",
       "      <td>2.95</td>\n",
       "      <td>1.45</td>\n",
       "      <td>2.23</td>\n",
       "      <td>355.0</td>\n",
       "      <td>1</td>\n",
       "    </tr>\n",
       "  </tbody>\n",
       "</table>\n",
       "</div>"
      ],
      "text/plain": [
       "     alcohol  malic_acid   ash  alcalinity_of_ash  magnesium  total_phenols  \\\n",
       "142    13.52        3.17  2.72               23.5       97.0           1.55   \n",
       "53     13.77        1.90  2.68               17.1      115.0           3.00   \n",
       "144    12.25        3.88  2.20               18.5      112.0           1.38   \n",
       "86     12.16        1.61  2.31               22.8       90.0           1.78   \n",
       "64     12.17        1.45  2.53               19.0      104.0           1.89   \n",
       "\n",
       "     flavanoids  nonflavanoid_phenols  proanthocyanins  color_intensity   hue  \\\n",
       "142        0.52                  0.50             0.55             4.35  0.89   \n",
       "53         2.79                  0.39             1.68             6.30  1.13   \n",
       "144        0.78                  0.29             1.14             8.21  0.65   \n",
       "86         1.69                  0.43             1.56             2.45  1.33   \n",
       "64         1.75                  0.45             1.03             2.95  1.45   \n",
       "\n",
       "     od280/od315_of_diluted_wines  proline  target  \n",
       "142                          2.06    520.0       2  \n",
       "53                           2.93   1375.0       0  \n",
       "144                          2.00    855.0       2  \n",
       "86                           2.26    495.0       1  \n",
       "64                           2.23    355.0       1  "
      ]
     },
     "execution_count": 113,
     "metadata": {},
     "output_type": "execute_result"
    }
   ],
   "source": [
    "data = load_wine()\n",
    "df = pd.DataFrame(data.data, columns=data.feature_names)\n",
    "df['target'] = data.target\n",
    "\n",
    "df = df.sample(frac=1)\n",
    "\n",
    "df.head()"
   ]
  },
  {
   "cell_type": "code",
   "execution_count": 114,
   "metadata": {},
   "outputs": [
    {
     "data": {
      "text/html": [
       "<div>\n",
       "<style scoped>\n",
       "    .dataframe tbody tr th:only-of-type {\n",
       "        vertical-align: middle;\n",
       "    }\n",
       "\n",
       "    .dataframe tbody tr th {\n",
       "        vertical-align: top;\n",
       "    }\n",
       "\n",
       "    .dataframe thead th {\n",
       "        text-align: right;\n",
       "    }\n",
       "</style>\n",
       "<table border=\"1\" class=\"dataframe\">\n",
       "  <thead>\n",
       "    <tr style=\"text-align: right;\">\n",
       "      <th></th>\n",
       "      <th>alcohol</th>\n",
       "      <th>malic_acid</th>\n",
       "      <th>ash</th>\n",
       "      <th>alcalinity_of_ash</th>\n",
       "      <th>magnesium</th>\n",
       "      <th>total_phenols</th>\n",
       "      <th>flavanoids</th>\n",
       "      <th>nonflavanoid_phenols</th>\n",
       "      <th>proanthocyanins</th>\n",
       "      <th>color_intensity</th>\n",
       "      <th>hue</th>\n",
       "      <th>od280/od315_of_diluted_wines</th>\n",
       "      <th>proline</th>\n",
       "      <th>target</th>\n",
       "    </tr>\n",
       "  </thead>\n",
       "  <tbody>\n",
       "    <tr>\n",
       "      <th>142</th>\n",
       "      <td>True</td>\n",
       "      <td>True</td>\n",
       "      <td>True</td>\n",
       "      <td>True</td>\n",
       "      <td>False</td>\n",
       "      <td>False</td>\n",
       "      <td>False</td>\n",
       "      <td>True</td>\n",
       "      <td>False</td>\n",
       "      <td>False</td>\n",
       "      <td>False</td>\n",
       "      <td>False</td>\n",
       "      <td>False</td>\n",
       "      <td>2</td>\n",
       "    </tr>\n",
       "    <tr>\n",
       "      <th>53</th>\n",
       "      <td>True</td>\n",
       "      <td>True</td>\n",
       "      <td>True</td>\n",
       "      <td>False</td>\n",
       "      <td>True</td>\n",
       "      <td>True</td>\n",
       "      <td>True</td>\n",
       "      <td>True</td>\n",
       "      <td>True</td>\n",
       "      <td>True</td>\n",
       "      <td>True</td>\n",
       "      <td>True</td>\n",
       "      <td>True</td>\n",
       "      <td>0</td>\n",
       "    </tr>\n",
       "    <tr>\n",
       "      <th>144</th>\n",
       "      <td>False</td>\n",
       "      <td>True</td>\n",
       "      <td>False</td>\n",
       "      <td>False</td>\n",
       "      <td>True</td>\n",
       "      <td>False</td>\n",
       "      <td>False</td>\n",
       "      <td>False</td>\n",
       "      <td>False</td>\n",
       "      <td>True</td>\n",
       "      <td>False</td>\n",
       "      <td>False</td>\n",
       "      <td>True</td>\n",
       "      <td>2</td>\n",
       "    </tr>\n",
       "    <tr>\n",
       "      <th>86</th>\n",
       "      <td>False</td>\n",
       "      <td>False</td>\n",
       "      <td>False</td>\n",
       "      <td>True</td>\n",
       "      <td>False</td>\n",
       "      <td>False</td>\n",
       "      <td>False</td>\n",
       "      <td>True</td>\n",
       "      <td>True</td>\n",
       "      <td>False</td>\n",
       "      <td>True</td>\n",
       "      <td>False</td>\n",
       "      <td>False</td>\n",
       "      <td>1</td>\n",
       "    </tr>\n",
       "    <tr>\n",
       "      <th>64</th>\n",
       "      <td>False</td>\n",
       "      <td>False</td>\n",
       "      <td>True</td>\n",
       "      <td>False</td>\n",
       "      <td>True</td>\n",
       "      <td>False</td>\n",
       "      <td>False</td>\n",
       "      <td>True</td>\n",
       "      <td>False</td>\n",
       "      <td>False</td>\n",
       "      <td>True</td>\n",
       "      <td>False</td>\n",
       "      <td>False</td>\n",
       "      <td>1</td>\n",
       "    </tr>\n",
       "  </tbody>\n",
       "</table>\n",
       "</div>"
      ],
      "text/plain": [
       "     alcohol  malic_acid    ash  alcalinity_of_ash  magnesium  total_phenols  \\\n",
       "142     True        True   True               True      False          False   \n",
       "53      True        True   True              False       True           True   \n",
       "144    False        True  False              False       True          False   \n",
       "86     False       False  False               True      False          False   \n",
       "64     False       False   True              False       True          False   \n",
       "\n",
       "     flavanoids  nonflavanoid_phenols  proanthocyanins  color_intensity  \\\n",
       "142       False                  True            False            False   \n",
       "53         True                  True             True             True   \n",
       "144       False                 False            False             True   \n",
       "86        False                  True             True            False   \n",
       "64        False                  True            False            False   \n",
       "\n",
       "       hue  od280/od315_of_diluted_wines  proline  target  \n",
       "142  False                         False    False       2  \n",
       "53    True                          True     True       0  \n",
       "144  False                         False     True       2  \n",
       "86    True                         False    False       1  \n",
       "64    True                         False    False       1  "
      ]
     },
     "execution_count": 114,
     "metadata": {},
     "output_type": "execute_result"
    }
   ],
   "source": [
    "for col in data.feature_names:\n",
    "    df[col] = df[col] > df[col].median()\n",
    "    \n",
    "df.head()"
   ]
  },
  {
   "cell_type": "code",
   "execution_count": 115,
   "metadata": {},
   "outputs": [],
   "source": [
    "target = df['target']\n",
    "df = df.drop('target', axis=1)"
   ]
  },
  {
   "cell_type": "code",
   "execution_count": 116,
   "metadata": {},
   "outputs": [],
   "source": [
    "frequent_itemsets = apriori(df, min_support=0.4, use_colnames=True)"
   ]
  },
  {
   "cell_type": "code",
   "execution_count": 117,
   "metadata": {},
   "outputs": [
    {
     "data": {
      "text/html": [
       "<div>\n",
       "<style scoped>\n",
       "    .dataframe tbody tr th:only-of-type {\n",
       "        vertical-align: middle;\n",
       "    }\n",
       "\n",
       "    .dataframe tbody tr th {\n",
       "        vertical-align: top;\n",
       "    }\n",
       "\n",
       "    .dataframe thead th {\n",
       "        text-align: right;\n",
       "    }\n",
       "</style>\n",
       "<table border=\"1\" class=\"dataframe\">\n",
       "  <thead>\n",
       "    <tr style=\"text-align: right;\">\n",
       "      <th></th>\n",
       "      <th>support</th>\n",
       "      <th>itemsets</th>\n",
       "    </tr>\n",
       "  </thead>\n",
       "  <tbody>\n",
       "    <tr>\n",
       "      <th>0</th>\n",
       "      <td>0.477528</td>\n",
       "      <td>(alcohol)</td>\n",
       "    </tr>\n",
       "    <tr>\n",
       "      <th>1</th>\n",
       "      <td>0.500000</td>\n",
       "      <td>(malic_acid)</td>\n",
       "    </tr>\n",
       "    <tr>\n",
       "      <th>2</th>\n",
       "      <td>0.483146</td>\n",
       "      <td>(ash)</td>\n",
       "    </tr>\n",
       "    <tr>\n",
       "      <th>3</th>\n",
       "      <td>0.466292</td>\n",
       "      <td>(alcalinity_of_ash)</td>\n",
       "    </tr>\n",
       "    <tr>\n",
       "      <th>4</th>\n",
       "      <td>0.460674</td>\n",
       "      <td>(magnesium)</td>\n",
       "    </tr>\n",
       "    <tr>\n",
       "      <th>5</th>\n",
       "      <td>0.500000</td>\n",
       "      <td>(total_phenols)</td>\n",
       "    </tr>\n",
       "    <tr>\n",
       "      <th>6</th>\n",
       "      <td>0.500000</td>\n",
       "      <td>(flavanoids)</td>\n",
       "    </tr>\n",
       "    <tr>\n",
       "      <th>7</th>\n",
       "      <td>0.466292</td>\n",
       "      <td>(nonflavanoid_phenols)</td>\n",
       "    </tr>\n",
       "    <tr>\n",
       "      <th>8</th>\n",
       "      <td>0.500000</td>\n",
       "      <td>(proanthocyanins)</td>\n",
       "    </tr>\n",
       "    <tr>\n",
       "      <th>9</th>\n",
       "      <td>0.500000</td>\n",
       "      <td>(color_intensity)</td>\n",
       "    </tr>\n",
       "    <tr>\n",
       "      <th>10</th>\n",
       "      <td>0.500000</td>\n",
       "      <td>(hue)</td>\n",
       "    </tr>\n",
       "    <tr>\n",
       "      <th>11</th>\n",
       "      <td>0.488764</td>\n",
       "      <td>(od280/od315_of_diluted_wines)</td>\n",
       "    </tr>\n",
       "    <tr>\n",
       "      <th>12</th>\n",
       "      <td>0.500000</td>\n",
       "      <td>(proline)</td>\n",
       "    </tr>\n",
       "    <tr>\n",
       "      <th>13</th>\n",
       "      <td>0.460674</td>\n",
       "      <td>(total_phenols, flavanoids)</td>\n",
       "    </tr>\n",
       "    <tr>\n",
       "      <th>14</th>\n",
       "      <td>0.410112</td>\n",
       "      <td>(od280/od315_of_diluted_wines, flavanoids)</td>\n",
       "    </tr>\n",
       "  </tbody>\n",
       "</table>\n",
       "</div>"
      ],
      "text/plain": [
       "     support                                    itemsets\n",
       "0   0.477528                                   (alcohol)\n",
       "1   0.500000                                (malic_acid)\n",
       "2   0.483146                                       (ash)\n",
       "3   0.466292                         (alcalinity_of_ash)\n",
       "4   0.460674                                 (magnesium)\n",
       "5   0.500000                             (total_phenols)\n",
       "6   0.500000                                (flavanoids)\n",
       "7   0.466292                      (nonflavanoid_phenols)\n",
       "8   0.500000                           (proanthocyanins)\n",
       "9   0.500000                           (color_intensity)\n",
       "10  0.500000                                       (hue)\n",
       "11  0.488764              (od280/od315_of_diluted_wines)\n",
       "12  0.500000                                   (proline)\n",
       "13  0.460674                 (total_phenols, flavanoids)\n",
       "14  0.410112  (od280/od315_of_diluted_wines, flavanoids)"
      ]
     },
     "execution_count": 117,
     "metadata": {},
     "output_type": "execute_result"
    }
   ],
   "source": [
    "frequent_itemsets"
   ]
  },
  {
   "cell_type": "code",
   "execution_count": 118,
   "metadata": {},
   "outputs": [
    {
     "data": {
      "text/plain": [
       "[['malic_acid'],\n",
       " ['alcalinity_of_ash'],\n",
       " ['proanthocyanins'],\n",
       " ['od280/od315_of_diluted_wines'],\n",
       " ['flavanoids'],\n",
       " ['magnesium'],\n",
       " ['hue'],\n",
       " ['ash'],\n",
       " ['proline'],\n",
       " ['nonflavanoid_phenols'],\n",
       " ['total_phenols'],\n",
       " ['od280/od315_of_diluted_wines', 'flavanoids'],\n",
       " ['alcohol'],\n",
       " ['color_intensity'],\n",
       " ['total_phenols', 'flavanoids']]"
      ]
     },
     "execution_count": 118,
     "metadata": {},
     "output_type": "execute_result"
    }
   ],
   "source": [
    "from itertools import chain, combinations\n",
    "\n",
    "# Function to get all subsets of a set\n",
    "def get_subsets(s):\n",
    "    return chain.from_iterable(combinations(s, r) for r in range(1, len(s)+1))\n",
    "\n",
    "\n",
    "# Generate the new list\n",
    "new_list = set()\n",
    "for item in frequent_itemsets['itemsets']:\n",
    "    if len(item) == 1:\n",
    "        new_list.add(item)\n",
    "    else:\n",
    "        subsets = map(frozenset, get_subsets(item))\n",
    "        new_list.update(subsets)\n",
    "        \n",
    "new_list = list(new_list)\n",
    "new_list = [list(item) for item in new_list]\n",
    "new_list"
   ]
  },
  {
   "cell_type": "code",
   "execution_count": 119,
   "metadata": {},
   "outputs": [
    {
     "data": {
      "text/plain": [
       "(['malic_acid',\n",
       "  'alcalinity_of_ash',\n",
       "  'proanthocyanins',\n",
       "  'od280/od315_of_diluted_wines',\n",
       "  'flavanoids',\n",
       "  'magnesium',\n",
       "  'hue',\n",
       "  'ash',\n",
       "  'proline',\n",
       "  'nonflavanoid_phenols',\n",
       "  'total_phenols',\n",
       "  'alcohol',\n",
       "  'color_intensity'],\n",
       " [['od280/od315_of_diluted_wines', 'flavanoids'],\n",
       "  ['total_phenols', 'flavanoids']])"
      ]
     },
     "execution_count": 119,
     "metadata": {},
     "output_type": "execute_result"
    }
   ],
   "source": [
    "univar_list, multivar_list = [], []\n",
    "for item in new_list:\n",
    "    if len(item) == 1:\n",
    "        univar_list.append(item[0])\n",
    "    else:\n",
    "        multivar_list.append(item)\n",
    "\n",
    "univar_list, multivar_list"
   ]
  },
  {
   "cell_type": "code",
   "execution_count": 120,
   "metadata": {},
   "outputs": [],
   "source": [
    "df = df[univar_list]"
   ]
  },
  {
   "cell_type": "code",
   "execution_count": 121,
   "metadata": {},
   "outputs": [
    {
     "data": {
      "text/html": [
       "<div>\n",
       "<style scoped>\n",
       "    .dataframe tbody tr th:only-of-type {\n",
       "        vertical-align: middle;\n",
       "    }\n",
       "\n",
       "    .dataframe tbody tr th {\n",
       "        vertical-align: top;\n",
       "    }\n",
       "\n",
       "    .dataframe thead th {\n",
       "        text-align: right;\n",
       "    }\n",
       "</style>\n",
       "<table border=\"1\" class=\"dataframe\">\n",
       "  <thead>\n",
       "    <tr style=\"text-align: right;\">\n",
       "      <th></th>\n",
       "      <th>malic_acid</th>\n",
       "      <th>alcalinity_of_ash</th>\n",
       "      <th>proanthocyanins</th>\n",
       "      <th>od280/od315_of_diluted_wines</th>\n",
       "      <th>flavanoids</th>\n",
       "      <th>magnesium</th>\n",
       "      <th>hue</th>\n",
       "      <th>ash</th>\n",
       "      <th>proline</th>\n",
       "      <th>nonflavanoid_phenols</th>\n",
       "      <th>total_phenols</th>\n",
       "      <th>alcohol</th>\n",
       "      <th>color_intensity</th>\n",
       "      <th>['od280/od315_of_diluted_wines', 'flavanoids']</th>\n",
       "      <th>['total_phenols', 'flavanoids']</th>\n",
       "    </tr>\n",
       "  </thead>\n",
       "  <tbody>\n",
       "    <tr>\n",
       "      <th>142</th>\n",
       "      <td>True</td>\n",
       "      <td>True</td>\n",
       "      <td>False</td>\n",
       "      <td>False</td>\n",
       "      <td>False</td>\n",
       "      <td>False</td>\n",
       "      <td>False</td>\n",
       "      <td>True</td>\n",
       "      <td>False</td>\n",
       "      <td>True</td>\n",
       "      <td>False</td>\n",
       "      <td>True</td>\n",
       "      <td>False</td>\n",
       "      <td>False</td>\n",
       "      <td>False</td>\n",
       "    </tr>\n",
       "    <tr>\n",
       "      <th>53</th>\n",
       "      <td>True</td>\n",
       "      <td>False</td>\n",
       "      <td>True</td>\n",
       "      <td>True</td>\n",
       "      <td>True</td>\n",
       "      <td>True</td>\n",
       "      <td>True</td>\n",
       "      <td>True</td>\n",
       "      <td>True</td>\n",
       "      <td>True</td>\n",
       "      <td>True</td>\n",
       "      <td>True</td>\n",
       "      <td>True</td>\n",
       "      <td>True</td>\n",
       "      <td>True</td>\n",
       "    </tr>\n",
       "    <tr>\n",
       "      <th>144</th>\n",
       "      <td>True</td>\n",
       "      <td>False</td>\n",
       "      <td>False</td>\n",
       "      <td>False</td>\n",
       "      <td>False</td>\n",
       "      <td>True</td>\n",
       "      <td>False</td>\n",
       "      <td>False</td>\n",
       "      <td>True</td>\n",
       "      <td>False</td>\n",
       "      <td>False</td>\n",
       "      <td>False</td>\n",
       "      <td>True</td>\n",
       "      <td>False</td>\n",
       "      <td>False</td>\n",
       "    </tr>\n",
       "    <tr>\n",
       "      <th>86</th>\n",
       "      <td>False</td>\n",
       "      <td>True</td>\n",
       "      <td>True</td>\n",
       "      <td>False</td>\n",
       "      <td>False</td>\n",
       "      <td>False</td>\n",
       "      <td>True</td>\n",
       "      <td>False</td>\n",
       "      <td>False</td>\n",
       "      <td>True</td>\n",
       "      <td>False</td>\n",
       "      <td>False</td>\n",
       "      <td>False</td>\n",
       "      <td>False</td>\n",
       "      <td>False</td>\n",
       "    </tr>\n",
       "    <tr>\n",
       "      <th>64</th>\n",
       "      <td>False</td>\n",
       "      <td>False</td>\n",
       "      <td>False</td>\n",
       "      <td>False</td>\n",
       "      <td>False</td>\n",
       "      <td>True</td>\n",
       "      <td>True</td>\n",
       "      <td>True</td>\n",
       "      <td>False</td>\n",
       "      <td>True</td>\n",
       "      <td>False</td>\n",
       "      <td>False</td>\n",
       "      <td>False</td>\n",
       "      <td>False</td>\n",
       "      <td>False</td>\n",
       "    </tr>\n",
       "  </tbody>\n",
       "</table>\n",
       "</div>"
      ],
      "text/plain": [
       "     malic_acid  alcalinity_of_ash  proanthocyanins  \\\n",
       "142        True               True            False   \n",
       "53         True              False             True   \n",
       "144        True              False            False   \n",
       "86        False               True             True   \n",
       "64        False              False            False   \n",
       "\n",
       "     od280/od315_of_diluted_wines  flavanoids  magnesium    hue    ash  \\\n",
       "142                         False       False      False  False   True   \n",
       "53                           True        True       True   True   True   \n",
       "144                         False       False       True  False  False   \n",
       "86                          False       False      False   True  False   \n",
       "64                          False       False       True   True   True   \n",
       "\n",
       "     proline  nonflavanoid_phenols  total_phenols  alcohol  color_intensity  \\\n",
       "142    False                  True          False     True            False   \n",
       "53      True                  True           True     True             True   \n",
       "144     True                 False          False    False             True   \n",
       "86     False                  True          False    False            False   \n",
       "64     False                  True          False    False            False   \n",
       "\n",
       "     ['od280/od315_of_diluted_wines', 'flavanoids']  \\\n",
       "142                                           False   \n",
       "53                                             True   \n",
       "144                                           False   \n",
       "86                                            False   \n",
       "64                                            False   \n",
       "\n",
       "     ['total_phenols', 'flavanoids']  \n",
       "142                            False  \n",
       "53                              True  \n",
       "144                            False  \n",
       "86                             False  \n",
       "64                             False  "
      ]
     },
     "execution_count": 121,
     "metadata": {},
     "output_type": "execute_result"
    }
   ],
   "source": [
    "for item in multivar_list:\n",
    "    # set it true if all the items in the itemset are true\n",
    "    df[str(item)] = df[item].all(axis=1)\n",
    "\n",
    "df.head()"
   ]
  },
  {
   "cell_type": "code",
   "execution_count": 122,
   "metadata": {},
   "outputs": [
    {
     "name": "stdout",
     "output_type": "stream",
     "text": [
      "Init: initializing centroids\n",
      "Init: initializing clusters\n",
      "Starting iterations...\n",
      "Run 1, iteration: 1/100, moves: 26, cost: 576.0\n",
      "Run 1, iteration: 2/100, moves: 11, cost: 566.0\n",
      "Run 1, iteration: 3/100, moves: 12, cost: 556.0\n",
      "Run 1, iteration: 4/100, moves: 4, cost: 556.0\n",
      "Init: initializing centroids\n",
      "Init: initializing clusters\n",
      "Starting iterations...\n",
      "Run 2, iteration: 1/100, moves: 67, cost: 564.0\n",
      "Run 2, iteration: 2/100, moves: 8, cost: 564.0\n",
      "Init: initializing centroids\n",
      "Init: initializing clusters\n",
      "Starting iterations...\n",
      "Run 3, iteration: 1/100, moves: 74, cost: 557.0\n",
      "Run 3, iteration: 2/100, moves: 9, cost: 557.0\n",
      "Init: initializing centroids\n",
      "Init: initializing clusters\n",
      "Starting iterations...\n",
      "Run 4, iteration: 1/100, moves: 66, cost: 564.0\n",
      "Run 4, iteration: 2/100, moves: 7, cost: 564.0\n",
      "Init: initializing centroids\n",
      "Init: initializing clusters\n",
      "Starting iterations...\n",
      "Run 5, iteration: 1/100, moves: 19, cost: 576.0\n",
      "Best run was number 1\n"
     ]
    }
   ],
   "source": [
    "# importing necessary libraries \n",
    "import pandas as pd \n",
    "import numpy as np \n",
    "# !pip install kmodes \n",
    "from kmodes.kmodes import KModes \n",
    "import matplotlib.pyplot as plt \n",
    "%matplotlib inline \n",
    "\n",
    "# Building the model with 3 clusters \n",
    "kmode = KModes(n_clusters=3, init = \"random\", n_init = 5, verbose=1) \n",
    "clusters = kmode.fit_predict(df) \n",
    "# clusters"
   ]
  },
  {
   "cell_type": "code",
   "execution_count": 123,
   "metadata": {},
   "outputs": [
    {
     "data": {
      "image/png": "[encoded data removed]",
      "text/plain": [
       "<Figure size 640x480 with 1 Axes>"
      ]
     },
     "metadata": {},
     "output_type": "display_data"
    }
   ],
   "source": [
    "import matplotlib.pyplot as plt\n",
    "from sklearn.decomposition import PCA\n",
    "\n",
    "# Reduce dimensionality for visualization (adjust n_components as needed)\n",
    "pca = PCA(n_components=2)\n",
    "trans_data_pca = pca.fit_transform(df)\n",
    "# Plot clusters in 2D\n",
    "plt.scatter(trans_data_pca[:, 0], trans_data_pca[:, 1], c=target, cmap='viridis')\n",
    "plt.title('Cluster Assignments')\n",
    "plt.show()"
   ]
  },
  {
   "cell_type": "code",
   "execution_count": 124,
   "metadata": {},
   "outputs": [],
   "source": [
    "## mapping the clusters to target variable\n",
    "# new_clusters = []\n",
    "# for i in clusters:\n",
    "#     if i == 0:\n",
    "#         new_clusters.append(1)\n",
    "#     elif i == 1:\n",
    "#         new_clusters.append(0)\n",
    "#     else:\n",
    "#         new_clusters.append(2)"
   ]
  },
  {
   "cell_type": "code",
   "execution_count": 125,
   "metadata": {},
   "outputs": [
    {
     "data": {
      "text/plain": [
       "0.7359550561797753"
      ]
     },
     "execution_count": 125,
     "metadata": {},
     "output_type": "execute_result"
    }
   ],
   "source": [
    "(clusters == target.values).sum() / len(target.values)"
   ]
  },
  {
   "cell_type": "code",
   "execution_count": 126,
   "metadata": {},
   "outputs": [
    {
     "data": {
      "text/plain": [
       "array([[ True,  True, False, ..., False, False, False],\n",
       "       [ True, False,  True, ...,  True,  True,  True],\n",
       "       [ True, False, False, ...,  True, False, False],\n",
       "       ...,\n",
       "       [False, False,  True, ...,  True,  True,  True],\n",
       "       [False, False,  True, ...,  True,  True,  True],\n",
       "       [ True, False,  True, ..., False,  True,  True]])"
      ]
     },
     "execution_count": 126,
     "metadata": {},
     "output_type": "execute_result"
    }
   ],
   "source": [
    "df.values"
   ]
  },
  {
   "cell_type": "code",
   "execution_count": 127,
   "metadata": {},
   "outputs": [
    {
     "data": {
      "text/plain": [
       "(array([ 0,  1, -1, -1, -1, -1, -1, -1,  0,  1,  1, -1, -1, -1,  1,  0,  1,\n",
       "         0,  0, -1,  0,  1, -1,  1, -1, -1,  1,  1, -1,  0,  1,  0,  1, -1,\n",
       "         1,  0,  1,  1,  1,  1, -1, -1,  0,  0, -1, -1,  1, -1, -1,  1, -1,\n",
       "         1,  0, -1, -1, -1,  0,  0,  1, -1,  1,  1, -1, -1,  1,  1, -1,  0,\n",
       "         1, -1, -1,  0, -1,  1,  0,  0, -1, -1, -1,  0,  0,  1,  0,  1,  0,\n",
       "        -1,  0,  1,  1, -1,  1, -1, -1, -1, -1,  1,  1,  0,  1,  1,  1, -1,\n",
       "        -1,  1, -1, -1, -1,  1,  1,  0, -1, -1, -1,  1, -1, -1,  1, -1, -1,\n",
       "        -1, -1,  0, -1,  1, -1,  1, -1,  0, -1, -1,  0,  0,  1, -1,  1,  1,\n",
       "         0, -1, -1, -1, -1,  0,  0, -1, -1,  0,  1,  0, -1,  0, -1,  1,  1,\n",
       "        -1,  1, -1, -1,  1,  1,  0,  1, -1, -1, -1,  1, -1, -1,  0, -1,  1,\n",
       "         1,  1, -1,  1, -1,  1,  1,  1], dtype=int64),\n",
       " array([2, 0, 2, 1, 1, 1, 1, 1, 2, 0, 0, 1, 2, 1, 0, 2, 0, 2, 2, 1, 2, 0,\n",
       "        1, 0, 2, 1, 0, 0, 1, 2, 0, 2, 0, 2, 0, 2, 1, 1, 0, 1, 2, 1, 2, 2,\n",
       "        1, 1, 0, 1, 1, 0, 2, 0, 2, 1, 1, 0, 2, 2, 1, 0, 0, 0, 2, 1, 0, 0,\n",
       "        0, 2, 1, 1, 1, 2, 1, 1, 1, 2, 1, 1, 1, 2, 2, 0, 2, 1, 2, 1, 2, 0,\n",
       "        0, 1, 0, 1, 1, 2, 1, 0, 0, 2, 0, 0, 0, 1, 1, 0, 1, 1, 2, 0, 0, 1,\n",
       "        1, 1, 1, 1, 1, 1, 0, 2, 0, 2, 1, 2, 1, 0, 1, 1, 1, 2, 1, 1, 2, 2,\n",
       "        0, 1, 0, 0, 2, 1, 2, 0, 1, 2, 2, 1, 1, 2, 0, 2, 1, 2, 2, 0, 0, 1,\n",
       "        0, 1, 1, 0, 0, 2, 0, 1, 1, 1, 0, 0, 1, 2, 1, 0, 0, 0, 0, 0, 1, 0,\n",
       "        0, 0]))"
      ]
     },
     "execution_count": 127,
     "metadata": {},
     "output_type": "execute_result"
    }
   ],
   "source": [
    "from sklearn.cluster import DBSCAN\n",
    "from sklearn.metrics.pairwise import pairwise_distances\n",
    "from sklearn.decomposition import PCA\n",
    "import matplotlib.pyplot as plt\n",
    "\n",
    "# Assuming trans_data_features is your DataFrame\n",
    "# pca = PCA(n_components=2)\n",
    "# trans_data_features_pca = pca.fit_transform(trans_data_features)\n",
    "\n",
    "distance_matrix = pairwise_distances(df.values, metric='jaccard')\n",
    "\n",
    "dbscan = DBSCAN(eps=0.2, min_samples=5, metric='precomputed')\n",
    "dbscan_labels = dbscan.fit_predict(distance_matrix)\n",
    "\n",
    "# Visualize the clusters in 2D\n",
    "# plt.scatter(trans_data_features_pca[:, 0], trans_data_features_pca[:, 1], c=dbscan_labels, cmap='viridis')\n",
    "# plt.title('DBSCAN Clustering Results')\n",
    "# plt.show()\n",
    "dbscan_labels, target.values\n"
   ]
  },
  {
   "cell_type": "code",
   "execution_count": 128,
   "metadata": {},
   "outputs": [
    {
     "data": {
      "text/plain": [
       "(array([2, 0, 2, 1, 1, 0, 1, 0, 2, 0, 0, 1, 2, 1, 0, 2, 0, 2, 2, 0, 2, 0,\n",
       "        1, 0, 2, 1, 0, 0, 1, 2, 0, 2, 0, 2, 0, 2, 0, 0, 0, 0, 2, 0, 2, 2,\n",
       "        1, 1, 0, 1, 1, 0, 2, 0, 2, 1, 1, 0, 2, 2, 0, 0, 0, 0, 2, 0, 0, 0,\n",
       "        0, 2, 0, 1, 1, 2, 1, 0, 1, 2, 0, 1, 1, 2, 2, 0, 1, 0, 2, 1, 1, 0,\n",
       "        0, 0, 0, 1, 0, 1, 1, 0, 0, 2, 0, 0, 0, 1, 1, 0, 1, 0, 2, 0, 0, 1,\n",
       "        0, 1, 1, 0, 1, 1, 0, 1, 0, 2, 0, 2, 1, 0, 1, 0, 0, 2, 1, 1, 2, 2,\n",
       "        0, 0, 0, 0, 2, 0, 2, 0, 1, 2, 2, 1, 1, 2, 0, 2, 0, 2, 2, 0, 0, 1,\n",
       "        0, 0, 0, 0, 0, 2, 0, 0, 0, 1, 0, 0, 1, 2, 0, 0, 0, 0, 0, 0, 1, 0,\n",
       "        0, 0], dtype=int64),\n",
       " array([2, 0, 2, 1, 1, 1, 1, 1, 2, 0, 0, 1, 2, 1, 0, 2, 0, 2, 2, 1, 2, 0,\n",
       "        1, 0, 2, 1, 0, 0, 1, 2, 0, 2, 0, 2, 0, 2, 1, 1, 0, 1, 2, 1, 2, 2,\n",
       "        1, 1, 0, 1, 1, 0, 2, 0, 2, 1, 1, 0, 2, 2, 1, 0, 0, 0, 2, 1, 0, 0,\n",
       "        0, 2, 1, 1, 1, 2, 1, 1, 1, 2, 1, 1, 1, 2, 2, 0, 2, 1, 2, 1, 2, 0,\n",
       "        0, 1, 0, 1, 1, 2, 1, 0, 0, 2, 0, 0, 0, 1, 1, 0, 1, 1, 2, 0, 0, 1,\n",
       "        1, 1, 1, 1, 1, 1, 0, 2, 0, 2, 1, 2, 1, 0, 1, 1, 1, 2, 1, 1, 2, 2,\n",
       "        0, 1, 0, 0, 2, 1, 2, 0, 1, 2, 2, 1, 1, 2, 0, 2, 1, 2, 2, 0, 0, 1,\n",
       "        0, 1, 1, 0, 0, 2, 0, 1, 1, 1, 0, 0, 1, 2, 1, 0, 0, 0, 0, 0, 1, 0,\n",
       "        0, 0]))"
      ]
     },
     "execution_count": 128,
     "metadata": {},
     "output_type": "execute_result"
    }
   ],
   "source": [
    "from sklearn.cluster import AgglomerativeClustering\n",
    "aggloCluster = AgglomerativeClustering(n_clusters=3)\n",
    "labels = aggloCluster.fit_predict(df.values)\n",
    "labels,target.values"
   ]
  },
  {
   "cell_type": "code",
   "execution_count": 129,
   "metadata": {},
   "outputs": [
    {
     "name": "stdout",
     "output_type": "stream",
     "text": [
      "178\n",
      "[[25, 34, 29], [14, 25, 7], [20, 12, 12]]\n"
     ]
    }
   ],
   "source": [
    "cluster = []\n",
    "print(len(labels))\n",
    "for i in labels:\n",
    "    if i == 1:\n",
    "        cluster.append(2)\n",
    "    if i == 2:\n",
    "        cluster.append(1)\n",
    "    if i == 0:\n",
    "        cluster.append(0)\n",
    "cluster_freq = [[0,0,0],[0,0,0],[0,0,0]]\n",
    "for i in range(len(labels)):\n",
    "    if labels[i] == 0:\n",
    "        cluster_freq[0][target[i]]+=1\n",
    "    if labels[i] == 1:\n",
    "        cluster_freq[1][target[i]]+=1\n",
    "    if labels[i] == 2:\n",
    "        cluster_freq[2][target[i]]+=1\n",
    "\n",
    "print(cluster_freq)\n"
   ]
  },
  {
   "cell_type": "code",
   "execution_count": 130,
   "metadata": {},
   "outputs": [
    {
     "data": {
      "text/plain": [
       "0.3539325842696629"
      ]
     },
     "execution_count": 130,
     "metadata": {},
     "output_type": "execute_result"
    }
   ],
   "source": [
    "(cluster == target.values).sum() / len(target.values)"
   ]
  },
  {
   "cell_type": "code",
   "execution_count": 131,
   "metadata": {},
   "outputs": [
    {
     "name": "stdout",
     "output_type": "stream",
     "text": [
      "V measure Score: 0.6539874962613172\n",
      "Homogeneity Score: 0.6673412981599316\n",
      "Completeness Score: 0.6411576412080147\n",
      "Adjusted Rand Score: 0.5458263741903832\n",
      "Adjusted Mutual Info Score: 0.650230141839677\n"
     ]
    }
   ],
   "source": [
    "from sklearn.metrics.cluster import adjusted_mutual_info_score\n",
    "from sklearn.metrics.cluster import adjusted_rand_score\n",
    "from sklearn.metrics.cluster import completeness_score\n",
    "from sklearn.metrics.cluster import homogeneity_score\n",
    "from sklearn.metrics.cluster import v_measure_score\n",
    "\n",
    "print(f\"V measure Score: {v_measure_score(cluster,target.values)}\")\n",
    "print(f\"Homogeneity Score: {homogeneity_score(cluster,target.values)}\")\n",
    "print(f\"Completeness Score: {completeness_score(cluster,target.values)}\")\n",
    "print(f\"Adjusted Rand Score: {adjusted_rand_score(cluster,target.values)}\")\n",
    "print(f\"Adjusted Mutual Info Score: {adjusted_mutual_info_score(cluster, target.values)}\")\n"
   ]
  },
  {
   "cell_type": "code",
   "execution_count": 132,
   "metadata": {},
   "outputs": [],
   "source": [
    "df = pd.read_csv(\"./data/heart/heart.csv\")\n",
    "\n",
    "target_df = df['output']\n",
    "df = df.drop('output', axis=1)\n",
    "df = df.sample(frac=1)\n",
    "for col in df.columns:\n",
    "    df[col] = df[col] > df[col].median()\n"
   ]
  },
  {
   "cell_type": "code",
   "execution_count": 133,
   "metadata": {},
   "outputs": [
    {
     "data": {
      "text/html": [
       "<div>\n",
       "<style scoped>\n",
       "    .dataframe tbody tr th:only-of-type {\n",
       "        vertical-align: middle;\n",
       "    }\n",
       "\n",
       "    .dataframe tbody tr th {\n",
       "        vertical-align: top;\n",
       "    }\n",
       "\n",
       "    .dataframe thead th {\n",
       "        text-align: right;\n",
       "    }\n",
       "</style>\n",
       "<table border=\"1\" class=\"dataframe\">\n",
       "  <thead>\n",
       "    <tr style=\"text-align: right;\">\n",
       "      <th></th>\n",
       "      <th>support</th>\n",
       "      <th>itemsets</th>\n",
       "    </tr>\n",
       "  </thead>\n",
       "  <tbody>\n",
       "    <tr>\n",
       "      <th>0</th>\n",
       "      <td>0.498350</td>\n",
       "      <td>(age)</td>\n",
       "    </tr>\n",
       "    <tr>\n",
       "      <th>1</th>\n",
       "      <td>0.435644</td>\n",
       "      <td>(trtbps)</td>\n",
       "    </tr>\n",
       "    <tr>\n",
       "      <th>2</th>\n",
       "      <td>0.498350</td>\n",
       "      <td>(chol)</td>\n",
       "    </tr>\n",
       "    <tr>\n",
       "      <th>3</th>\n",
       "      <td>0.491749</td>\n",
       "      <td>(thalachh)</td>\n",
       "    </tr>\n",
       "    <tr>\n",
       "      <th>4</th>\n",
       "      <td>0.462046</td>\n",
       "      <td>(oldpeak)</td>\n",
       "    </tr>\n",
       "    <tr>\n",
       "      <th>5</th>\n",
       "      <td>0.468647</td>\n",
       "      <td>(slp)</td>\n",
       "    </tr>\n",
       "    <tr>\n",
       "      <th>6</th>\n",
       "      <td>0.422442</td>\n",
       "      <td>(caa)</td>\n",
       "    </tr>\n",
       "  </tbody>\n",
       "</table>\n",
       "</div>"
      ],
      "text/plain": [
       "    support    itemsets\n",
       "0  0.498350       (age)\n",
       "1  0.435644    (trtbps)\n",
       "2  0.498350      (chol)\n",
       "3  0.491749  (thalachh)\n",
       "4  0.462046   (oldpeak)\n",
       "5  0.468647       (slp)\n",
       "6  0.422442       (caa)"
      ]
     },
     "execution_count": 133,
     "metadata": {},
     "output_type": "execute_result"
    }
   ],
   "source": [
    "frequent_itemsets = apriori(df, min_support=0.4, use_colnames=True)\n",
    "frequent_itemsets"
   ]
  },
  {
   "cell_type": "code",
   "execution_count": 134,
   "metadata": {},
   "outputs": [
    {
     "data": {
      "text/plain": [
       "[['slp'], ['trtbps'], ['age'], ['oldpeak'], ['chol'], ['caa'], ['thalachh']]"
      ]
     },
     "execution_count": 134,
     "metadata": {},
     "output_type": "execute_result"
    }
   ],
   "source": [
    "from itertools import chain, combinations\n",
    "\n",
    "# Function to get all subsets of a set\n",
    "def get_subsets(s):\n",
    "    return chain.from_iterable(combinations(s, r) for r in range(1, len(s)+1))\n",
    "\n",
    "\n",
    "# Generate the new list\n",
    "new_list = set()\n",
    "for item in frequent_itemsets['itemsets']:\n",
    "    if len(item) == 1:\n",
    "        new_list.add(item)\n",
    "    else:\n",
    "        subsets = map(frozenset, get_subsets(item))\n",
    "        new_list.update(subsets)\n",
    "        \n",
    "new_list = list(new_list)\n",
    "new_list = [list(item) for item in new_list]\n",
    "new_list"
   ]
  },
  {
   "cell_type": "code",
   "execution_count": 135,
   "metadata": {},
   "outputs": [
    {
     "data": {
      "text/plain": [
       "(['slp', 'trtbps', 'age', 'oldpeak', 'chol', 'caa', 'thalachh'], [])"
      ]
     },
     "execution_count": 135,
     "metadata": {},
     "output_type": "execute_result"
    }
   ],
   "source": [
    "univar_list, multivar_list = [], []\n",
    "for item in new_list:\n",
    "    if len(item) == 1:\n",
    "        univar_list.append(item[0])\n",
    "    else:\n",
    "        multivar_list.append(item)\n",
    "\n",
    "univar_list, multivar_list"
   ]
  },
  {
   "cell_type": "code",
   "execution_count": 136,
   "metadata": {},
   "outputs": [],
   "source": [
    "df = df[univar_list]"
   ]
  },
  {
   "cell_type": "code",
   "execution_count": 137,
   "metadata": {},
   "outputs": [
    {
     "data": {
      "text/html": [
       "<div>\n",
       "<style scoped>\n",
       "    .dataframe tbody tr th:only-of-type {\n",
       "        vertical-align: middle;\n",
       "    }\n",
       "\n",
       "    .dataframe tbody tr th {\n",
       "        vertical-align: top;\n",
       "    }\n",
       "\n",
       "    .dataframe thead th {\n",
       "        text-align: right;\n",
       "    }\n",
       "</style>\n",
       "<table border=\"1\" class=\"dataframe\">\n",
       "  <thead>\n",
       "    <tr style=\"text-align: right;\">\n",
       "      <th></th>\n",
       "      <th>slp</th>\n",
       "      <th>trtbps</th>\n",
       "      <th>age</th>\n",
       "      <th>oldpeak</th>\n",
       "      <th>chol</th>\n",
       "      <th>caa</th>\n",
       "      <th>thalachh</th>\n",
       "    </tr>\n",
       "  </thead>\n",
       "  <tbody>\n",
       "    <tr>\n",
       "      <th>123</th>\n",
       "      <td>True</td>\n",
       "      <td>False</td>\n",
       "      <td>False</td>\n",
       "      <td>False</td>\n",
       "      <td>True</td>\n",
       "      <td>False</td>\n",
       "      <td>True</td>\n",
       "    </tr>\n",
       "    <tr>\n",
       "      <th>251</th>\n",
       "      <td>False</td>\n",
       "      <td>True</td>\n",
       "      <td>False</td>\n",
       "      <td>False</td>\n",
       "      <td>True</td>\n",
       "      <td>True</td>\n",
       "      <td>False</td>\n",
       "    </tr>\n",
       "    <tr>\n",
       "      <th>159</th>\n",
       "      <td>True</td>\n",
       "      <td>False</td>\n",
       "      <td>True</td>\n",
       "      <td>False</td>\n",
       "      <td>False</td>\n",
       "      <td>False</td>\n",
       "      <td>True</td>\n",
       "    </tr>\n",
       "    <tr>\n",
       "      <th>122</th>\n",
       "      <td>True</td>\n",
       "      <td>False</td>\n",
       "      <td>False</td>\n",
       "      <td>False</td>\n",
       "      <td>True</td>\n",
       "      <td>False</td>\n",
       "      <td>True</td>\n",
       "    </tr>\n",
       "    <tr>\n",
       "      <th>27</th>\n",
       "      <td>True</td>\n",
       "      <td>False</td>\n",
       "      <td>False</td>\n",
       "      <td>False</td>\n",
       "      <td>False</td>\n",
       "      <td>False</td>\n",
       "      <td>False</td>\n",
       "    </tr>\n",
       "    <tr>\n",
       "      <th>...</th>\n",
       "      <td>...</td>\n",
       "      <td>...</td>\n",
       "      <td>...</td>\n",
       "      <td>...</td>\n",
       "      <td>...</td>\n",
       "      <td>...</td>\n",
       "      <td>...</td>\n",
       "    </tr>\n",
       "    <tr>\n",
       "      <th>147</th>\n",
       "      <td>True</td>\n",
       "      <td>True</td>\n",
       "      <td>True</td>\n",
       "      <td>True</td>\n",
       "      <td>False</td>\n",
       "      <td>False</td>\n",
       "      <td>True</td>\n",
       "    </tr>\n",
       "    <tr>\n",
       "      <th>50</th>\n",
       "      <td>True</td>\n",
       "      <td>False</td>\n",
       "      <td>False</td>\n",
       "      <td>False</td>\n",
       "      <td>True</td>\n",
       "      <td>False</td>\n",
       "      <td>False</td>\n",
       "    </tr>\n",
       "    <tr>\n",
       "      <th>175</th>\n",
       "      <td>False</td>\n",
       "      <td>False</td>\n",
       "      <td>False</td>\n",
       "      <td>True</td>\n",
       "      <td>False</td>\n",
       "      <td>False</td>\n",
       "      <td>False</td>\n",
       "    </tr>\n",
       "    <tr>\n",
       "      <th>298</th>\n",
       "      <td>False</td>\n",
       "      <td>True</td>\n",
       "      <td>True</td>\n",
       "      <td>False</td>\n",
       "      <td>True</td>\n",
       "      <td>False</td>\n",
       "      <td>False</td>\n",
       "    </tr>\n",
       "    <tr>\n",
       "      <th>180</th>\n",
       "      <td>False</td>\n",
       "      <td>True</td>\n",
       "      <td>False</td>\n",
       "      <td>True</td>\n",
       "      <td>True</td>\n",
       "      <td>True</td>\n",
       "      <td>False</td>\n",
       "    </tr>\n",
       "  </tbody>\n",
       "</table>\n",
       "<p>303 rows × 7 columns</p>\n",
       "</div>"
      ],
      "text/plain": [
       "       slp  trtbps    age  oldpeak   chol    caa  thalachh\n",
       "123   True   False  False    False   True  False      True\n",
       "251  False    True  False    False   True   True     False\n",
       "159   True   False   True    False  False  False      True\n",
       "122   True   False  False    False   True  False      True\n",
       "27    True   False  False    False  False  False     False\n",
       "..     ...     ...    ...      ...    ...    ...       ...\n",
       "147   True    True   True     True  False  False      True\n",
       "50    True   False  False    False   True  False     False\n",
       "175  False   False  False     True  False  False     False\n",
       "298  False    True   True    False   True  False     False\n",
       "180  False    True  False     True   True   True     False\n",
       "\n",
       "[303 rows x 7 columns]"
      ]
     },
     "execution_count": 137,
     "metadata": {},
     "output_type": "execute_result"
    }
   ],
   "source": [
    "for item in multivar_list:\n",
    "    # set it true if all the items in the itemset are true\n",
    "    df[str(item)] = df[item].all(axis=1)\n",
    "\n",
    "df"
   ]
  },
  {
   "cell_type": "code",
   "execution_count": 138,
   "metadata": {},
   "outputs": [
    {
     "name": "stdout",
     "output_type": "stream",
     "text": [
      "Init: initializing centroids\n",
      "Init: initializing clusters\n",
      "Starting iterations...\n",
      "Run 1, iteration: 1/100, moves: 0, cost: 626.0\n",
      "Init: initializing centroids\n",
      "Init: initializing clusters\n",
      "Starting iterations...\n",
      "Run 2, iteration: 1/100, moves: 84, cost: 572.0\n",
      "Run 2, iteration: 2/100, moves: 2, cost: 572.0\n",
      "Init: initializing centroids\n",
      "Init: initializing clusters\n",
      "Starting iterations...\n",
      "Run 3, iteration: 1/100, moves: 109, cost: 700.0\n",
      "Init: initializing centroids\n",
      "Init: initializing clusters\n",
      "Starting iterations...\n",
      "Run 4, iteration: 1/100, moves: 85, cost: 597.0\n",
      "Run 4, iteration: 2/100, moves: 4, cost: 597.0\n",
      "Init: initializing centroids\n",
      "Init: initializing clusters\n",
      "Starting iterations...\n",
      "Run 5, iteration: 1/100, moves: 76, cost: 572.0\n",
      "Best run was number 2\n"
     ]
    }
   ],
   "source": [
    "# importing necessary libraries \n",
    "import pandas as pd \n",
    "import numpy as np \n",
    "# !pip install kmodes \n",
    "from kmodes.kmodes import KModes \n",
    "import matplotlib.pyplot as plt \n",
    "%matplotlib inline \n",
    "\n",
    "# Building the model with 3 clusters \n",
    "kmode = KModes(n_clusters=2, init = \"random\", n_init = 5, verbose=1) \n",
    "clusters = kmode.fit_predict(df) \n",
    "# clusters"
   ]
  },
  {
   "cell_type": "code",
   "execution_count": 139,
   "metadata": {},
   "outputs": [
    {
     "data": {
      "text/plain": [
       "(array([0, 1, 0, 0, 0, 0, 1, 0, 1, 0, 1, 0, 1, 1, 1, 0, 0, 0, 0, 0, 0, 0,\n",
       "        1, 0, 1, 0, 1, 0, 0, 1, 0, 1, 0, 1, 0, 0, 0, 1, 0, 0, 0, 0, 0, 1,\n",
       "        1, 1, 0, 1, 0, 0, 0, 1, 0, 1, 0, 0, 0, 0, 0, 0, 1, 1, 1, 1, 0, 0,\n",
       "        1, 1, 1, 0, 0, 1, 0, 0, 0, 1, 0, 1, 0, 1, 1, 0, 0, 1, 1, 0, 1, 1,\n",
       "        0, 0, 1, 1, 0, 0, 1, 1, 0, 1, 0, 0, 0, 1, 1, 0, 1, 1, 1, 0, 0, 1,\n",
       "        0, 0, 1, 1, 0, 0, 0, 1, 0, 1, 0, 1, 1, 1, 0, 0, 0, 0, 1, 1, 1, 0,\n",
       "        1, 0, 0, 1, 0, 1, 0, 1, 0, 0, 0, 0, 1, 0, 0, 1, 1, 0, 0, 1, 1, 1,\n",
       "        0, 1, 0, 0, 0, 1, 1, 0, 1, 1, 1, 1, 1, 0, 0, 0, 1, 0, 1, 0, 0, 1,\n",
       "        1, 0, 0, 0, 1, 0, 1, 1, 0, 1, 1, 1, 0, 0, 1, 1, 1, 1, 0, 0, 1, 1,\n",
       "        1, 0, 0, 1, 1, 1, 0, 0, 0, 1, 0, 0, 1, 0, 0, 0, 0, 1, 0, 1, 0, 1,\n",
       "        1, 1, 0, 0, 0, 1, 0, 0, 1, 0, 1, 0, 0, 0, 0, 0, 0, 1, 0, 0, 0, 1,\n",
       "        0, 0, 1, 0, 0, 0, 1, 1, 1, 0, 0, 1, 1, 0, 0, 1, 1, 0, 1, 1, 1, 0,\n",
       "        1, 0, 1, 1, 0, 0, 0, 0, 0, 1, 1, 0, 0, 0, 1, 1, 0, 1, 0, 1, 1, 1,\n",
       "        0, 0, 1, 0, 1, 0, 0, 1, 1, 1, 1, 0, 0, 0, 0, 1, 1], dtype=uint16),\n",
       " array([1, 1, 1, 1, 1, 1, 1, 1, 1, 1, 1, 1, 1, 1, 1, 1, 1, 1, 1, 1, 1, 1,\n",
       "        1, 1, 1, 1, 1, 1, 1, 1, 1, 1, 1, 1, 1, 1, 1, 1, 1, 1, 1, 1, 1, 1,\n",
       "        1, 1, 1, 1, 1, 1, 1, 1, 1, 1, 1, 1, 1, 1, 1, 1, 1, 1, 1, 1, 1, 1,\n",
       "        1, 1, 1, 1, 1, 1, 1, 1, 1, 1, 1, 1, 1, 1, 1, 1, 1, 1, 1, 1, 1, 1,\n",
       "        1, 1, 1, 1, 1, 1, 1, 1, 1, 1, 1, 1, 1, 1, 1, 1, 1, 1, 1, 1, 1, 1,\n",
       "        1, 1, 1, 1, 1, 1, 1, 1, 1, 1, 1, 1, 1, 1, 1, 1, 1, 1, 1, 1, 1, 1,\n",
       "        1, 1, 1, 1, 1, 1, 1, 1, 1, 1, 1, 1, 1, 1, 1, 1, 1, 1, 1, 1, 1, 1,\n",
       "        1, 1, 1, 1, 1, 1, 1, 1, 1, 1, 1, 0, 0, 0, 0, 0, 0, 0, 0, 0, 0, 0,\n",
       "        0, 0, 0, 0, 0, 0, 0, 0, 0, 0, 0, 0, 0, 0, 0, 0, 0, 0, 0, 0, 0, 0,\n",
       "        0, 0, 0, 0, 0, 0, 0, 0, 0, 0, 0, 0, 0, 0, 0, 0, 0, 0, 0, 0, 0, 0,\n",
       "        0, 0, 0, 0, 0, 0, 0, 0, 0, 0, 0, 0, 0, 0, 0, 0, 0, 0, 0, 0, 0, 0,\n",
       "        0, 0, 0, 0, 0, 0, 0, 0, 0, 0, 0, 0, 0, 0, 0, 0, 0, 0, 0, 0, 0, 0,\n",
       "        0, 0, 0, 0, 0, 0, 0, 0, 0, 0, 0, 0, 0, 0, 0, 0, 0, 0, 0, 0, 0, 0,\n",
       "        0, 0, 0, 0, 0, 0, 0, 0, 0, 0, 0, 0, 0, 0, 0, 0, 0], dtype=int64))"
      ]
     },
     "execution_count": 139,
     "metadata": {},
     "output_type": "execute_result"
    }
   ],
   "source": [
    "clusters, target_df.values"
   ]
  },
  {
   "cell_type": "code",
   "execution_count": 140,
   "metadata": {},
   "outputs": [],
   "source": [
    "## mapping the clusters to target variable\n",
    "# new_clusters = []\n",
    "# for i in clusters:\n",
    "#     if i == 0:\n",
    "#         new_clusters.append(1)\n",
    "#     elif i == 1:\n",
    "#         new_clusters.append(0)\n",
    "#     else:\n",
    "#         new_clusters.append(2)"
   ]
  },
  {
   "cell_type": "code",
   "execution_count": 141,
   "metadata": {},
   "outputs": [
    {
     "data": {
      "text/plain": [
       "(303, 303)"
      ]
     },
     "execution_count": 141,
     "metadata": {},
     "output_type": "execute_result"
    }
   ],
   "source": [
    "len(clusters), len(target_df.values)"
   ]
  },
  {
   "cell_type": "code",
   "execution_count": 142,
   "metadata": {},
   "outputs": [
    {
     "data": {
      "text/plain": [
       "0.8258426966292135"
      ]
     },
     "execution_count": 142,
     "metadata": {},
     "output_type": "execute_result"
    }
   ],
   "source": [
    "(clusters == target_df.values).sum() / len(target.values)"
   ]
  },
  {
   "cell_type": "code",
   "execution_count": 143,
   "metadata": {},
   "outputs": [
    {
     "data": {
      "image/png": "[encoded data removed]",
      "text/plain": [
       "<Figure size 640x480 with 1 Axes>"
      ]
     },
     "metadata": {},
     "output_type": "display_data"
    }
   ],
   "source": [
    "import matplotlib.pyplot as plt\n",
    "from sklearn.decomposition import PCA\n",
    "\n",
    "# Reduce dimensionality for visualization (adjust n_components as needed)\n",
    "pca = PCA(n_components=2)\n",
    "trans_data_pca = pca.fit_transform(df)\n",
    "# Plot clusters in 2D\n",
    "plt.scatter(trans_data_pca[:, 0], trans_data_pca[:, 1], c=target_df, cmap='viridis')\n",
    "plt.title('Cluster Assignments')\n",
    "plt.show()"
   ]
  },
  {
   "cell_type": "code",
   "execution_count": 144,
   "metadata": {},
   "outputs": [
    {
     "data": {
      "text/plain": [
       "(array([ 0, -1, -1,  0,  1,  0,  2,  2,  2,  2,  2,  3, -1,  2,  2,  2,  2,\n",
       "        -1, -1,  2, -1,  4,  2,  2,  2, -1, -1,  4,  2, -1, -1, -1, -1,  2,\n",
       "         3,  3, -1, -1, -1,  2, -1, -1,  3,  5,  2, -1,  0, -1, -1, -1, -1,\n",
       "         2,  1,  2, -1, -1, -1,  2,  0, -1,  2,  2,  2,  2,  4, -1,  2, -1,\n",
       "         2,  3,  3, -1, -1,  2,  6,  2,  6,  2, -1,  2,  2,  0,  7,  2,  5,\n",
       "         6,  2,  2,  2,  0,  2, -1,  2,  2, -1, -1,  2, -1,  0,  7,  8, -1,\n",
       "         2,  2,  2,  2,  2,  2,  1,  2,  7,  0,  2,  5,  2,  2, -1,  2,  2,\n",
       "        -1, -1,  2,  2,  2,  0,  2,  2,  2,  2,  9, -1,  8,  2, -1,  2,  2,\n",
       "         0, -1, -1,  2,  2, -1,  2,  3,  2, -1,  3, -1,  2,  2,  2,  2,  2,\n",
       "         9,  2,  2, -1,  2,  6,  2,  2,  4,  2,  2, -1,  2, -1, -1,  2,  2,\n",
       "        -1,  2,  2, -1,  8, -1,  2, -1,  2, -1,  2,  3,  2,  9, -1,  2,  2,\n",
       "         2, -1,  3,  2,  2,  2,  2,  3, -1, -1,  2,  2,  3, -1,  2,  2, -1,\n",
       "         2,  3,  3, -1,  8,  2, -1,  6,  2, -1,  2, -1,  6, -1,  2,  2, -1,\n",
       "         2,  2, -1,  2,  2, -1, -1,  2, -1, -1, -1,  4,  6,  7,  1,  2,  2,\n",
       "        -1, -1,  2, -1,  2,  2,  5,  7, -1,  2, -1, -1,  2,  3, -1,  2, -1,\n",
       "         1,  0,  2,  2, -1, -1,  2,  2,  8,  2, -1, -1,  9, -1,  2,  3,  2,\n",
       "         0, -1,  5,  2,  3,  3,  2,  9,  0,  5,  2,  2, -1,  2,  4,  7,  2,\n",
       "         0,  5,  2,  0,  2,  2,  2,  2,  0,  2, -1,  6, -1,  2],\n",
       "       dtype=int64),\n",
       " array([1, 1, 1, 1, 1, 1, 1, 1, 1, 1, 1, 1, 1, 1, 1, 1, 1, 1, 1, 1, 1, 1,\n",
       "        1, 1, 1, 1, 1, 1, 1, 1, 1, 1, 1, 1, 1, 1, 1, 1, 1, 1, 1, 1, 1, 1,\n",
       "        1, 1, 1, 1, 1, 1, 1, 1, 1, 1, 1, 1, 1, 1, 1, 1, 1, 1, 1, 1, 1, 1,\n",
       "        1, 1, 1, 1, 1, 1, 1, 1, 1, 1, 1, 1, 1, 1, 1, 1, 1, 1, 1, 1, 1, 1,\n",
       "        1, 1, 1, 1, 1, 1, 1, 1, 1, 1, 1, 1, 1, 1, 1, 1, 1, 1, 1, 1, 1, 1,\n",
       "        1, 1, 1, 1, 1, 1, 1, 1, 1, 1, 1, 1, 1, 1, 1, 1, 1, 1, 1, 1, 1, 1,\n",
       "        1, 1, 1, 1, 1, 1, 1, 1, 1, 1, 1, 1, 1, 1, 1, 1, 1, 1, 1, 1, 1, 1,\n",
       "        1, 1, 1, 1, 1, 1, 1, 1, 1, 1, 1, 0, 0, 0, 0, 0, 0, 0, 0, 0, 0, 0,\n",
       "        0, 0, 0, 0, 0, 0, 0, 0, 0, 0, 0, 0, 0, 0, 0, 0, 0, 0, 0, 0, 0, 0,\n",
       "        0, 0, 0, 0, 0, 0, 0, 0, 0, 0, 0, 0, 0, 0, 0, 0, 0, 0, 0, 0, 0, 0,\n",
       "        0, 0, 0, 0, 0, 0, 0, 0, 0, 0, 0, 0, 0, 0, 0, 0, 0, 0, 0, 0, 0, 0,\n",
       "        0, 0, 0, 0, 0, 0, 0, 0, 0, 0, 0, 0, 0, 0, 0, 0, 0, 0, 0, 0, 0, 0,\n",
       "        0, 0, 0, 0, 0, 0, 0, 0, 0, 0, 0, 0, 0, 0, 0, 0, 0, 0, 0, 0, 0, 0,\n",
       "        0, 0, 0, 0, 0, 0, 0, 0, 0, 0, 0, 0, 0, 0, 0, 0, 0], dtype=int64))"
      ]
     },
     "execution_count": 144,
     "metadata": {},
     "output_type": "execute_result"
    }
   ],
   "source": [
    "from sklearn.cluster import DBSCAN\n",
    "from sklearn.metrics.pairwise import pairwise_distances\n",
    "from sklearn.decomposition import PCA\n",
    "import matplotlib.pyplot as plt\n",
    "\n",
    "# Assuming trans_data_features is your DataFrame\n",
    "# pca = PCA(n_components=2)\n",
    "# trans_data_features_pca = pca.fit_transform(trans_data_features)\n",
    "\n",
    "distance_matrix = pairwise_distances(df.values, metric='jaccard')\n",
    "\n",
    "dbscan = DBSCAN(eps=0.2, min_samples=5, metric='precomputed')\n",
    "dbscan_labels = dbscan.fit_predict(distance_matrix)\n",
    "\n",
    "# Visualize the clusters in 2D\n",
    "# plt.scatter(trans_data_features_pca[:, 0], trans_data_features_pca[:, 1], c=dbscan_labels, cmap='viridis')\n",
    "# plt.title('DBSCAN Clustering Results')\n",
    "# plt.show()\n",
    "dbscan_labels, target_df.values\n"
   ]
  },
  {
   "cell_type": "code",
   "execution_count": 145,
   "metadata": {},
   "outputs": [
    {
     "data": {
      "text/plain": [
       "(array([1, 0, 1, 1, 1, 1, 0, 1, 1, 1, 0, 1, 0, 0, 0, 1, 1, 0, 1, 1, 0, 0,\n",
       "        0, 1, 0, 0, 0, 0, 1, 0, 0, 0, 1, 0, 1, 1, 0, 0, 0, 1, 0, 0, 1, 0,\n",
       "        0, 0, 1, 0, 1, 1, 0, 0, 1, 0, 0, 0, 1, 1, 1, 0, 0, 0, 0, 0, 0, 0,\n",
       "        0, 0, 0, 1, 1, 0, 1, 1, 0, 0, 0, 1, 0, 0, 0, 1, 0, 0, 0, 0, 0, 0,\n",
       "        1, 1, 1, 0, 1, 1, 0, 0, 1, 0, 1, 0, 1, 0, 0, 1, 0, 0, 0, 1, 1, 0,\n",
       "        0, 1, 0, 0, 1, 1, 0, 0, 1, 0, 1, 0, 0, 1, 1, 1, 1, 1, 0, 0, 0, 1,\n",
       "        0, 1, 1, 0, 1, 0, 0, 0, 1, 0, 1, 1, 0, 0, 1, 0, 0, 1, 1, 0, 0, 0,\n",
       "        1, 0, 0, 1, 0, 0, 0, 0, 0, 0, 0, 0, 0, 0, 1, 1, 0, 1, 1, 1, 1, 0,\n",
       "        1, 0, 1, 0, 0, 1, 0, 0, 1, 0, 0, 0, 1, 1, 0, 0, 0, 1, 1, 0, 0, 0,\n",
       "        0, 1, 1, 0, 0, 0, 1, 1, 1, 0, 1, 1, 0, 0, 1, 0, 1, 0, 0, 0, 1, 1,\n",
       "        0, 0, 1, 1, 1, 0, 0, 0, 1, 0, 0, 0, 0, 0, 0, 1, 1, 1, 1, 0, 1, 0,\n",
       "        1, 1, 0, 0, 0, 1, 0, 0, 0, 1, 0, 0, 0, 1, 1, 0, 0, 0, 0, 0, 0, 1,\n",
       "        0, 0, 0, 0, 0, 1, 1, 1, 1, 0, 0, 1, 1, 1, 0, 0, 1, 0, 1, 0, 0, 0,\n",
       "        0, 0, 0, 1, 0, 1, 1, 0, 0, 0, 1, 1, 1, 1, 0, 0, 0], dtype=int64),\n",
       " array([1, 1, 1, 1, 1, 1, 1, 1, 1, 1, 1, 1, 1, 1, 1, 1, 1, 1, 1, 1, 1, 1,\n",
       "        1, 1, 1, 1, 1, 1, 1, 1, 1, 1, 1, 1, 1, 1, 1, 1, 1, 1, 1, 1, 1, 1,\n",
       "        1, 1, 1, 1, 1, 1, 1, 1, 1, 1, 1, 1, 1, 1, 1, 1, 1, 1, 1, 1, 1, 1,\n",
       "        1, 1, 1, 1, 1, 1, 1, 1, 1, 1, 1, 1, 1, 1, 1, 1, 1, 1, 1, 1, 1, 1,\n",
       "        1, 1, 1, 1, 1, 1, 1, 1, 1, 1, 1, 1, 1, 1, 1, 1, 1, 1, 1, 1, 1, 1,\n",
       "        1, 1, 1, 1, 1, 1, 1, 1, 1, 1, 1, 1, 1, 1, 1, 1, 1, 1, 1, 1, 1, 1,\n",
       "        1, 1, 1, 1, 1, 1, 1, 1, 1, 1, 1, 1, 1, 1, 1, 1, 1, 1, 1, 1, 1, 1,\n",
       "        1, 1, 1, 1, 1, 1, 1, 1, 1, 1, 1, 0, 0, 0, 0, 0, 0, 0, 0, 0, 0, 0,\n",
       "        0, 0, 0, 0, 0, 0, 0, 0, 0, 0, 0, 0, 0, 0, 0, 0, 0, 0, 0, 0, 0, 0,\n",
       "        0, 0, 0, 0, 0, 0, 0, 0, 0, 0, 0, 0, 0, 0, 0, 0, 0, 0, 0, 0, 0, 0,\n",
       "        0, 0, 0, 0, 0, 0, 0, 0, 0, 0, 0, 0, 0, 0, 0, 0, 0, 0, 0, 0, 0, 0,\n",
       "        0, 0, 0, 0, 0, 0, 0, 0, 0, 0, 0, 0, 0, 0, 0, 0, 0, 0, 0, 0, 0, 0,\n",
       "        0, 0, 0, 0, 0, 0, 0, 0, 0, 0, 0, 0, 0, 0, 0, 0, 0, 0, 0, 0, 0, 0,\n",
       "        0, 0, 0, 0, 0, 0, 0, 0, 0, 0, 0, 0, 0, 0, 0, 0, 0], dtype=int64))"
      ]
     },
     "execution_count": 145,
     "metadata": {},
     "output_type": "execute_result"
    }
   ],
   "source": [
    "from sklearn.cluster import AgglomerativeClustering\n",
    "aggloCluster = AgglomerativeClustering(n_clusters=2)\n",
    "labels = aggloCluster.fit_predict(df.values)\n",
    "labels,target_df.values"
   ]
  },
  {
   "cell_type": "code",
   "execution_count": 146,
   "metadata": {},
   "outputs": [
    {
     "name": "stdout",
     "output_type": "stream",
     "text": [
      "303\n"
     ]
    },
    {
     "ename": "KeyError",
     "evalue": "178",
     "output_type": "error",
     "traceback": [
      "\u001b[1;31m---------------------------------------------------------------------------\u001b[0m",
      "\u001b[1;31mKeyError\u001b[0m                                  Traceback (most recent call last)",
      "File \u001b[1;32mc:\\Users\\Ronan\\anaconda3\\envs\\dam\\Lib\\site-packages\\pandas\\core\\indexes\\base.py:3790\u001b[0m, in \u001b[0;36mIndex.get_loc\u001b[1;34m(self, key)\u001b[0m\n\u001b[0;32m   3789\u001b[0m \u001b[39mtry\u001b[39;00m:\n\u001b[1;32m-> 3790\u001b[0m     \u001b[39mreturn\u001b[39;00m \u001b[39mself\u001b[39;49m\u001b[39m.\u001b[39;49m_engine\u001b[39m.\u001b[39;49mget_loc(casted_key)\n\u001b[0;32m   3791\u001b[0m \u001b[39mexcept\u001b[39;00m \u001b[39mKeyError\u001b[39;00m \u001b[39mas\u001b[39;00m err:\n",
      "File \u001b[1;32mindex.pyx:152\u001b[0m, in \u001b[0;36mpandas._libs.index.IndexEngine.get_loc\u001b[1;34m()\u001b[0m\n",
      "File \u001b[1;32mindex.pyx:181\u001b[0m, in \u001b[0;36mpandas._libs.index.IndexEngine.get_loc\u001b[1;34m()\u001b[0m\n",
      "File \u001b[1;32mpandas\\_libs\\hashtable_class_helper.pxi:2606\u001b[0m, in \u001b[0;36mpandas._libs.hashtable.Int64HashTable.get_item\u001b[1;34m()\u001b[0m\n",
      "File \u001b[1;32mpandas\\_libs\\hashtable_class_helper.pxi:2630\u001b[0m, in \u001b[0;36mpandas._libs.hashtable.Int64HashTable.get_item\u001b[1;34m()\u001b[0m\n",
      "\u001b[1;31mKeyError\u001b[0m: 178",
      "\nThe above exception was the direct cause of the following exception:\n",
      "\u001b[1;31mKeyError\u001b[0m                                  Traceback (most recent call last)",
      "\u001b[1;32mc:\\NTU\\Y4S1\\DAM\\Code\\task 4\\FrequentMining\\task3.ipynb Cell 37\u001b[0m line \u001b[0;36m1\n\u001b[0;32m     <a href='vscode-notebook-cell:/c%3A/NTU/Y4S1/DAM/Code/task%204/FrequentMining/task3.ipynb#X52sZmlsZQ%3D%3D?line=12'>13</a>\u001b[0m     cluster_freq[\u001b[39m0\u001b[39m][target[i]]\u001b[39m+\u001b[39m\u001b[39m=\u001b[39m\u001b[39m1\u001b[39m\n\u001b[0;32m     <a href='vscode-notebook-cell:/c%3A/NTU/Y4S1/DAM/Code/task%204/FrequentMining/task3.ipynb#X52sZmlsZQ%3D%3D?line=13'>14</a>\u001b[0m \u001b[39mif\u001b[39;00m labels[i] \u001b[39m==\u001b[39m \u001b[39m1\u001b[39m:\n\u001b[1;32m---> <a href='vscode-notebook-cell:/c%3A/NTU/Y4S1/DAM/Code/task%204/FrequentMining/task3.ipynb#X52sZmlsZQ%3D%3D?line=14'>15</a>\u001b[0m     cluster_freq[\u001b[39m1\u001b[39m][target[i]]\u001b[39m+\u001b[39m\u001b[39m=\u001b[39m\u001b[39m1\u001b[39m\n\u001b[0;32m     <a href='vscode-notebook-cell:/c%3A/NTU/Y4S1/DAM/Code/task%204/FrequentMining/task3.ipynb#X52sZmlsZQ%3D%3D?line=15'>16</a>\u001b[0m \u001b[39mif\u001b[39;00m labels[i] \u001b[39m==\u001b[39m \u001b[39m2\u001b[39m:\n\u001b[0;32m     <a href='vscode-notebook-cell:/c%3A/NTU/Y4S1/DAM/Code/task%204/FrequentMining/task3.ipynb#X52sZmlsZQ%3D%3D?line=16'>17</a>\u001b[0m     cluster_freq[\u001b[39m2\u001b[39m][target[i]]\u001b[39m+\u001b[39m\u001b[39m=\u001b[39m\u001b[39m1\u001b[39m\n",
      "File \u001b[1;32mc:\\Users\\Ronan\\anaconda3\\envs\\dam\\Lib\\site-packages\\pandas\\core\\series.py:1040\u001b[0m, in \u001b[0;36mSeries.__getitem__\u001b[1;34m(self, key)\u001b[0m\n\u001b[0;32m   1037\u001b[0m     \u001b[39mreturn\u001b[39;00m \u001b[39mself\u001b[39m\u001b[39m.\u001b[39m_values[key]\n\u001b[0;32m   1039\u001b[0m \u001b[39melif\u001b[39;00m key_is_scalar:\n\u001b[1;32m-> 1040\u001b[0m     \u001b[39mreturn\u001b[39;00m \u001b[39mself\u001b[39;49m\u001b[39m.\u001b[39;49m_get_value(key)\n\u001b[0;32m   1042\u001b[0m \u001b[39m# Convert generator to list before going through hashable part\u001b[39;00m\n\u001b[0;32m   1043\u001b[0m \u001b[39m# (We will iterate through the generator there to check for slices)\u001b[39;00m\n\u001b[0;32m   1044\u001b[0m \u001b[39mif\u001b[39;00m is_iterator(key):\n",
      "File \u001b[1;32mc:\\Users\\Ronan\\anaconda3\\envs\\dam\\Lib\\site-packages\\pandas\\core\\series.py:1156\u001b[0m, in \u001b[0;36mSeries._get_value\u001b[1;34m(self, label, takeable)\u001b[0m\n\u001b[0;32m   1153\u001b[0m     \u001b[39mreturn\u001b[39;00m \u001b[39mself\u001b[39m\u001b[39m.\u001b[39m_values[label]\n\u001b[0;32m   1155\u001b[0m \u001b[39m# Similar to Index.get_value, but we do not fall back to positional\u001b[39;00m\n\u001b[1;32m-> 1156\u001b[0m loc \u001b[39m=\u001b[39m \u001b[39mself\u001b[39;49m\u001b[39m.\u001b[39;49mindex\u001b[39m.\u001b[39;49mget_loc(label)\n\u001b[0;32m   1158\u001b[0m \u001b[39mif\u001b[39;00m is_integer(loc):\n\u001b[0;32m   1159\u001b[0m     \u001b[39mreturn\u001b[39;00m \u001b[39mself\u001b[39m\u001b[39m.\u001b[39m_values[loc]\n",
      "File \u001b[1;32mc:\\Users\\Ronan\\anaconda3\\envs\\dam\\Lib\\site-packages\\pandas\\core\\indexes\\base.py:3797\u001b[0m, in \u001b[0;36mIndex.get_loc\u001b[1;34m(self, key)\u001b[0m\n\u001b[0;32m   3792\u001b[0m     \u001b[39mif\u001b[39;00m \u001b[39misinstance\u001b[39m(casted_key, \u001b[39mslice\u001b[39m) \u001b[39mor\u001b[39;00m (\n\u001b[0;32m   3793\u001b[0m         \u001b[39misinstance\u001b[39m(casted_key, abc\u001b[39m.\u001b[39mIterable)\n\u001b[0;32m   3794\u001b[0m         \u001b[39mand\u001b[39;00m \u001b[39many\u001b[39m(\u001b[39misinstance\u001b[39m(x, \u001b[39mslice\u001b[39m) \u001b[39mfor\u001b[39;00m x \u001b[39min\u001b[39;00m casted_key)\n\u001b[0;32m   3795\u001b[0m     ):\n\u001b[0;32m   3796\u001b[0m         \u001b[39mraise\u001b[39;00m InvalidIndexError(key)\n\u001b[1;32m-> 3797\u001b[0m     \u001b[39mraise\u001b[39;00m \u001b[39mKeyError\u001b[39;00m(key) \u001b[39mfrom\u001b[39;00m \u001b[39merr\u001b[39;00m\n\u001b[0;32m   3798\u001b[0m \u001b[39mexcept\u001b[39;00m \u001b[39mTypeError\u001b[39;00m:\n\u001b[0;32m   3799\u001b[0m     \u001b[39m# If we have a listlike key, _check_indexing_error will raise\u001b[39;00m\n\u001b[0;32m   3800\u001b[0m     \u001b[39m#  InvalidIndexError. Otherwise we fall through and re-raise\u001b[39;00m\n\u001b[0;32m   3801\u001b[0m     \u001b[39m#  the TypeError.\u001b[39;00m\n\u001b[0;32m   3802\u001b[0m     \u001b[39mself\u001b[39m\u001b[39m.\u001b[39m_check_indexing_error(key)\n",
      "\u001b[1;31mKeyError\u001b[0m: 178"
     ]
    }
   ],
   "source": [
    "cluster = []\n",
    "print(len(labels))\n",
    "for i in labels:\n",
    "    if i == 1:\n",
    "        cluster.append(2)\n",
    "    if i == 2:\n",
    "        cluster.append(1)\n",
    "    if i == 0:\n",
    "        cluster.append(0)\n",
    "cluster_freq = [[0,0,0],[0,0,0],[0,0,0]]\n",
    "for i in range(len(labels)):\n",
    "    if labels[i] == 0:\n",
    "        cluster_freq[0][target[i]]+=1\n",
    "    if labels[i] == 1:\n",
    "        cluster_freq[1][target[i]]+=1\n",
    "    if labels[i] == 2:\n",
    "        cluster_freq[2][target[i]]+=1\n",
    "\n",
    "print(cluster_freq)\n"
   ]
  },
  {
   "cell_type": "code",
   "execution_count": null,
   "metadata": {},
   "outputs": [
    {
     "data": {
      "text/plain": [
       "0.39325842696629215"
      ]
     },
     "execution_count": 99,
     "metadata": {},
     "output_type": "execute_result"
    }
   ],
   "source": [
    "(cluster == target_df.values).sum() / len(target.values)"
   ]
  },
  {
   "cell_type": "code",
   "execution_count": null,
   "metadata": {},
   "outputs": [
    {
     "name": "stdout",
     "output_type": "stream",
     "text": [
      "V measure Score: 7.579685641282572e-05\n",
      "Homogeneity Score: 7.557979018342769e-05\n",
      "Completeness Score: 7.601517306804366e-05\n",
      "Adjusted Rand Score: -0.0031974904806709365\n",
      "Adjusted Mutual Info Score: -0.0023293522032434215\n"
     ]
    }
   ],
   "source": [
    "from sklearn.metrics.cluster import adjusted_mutual_info_score\n",
    "from sklearn.metrics.cluster import adjusted_rand_score\n",
    "from sklearn.metrics.cluster import completeness_score\n",
    "from sklearn.metrics.cluster import homogeneity_score\n",
    "from sklearn.metrics.cluster import v_measure_score\n",
    "\n",
    "print(f\"V measure Score: {v_measure_score(cluster,target_df.values)}\")\n",
    "print(f\"Homogeneity Score: {homogeneity_score(cluster,target_df.values)}\")\n",
    "print(f\"Completeness Score: {completeness_score(cluster,target_df.values)}\")\n",
    "print(f\"Adjusted Rand Score: {adjusted_rand_score(cluster,target_df.values)}\")\n",
    "print(f\"Adjusted Mutual Info Score: {adjusted_mutual_info_score(cluster, target_df.values)}\")\n"
   ]
  }
 ],
 "metadata": {
  "kernelspec": {
   "display_name": "dam",
   "language": "python",
   "name": "python3"
  },
  "language_info": {
   "codemirror_mode": {
    "name": "ipython",
    "version": 3
   },
   "file_extension": ".py",
   "mimetype": "text/x-python",
   "name": "python",
   "nbconvert_exporter": "python",
   "pygments_lexer": "ipython3",
   "version": "3.11.4"
  }
 },
 "nbformat": 4,
 "nbformat_minor": 2
}
